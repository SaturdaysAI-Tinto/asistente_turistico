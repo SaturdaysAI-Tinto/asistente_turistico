{
 "cells": [
  {
   "cell_type": "code",
   "execution_count": 35,
   "metadata": {},
   "outputs": [],
   "source": [
    "import json\n",
    "import requests\n",
    "import pandas as pd\n",
    "from time import sleep"
   ]
  },
  {
   "cell_type": "code",
   "execution_count": 2,
   "metadata": {},
   "outputs": [],
   "source": [
    "api_key = '74727360e80089ef584fa744cc9306093b3ff2ed'"
   ]
  },
  {
   "cell_type": "markdown",
   "metadata": {},
   "source": [
    "# Datos"
   ]
  },
  {
   "cell_type": "code",
   "execution_count": 9,
   "metadata": {},
   "outputs": [],
   "source": [
    "df = pd.read_csv('D:/Analytics/AI_Saturdays/proyecto/codigo/data/place_id.csv')"
   ]
  },
  {
   "cell_type": "markdown",
   "metadata": {},
   "source": [
    "# Extracción"
   ]
  },
  {
   "cell_type": "code",
   "execution_count": 23,
   "metadata": {},
   "outputs": [],
   "source": [
    "def reviews_extraction(place_id:str, offset: int, api_key:str):\n",
    "    endpoint_url = \"https://wextractor.com/api/v1/reviews\"\n",
    "\n",
    "    params = {\n",
    "        'auth_token': api_key,\n",
    "        'id': place_id,\n",
    "        'offset': offset,\n",
    "        'sort': 'recency'\n",
    "    }\n",
    "    res = requests.get(endpoint_url, params = params)\n",
    "    results =  json.loads(res.content)\n",
    "    return results"
   ]
  },
  {
   "cell_type": "code",
   "execution_count": 15,
   "metadata": {},
   "outputs": [],
   "source": [
    "reviews_df = pd.DataFrame()\n",
    "\n",
    "for i in range(0, len(df)):\n",
    "    for j in range(0, 18):\n",
    "        offset = j*10\n",
    "        reviews = reviews_extraction(df['place_id_2'][i], offset, api_key)\n",
    "        df_temp = pd.DataFrame(reviews['reviews'])\n",
    "        df_temp['place_id'] = df['place_id_2'][i]\n",
    "\n",
    "        reviews_df = pd.concat([reviews_df, df_temp])\n",
    "        \n",
    "        if len(reviews['reviews'])<10:\n",
    "            break\n",
    "\n",
    "        sleep(1)"
   ]
  },
  {
   "cell_type": "code",
   "execution_count": 43,
   "metadata": {},
   "outputs": [],
   "source": [
    "reviews_df.to_csv('reviews_google.csv', index=False)"
   ]
  },
  {
   "cell_type": "code",
   "execution_count": 50,
   "metadata": {
    "scrolled": true
   },
   "outputs": [],
   "source": []
  }
 ],
 "metadata": {
  "kernelspec": {
   "display_name": "Python 3",
   "language": "python",
   "name": "python3"
  },
  "language_info": {
   "codemirror_mode": {
    "name": "ipython",
    "version": 3
   },
   "file_extension": ".py",
   "mimetype": "text/x-python",
   "name": "python",
   "nbconvert_exporter": "python",
   "pygments_lexer": "ipython3",
   "version": "3.7.6"
  }
 },
 "nbformat": 4,
 "nbformat_minor": 4
}
