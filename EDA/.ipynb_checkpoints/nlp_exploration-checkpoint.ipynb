{
 "cells": [
  {
   "cell_type": "code",
   "execution_count": 1,
   "metadata": {},
   "outputs": [],
   "source": [
    "import pandas as pd\n",
    "import numpy as np\n",
    "import os\n",
    "import ast\n",
    "import nltk\n",
    "import re\n",
    "import unidecode\n",
    "from nltk.corpus import stopwords"
   ]
  },
  {
   "cell_type": "code",
   "execution_count": 2,
   "metadata": {},
   "outputs": [],
   "source": [
    "stop_words = nltk.corpus.stopwords.words('spanish')"
   ]
  },
  {
   "cell_type": "markdown",
   "metadata": {},
   "source": [
    "# Datos"
   ]
  },
  {
   "cell_type": "code",
   "execution_count": 3,
   "metadata": {},
   "outputs": [],
   "source": [
    "#Subir un directorio\n",
    "os.chdir(\"..\")"
   ]
  },
  {
   "cell_type": "code",
   "execution_count": 4,
   "metadata": {},
   "outputs": [],
   "source": [
    "df = pd.read_csv('data/places_reviews_processed.csv')\n",
    "df_1 = pd.read_csv('data/places_types.csv')"
   ]
  },
  {
   "cell_type": "markdown",
   "metadata": {},
   "source": [
    "# Formato"
   ]
  },
  {
   "cell_type": "code",
   "execution_count": 5,
   "metadata": {},
   "outputs": [],
   "source": [
    "df = df[['place_id', 'url', 'text']]"
   ]
  },
  {
   "cell_type": "code",
   "execution_count": 6,
   "metadata": {},
   "outputs": [],
   "source": [
    "df = pd.merge(df, df_1, how='left', on='place_id')"
   ]
  },
  {
   "cell_type": "code",
   "execution_count": 7,
   "metadata": {},
   "outputs": [],
   "source": [
    "df = df.dropna()"
   ]
  },
  {
   "cell_type": "code",
   "execution_count": 8,
   "metadata": {},
   "outputs": [
    {
     "data": {
      "text/plain": [
       "array(['Museo', 'Comida mexicana', 'Templo', 'Teatro', 'Ecoturismo',\n",
       "       'Pirámides'], dtype=object)"
      ]
     },
     "execution_count": 8,
     "metadata": {},
     "output_type": "execute_result"
    }
   ],
   "source": [
    "df['tipo_lugar'].unique()"
   ]
  },
  {
   "cell_type": "markdown",
   "metadata": {},
   "source": [
    "# Temática: Restaurantes"
   ]
  },
  {
   "cell_type": "code",
   "execution_count": 9,
   "metadata": {},
   "outputs": [],
   "source": [
    "restaurantes = df[df['tipo_lugar']=='Comida mexicana']"
   ]
  },
  {
   "cell_type": "code",
   "execution_count": 10,
   "metadata": {},
   "outputs": [],
   "source": [
    "corpus = restaurantes.text\n",
    "data_corpus = restaurantes[['place_id', 'url']]"
   ]
  },
  {
   "cell_type": "markdown",
   "metadata": {},
   "source": [
    "# Análisis"
   ]
  },
  {
   "cell_type": "markdown",
   "metadata": {},
   "source": [
    "### Limpiar el texto"
   ]
  },
  {
   "cell_type": "code",
   "execution_count": 9,
   "metadata": {},
   "outputs": [],
   "source": [
    "def doClean(text):   \n",
    "    \n",
    "    # Quitar las expresiones entre llaves que denotan las partes de la canción\n",
    "    a = re.sub(r'\\[.+\\]', ' ', str(text))\n",
    "    # Quitar las aclaraciones entre paréntesis\n",
    "    a = re.sub(r'\\(.+\\)', ' ', str(a))\n",
    "    # Quitar acentos \n",
    "    a = unidecode.unidecode(a)\n",
    "    # Quitar aquello que no sean palabras o cosa que se le parezca\n",
    "    a = re.sub(r'\\W', ' ', a)\n",
    "    # Quitar espacios extra en caso de haber\n",
    "    a = re.sub(r'\\s+', ' ', a, flags=re.I)\n",
    "    # Pasar el texto a minúsulas\n",
    "    a = a.lower()\n",
    "    # retirar stopwords\n",
    "    a = a.split()\n",
    "    a = [ word for word in a if word not in stopwords.words('spanish')]\n",
    "    a = \" \".join(a)\n",
    "\n",
    "    return a"
   ]
  },
  {
   "cell_type": "code",
   "execution_count": 12,
   "metadata": {},
   "outputs": [],
   "source": [
    "corpus_clean = corpus.apply(doClean)"
   ]
  },
  {
   "cell_type": "markdown",
   "metadata": {},
   "source": [
    "# TF-IDF Model"
   ]
  },
  {
   "cell_type": "code",
   "execution_count": 294,
   "metadata": {},
   "outputs": [],
   "source": [
    "from sklearn.feature_extraction.text import TfidfVectorizer"
   ]
  },
  {
   "cell_type": "code",
   "execution_count": 13,
   "metadata": {},
   "outputs": [],
   "source": [
    "from sklearn.feature_extraction.text import TfidfVectorizer\n",
    "\n",
    "tv = TfidfVectorizer(min_df=0., max_df=.9, use_idf=True, max_features=300)\n",
    "tv_matrix = tv.fit_transform(corpus_clean)\n",
    "tv_matrix = tv_matrix.toarray()\n",
    "\n",
    "vocab = tv.get_feature_names()\n",
    "prueba = pd.DataFrame(np.round(tv_matrix, 2), columns=vocab)"
   ]
  },
  {
   "cell_type": "code",
   "execution_count": 14,
   "metadata": {},
   "outputs": [],
   "source": [
    "# Conteo de veces que aparecen palabras claves\n",
    "comida_words = ['buen', 'buena', 'buenas', 'bueno', 'buenos', 'calidad', 'delicia', 'deliciosa', 'deliciosas',\n",
    "                'delicioso', 'deliciosos', 'delicious', 'exquisito', 'presentacion', 'rica', 'ricas',\n",
    "                'rico', 'ricos', 'riquisima', 'riquisimo', 'sabor', 'sabores', 'sabroso', 'sazon']\n",
    "servicio_words = ['amable', 'amables', 'atencion', 'atento', 'atentos', 'atienden', 'limpieza', 'higiene', \n",
    "                 'limpio', 'rapido', 'service', 'servicio']\n",
    "ambiente_words = ['acogedor', 'agradable', 'ambiente', 'bonito', 'decoracion', \n",
    "                  'familiar', 'musica', 'tranquilo']\n",
    "satisfaccion_words = ['encanta', 'encanto', 'espectacular', 'especial', 'espectacular', 'excelente',\n",
    "                      'excelentes', 'exelente', 'good', 'great', 'increible', 'nice', 'recomendable',\n",
    "                     'recomendable', 'recomendado', 'recomiendo']\n",
    "specials_words = ['barbacoa', 'birria', 'carne', 'carnitas', 'chocolate', 'cochinita', 'enchiladas', \n",
    "                  'mariscos', 'mole', 'nogada', 'pozole', 'tacos', 'tortas', \n",
    "                 'yucateca']"
   ]
  },
  {
   "cell_type": "code",
   "execution_count": 15,
   "metadata": {},
   "outputs": [],
   "source": [
    "corpus_clean_df = pd.DataFrame(corpus_clean)"
   ]
  },
  {
   "cell_type": "code",
   "execution_count": 16,
   "metadata": {},
   "outputs": [],
   "source": [
    "#Reser index \n",
    "corpus_clean_df = corpus_clean_df.reset_index()"
   ]
  },
  {
   "cell_type": "code",
   "execution_count": 17,
   "metadata": {},
   "outputs": [],
   "source": [
    "corpus_clean_df_2 = corpus_clean_df.copy()"
   ]
  },
  {
   "cell_type": "code",
   "execution_count": 18,
   "metadata": {},
   "outputs": [],
   "source": [
    "#Columnas\n",
    "corpus_clean_df_2['comida'] = float('nan')\n",
    "corpus_clean_df_2['servicio'] = float('nan')\n",
    "corpus_clean_df_2['ambiente'] = float('nan')\n",
    "corpus_clean_df_2['satisfaccion'] = float('nan')\n",
    "corpus_clean_df_2['specials'] = ''"
   ]
  },
  {
   "cell_type": "code",
   "execution_count": 19,
   "metadata": {},
   "outputs": [],
   "source": [
    "for i in range(0, len(corpus_clean_df)):\n",
    "    res = corpus_clean_df['text'][i].split()\n",
    "    #Counters\n",
    "    comida_counter = 0\n",
    "    service_counter = 0\n",
    "    ambiente_counter = 0\n",
    "    satisfaccion_counter = 0\n",
    "    specials = []\n",
    "    for j in res:\n",
    "        if j in comida_words:\n",
    "            comida_counter = comida_counter+1\n",
    "        if j in servicio_words:\n",
    "            service_counter = service_counter+1\n",
    "        if j in ambiente_words:\n",
    "            ambiente_counter = ambiente_counter+1\n",
    "        if j in satisfaccion_words:\n",
    "            satisfaccion_counter = satisfaccion_counter+1\n",
    "        if j in specials_words:\n",
    "            specials.append(j)\n",
    "    \n",
    "    #Asignar valores\n",
    "    corpus_clean_df_2.iloc[i, corpus_clean_df_2.columns.get_loc('comida')] = comida_counter\n",
    "    corpus_clean_df_2.iloc[i, corpus_clean_df_2.columns.get_loc('servicio')] = service_counter\n",
    "    corpus_clean_df_2.iloc[i, corpus_clean_df_2.columns.get_loc('ambiente')] = ambiente_counter\n",
    "    corpus_clean_df_2.iloc[i, corpus_clean_df_2.columns.get_loc('satisfaccion')] = satisfaccion_counter\n",
    "    \n",
    "    specials_concatenation = '-'.join(specials)\n",
    "    corpus_clean_df_2.iloc[i, corpus_clean_df_2.columns.get_loc('specials')] = specials_concatenation"
   ]
  },
  {
   "cell_type": "code",
   "execution_count": 20,
   "metadata": {},
   "outputs": [],
   "source": [
    "# Unir con datos de los restaurantes\n",
    "corpus_clean_df_2 = corpus_clean_df_2.set_index('index')"
   ]
  },
  {
   "cell_type": "code",
   "execution_count": 21,
   "metadata": {},
   "outputs": [],
   "source": [
    "restaurantes_final = pd.merge(data_corpus, corpus_clean_df_2, how='left', left_index=True,\n",
    "                              right_index=True)"
   ]
  },
  {
   "cell_type": "markdown",
   "metadata": {},
   "source": [
    "## Agrupar a nivel restaurante "
   ]
  },
  {
   "cell_type": "code",
   "execution_count": 22,
   "metadata": {},
   "outputs": [],
   "source": [
    "restaurantes_final_2 = pd.DataFrame()\n",
    "place_id = restaurantes_final['place_id'].unique().tolist()"
   ]
  },
  {
   "cell_type": "code",
   "execution_count": 23,
   "metadata": {},
   "outputs": [],
   "source": [
    "for i in place_id:\n",
    "    df_temp = restaurantes_final[restaurantes_final['place_id']==i]\n",
    "    df_temp_2 = df_temp.copy()\n",
    "    \n",
    "    df_temp_2_grouped = df_temp_2.groupby('place_id').agg({'url':'count',\n",
    "                                                           'comida':'sum',\n",
    "                                                           'servicio':'sum',\n",
    "                                                           'ambiente':'sum',\n",
    "                                                           'satisfaccion':'sum',\n",
    "                                                          })\n",
    "    \n",
    "    temp_list = []\n",
    "    for j in df_temp_2['specials']:\n",
    "        if j == '':\n",
    "            None\n",
    "        else:\n",
    "            temp_list.append(j)\n",
    "    #Separar los specials\n",
    "    temp = []\n",
    "    for element in temp_list:\n",
    "        splitted = element.split(\"-\")\n",
    "        for word in splitted:\n",
    "            temp.append(word)\n",
    "    #Obtener specials únicos\n",
    "    myset = set(temp)\n",
    "    specials_uniques = list(myset)\n",
    "    #Concatenar en un sólo string\n",
    "    specials_uniques_concatenation = '-'.join(specials_uniques)\n",
    "    #Crear variable\n",
    "    df_temp_2_grouped['specials'] = specials_uniques_concatenation\n",
    "    \n",
    "    restaurantes_final_2 = pd.concat([restaurantes_final_2, df_temp_2_grouped])"
   ]
  },
  {
   "cell_type": "code",
   "execution_count": 24,
   "metadata": {},
   "outputs": [],
   "source": [
    "restaurantes_final_2 = restaurantes_final_2.rename(columns={'url': 'conteo_reviews'})"
   ]
  },
  {
   "cell_type": "code",
   "execution_count": 25,
   "metadata": {},
   "outputs": [],
   "source": [
    "restaurantes_final_2['comida_norm'] = restaurantes_final_2['comida']/restaurantes_final_2['conteo_reviews']\n",
    "restaurantes_final_2['servicio_norm'] = restaurantes_final_2['servicio']/restaurantes_final_2['conteo_reviews']\n",
    "restaurantes_final_2['ambiente_norm'] = restaurantes_final_2['ambiente']/restaurantes_final_2['conteo_reviews']\n",
    "restaurantes_final_2['satisfaccion_norm'] = restaurantes_final_2['satisfaccion']/restaurantes_final_2['conteo_reviews']"
   ]
  },
  {
   "cell_type": "markdown",
   "metadata": {},
   "source": [
    "# Guardar análisis"
   ]
  },
  {
   "cell_type": "code",
   "execution_count": 27,
   "metadata": {},
   "outputs": [],
   "source": [
    "restaurantes_final_2.to_csv('data/restaurants_classification.csv')"
   ]
  },
  {
   "cell_type": "markdown",
   "metadata": {},
   "source": [
    "# Ecoturismo"
   ]
  },
  {
   "cell_type": "code",
   "execution_count": 10,
   "metadata": {},
   "outputs": [],
   "source": [
    "ecoturismo = df[df['tipo_lugar']=='Ecoturismo']"
   ]
  },
  {
   "cell_type": "code",
   "execution_count": 290,
   "metadata": {},
   "outputs": [],
   "source": [
    "corpus = ecoturismo.text\n",
    "data_corpus = ecoturismo[['place_id', 'url']]"
   ]
  },
  {
   "cell_type": "code",
   "execution_count": 15,
   "metadata": {},
   "outputs": [],
   "source": [
    "corpus = corpus.reset_index()"
   ]
  },
  {
   "cell_type": "code",
   "execution_count": 20,
   "metadata": {},
   "outputs": [],
   "source": [
    "from numpy import random"
   ]
  },
  {
   "cell_type": "code",
   "execution_count": 156,
   "metadata": {},
   "outputs": [
    {
     "data": {
      "text/plain": [
       "469"
      ]
     },
     "execution_count": 156,
     "metadata": {},
     "output_type": "execute_result"
    }
   ],
   "source": [
    "random.randint(2202)"
   ]
  },
  {
   "cell_type": "code",
   "execution_count": 289,
   "metadata": {},
   "outputs": [
    {
     "data": {
      "text/plain": [
       "'Muy hermoso'"
      ]
     },
     "execution_count": 289,
     "metadata": {},
     "output_type": "execute_result"
    }
   ],
   "source": [
    "random.randint(2202)\n",
    "corpus.iloc[random.randint(2202)]['text']"
   ]
  },
  {
   "cell_type": "markdown",
   "metadata": {},
   "source": [
    "### Limpiar texto"
   ]
  },
  {
   "cell_type": "code",
   "execution_count": 291,
   "metadata": {},
   "outputs": [],
   "source": [
    "corpus_clean = corpus.apply(doClean)"
   ]
  },
  {
   "cell_type": "markdown",
   "metadata": {},
   "source": [
    "### Modelo"
   ]
  },
  {
   "cell_type": "code",
   "execution_count": 295,
   "metadata": {},
   "outputs": [],
   "source": [
    "tv = TfidfVectorizer(min_df=0., max_df=.7, use_idf=True, max_features=200)\n",
    "tv_matrix = tv.fit_transform(corpus_clean)\n",
    "tv_matrix = tv_matrix.toarray()\n",
    "\n",
    "vocab = tv.get_feature_names()\n",
    "prueba = pd.DataFrame(np.round(tv_matrix, 2), columns=vocab)"
   ]
  },
  {
   "cell_type": "code",
   "execution_count": 296,
   "metadata": {},
   "outputs": [],
   "source": [
    "#Crear diccionario\n",
    "actividades = ['acampar','actividades', 'alimentos','animales','atracciones','bici','bicicleta','cabanas'\n",
    "               'correr','divertido','ejercicio', 'instalaciones','juegos','lago', 'pasear','tirolesa']\n",
    "recomendado = ['agradable','amable', 'atencion','bello','bello', 'bien','bonito','buena', 'buenas',\n",
    "               'bueno','buenos', 'calidad','disfrutar','encanta', 'encanto', 'excelente', 'exelente',\n",
    "              'genial','great','gusta', 'gusto','hermosa','hermoso', 'increible','lindo',\n",
    "               'magico', 'maravilloso','perfecto', 'recomendable','recomendado', 'recomiendo','servicio']\n",
    "naturaleza = ['amplio','bosque', 'cabanas','caminar','correr', 'fresco', 'lago', 'tirolesa',\n",
    "              'grande','lago','naturaleza', 'natural','paisaje','paisajes', 'parque','peces','relajarse',\n",
    "             'aire', 'rancho', 'caminatas']\n",
    "familiar = ['familia','familiar','relajarse', 'descansar', 'niños', 'seguridad','relajado',\n",
    "            'sanidad', 'limpio','amigos', 'convivir']\n",
    "specials_words = ['acampar','animales', 'bici','bicicleta','cabanas', 'lago','peces','tirolesa']"
   ]
  },
  {
   "cell_type": "code",
   "execution_count": 297,
   "metadata": {},
   "outputs": [],
   "source": [
    "corpus_clean_df = pd.DataFrame(corpus_clean)"
   ]
  },
  {
   "cell_type": "code",
   "execution_count": 298,
   "metadata": {},
   "outputs": [],
   "source": [
    "#Reser index \n",
    "corpus_clean_df = corpus_clean_df.reset_index()"
   ]
  },
  {
   "cell_type": "code",
   "execution_count": 299,
   "metadata": {},
   "outputs": [],
   "source": [
    "corpus_clean_df_2 = corpus_clean_df.copy()"
   ]
  },
  {
   "cell_type": "code",
   "execution_count": 300,
   "metadata": {},
   "outputs": [],
   "source": [
    "#Columnas\n",
    "corpus_clean_df_2['actividades'] = float('nan')\n",
    "corpus_clean_df_2['recomendado'] = float('nan')\n",
    "corpus_clean_df_2['naturaleza'] = float('nan')\n",
    "corpus_clean_df_2['familiar'] = float('nan')\n",
    "corpus_clean_df_2['specials'] = ''"
   ]
  },
  {
   "cell_type": "code",
   "execution_count": 301,
   "metadata": {},
   "outputs": [],
   "source": [
    "for i in range(0, len(corpus_clean_df)):\n",
    "    res = corpus_clean_df['text'][i].split()\n",
    "    #Counters\n",
    "    counter_1 = 0\n",
    "    counter_2 = 0\n",
    "    counter_3 = 0\n",
    "    counter_4 = 0\n",
    "    specials = []\n",
    "    for j in res:\n",
    "        if j in actividades:\n",
    "            counter_1 = counter_1+1\n",
    "        if j in recomendado:\n",
    "            counter_2 = counter_2+1\n",
    "        if j in naturaleza:\n",
    "            counter_3 = counter_3+1\n",
    "        if j in familiar:\n",
    "            counter_4 = counter_4+1\n",
    "        if j in specials_words:\n",
    "            specials.append(j)\n",
    "    \n",
    "    #Asignar valores\n",
    "    corpus_clean_df_2.iloc[i, corpus_clean_df_2.columns.get_loc('actividades')] = counter_1\n",
    "    corpus_clean_df_2.iloc[i, corpus_clean_df_2.columns.get_loc('recomendado')] = counter_2\n",
    "    corpus_clean_df_2.iloc[i, corpus_clean_df_2.columns.get_loc('naturaleza')] = counter_3\n",
    "    corpus_clean_df_2.iloc[i, corpus_clean_df_2.columns.get_loc('familiar')] = counter_4\n",
    "    \n",
    "    specials_concatenation = '-'.join(specials)\n",
    "    corpus_clean_df_2.iloc[i, corpus_clean_df_2.columns.get_loc('specials')] = specials_concatenation"
   ]
  },
  {
   "cell_type": "code",
   "execution_count": 302,
   "metadata": {},
   "outputs": [],
   "source": [
    "# Unir con datos de los lugares\n",
    "corpus_clean_df_2 = corpus_clean_df_2.set_index('index')"
   ]
  },
  {
   "cell_type": "code",
   "execution_count": 303,
   "metadata": {},
   "outputs": [],
   "source": [
    "ecoturismo_final = pd.merge(data_corpus, corpus_clean_df_2, how='left', left_index=True,\n",
    "                              right_index=True)"
   ]
  },
  {
   "cell_type": "markdown",
   "metadata": {},
   "source": [
    "# Agrupar"
   ]
  },
  {
   "cell_type": "code",
   "execution_count": 304,
   "metadata": {},
   "outputs": [],
   "source": [
    "ecoturismo_final_2 = pd.DataFrame()\n",
    "place_id = ecoturismo_final['place_id'].unique().tolist()"
   ]
  },
  {
   "cell_type": "code",
   "execution_count": 305,
   "metadata": {},
   "outputs": [],
   "source": [
    "for i in place_id:\n",
    "    df_temp = ecoturismo_final[ecoturismo_final['place_id']==i]\n",
    "    df_temp_2 = df_temp.copy()\n",
    "    \n",
    "    df_temp_2_grouped = df_temp_2.groupby('place_id').agg({'url':'count',\n",
    "                                                           'actividades':'sum',\n",
    "                                                           'recomendado':'sum',\n",
    "                                                           'naturaleza':'sum',\n",
    "                                                           'familiar':'sum'\n",
    "                                                          })\n",
    "    \n",
    "    temp_list = []\n",
    "    for j in df_temp_2['specials']:\n",
    "        if j == '':\n",
    "            None\n",
    "        else:\n",
    "            temp_list.append(j)\n",
    "    #Separar los specials\n",
    "    temp = []\n",
    "    for element in temp_list:\n",
    "        splitted = element.split(\"-\")\n",
    "        for word in splitted:\n",
    "            temp.append(word)\n",
    "    #Obtener specials únicos\n",
    "    myset = set(temp)\n",
    "    specials_uniques = list(myset)\n",
    "    #Concatenar en un sólo string\n",
    "    specials_uniques_concatenation = '-'.join(specials_uniques)\n",
    "    #Crear variable\n",
    "    df_temp_2_grouped['specials'] = specials_uniques_concatenation\n",
    "    \n",
    "    ecoturismo_final_2 = pd.concat([ecoturismo_final_2, df_temp_2_grouped])"
   ]
  },
  {
   "cell_type": "code",
   "execution_count": 306,
   "metadata": {},
   "outputs": [],
   "source": [
    "ecoturismo_final_2 = ecoturismo_final_2.rename(columns={'url': 'conteo_reviews'})"
   ]
  },
  {
   "cell_type": "code",
   "execution_count": 307,
   "metadata": {},
   "outputs": [],
   "source": [
    "# Normalizar\n",
    "ecoturismo_final_2['actividades_norm'] = ecoturismo_final_2['actividades']/ecoturismo_final_2['conteo_reviews']\n",
    "ecoturismo_final_2['recomendado_norm'] = ecoturismo_final_2['recomendado']/ecoturismo_final_2['conteo_reviews']\n",
    "ecoturismo_final_2['naturaleza_norm'] = ecoturismo_final_2['naturaleza']/ecoturismo_final_2['conteo_reviews']\n",
    "ecoturismo_final_2['familiar_norm'] = ecoturismo_final_2['familiar']/ecoturismo_final_2['conteo_reviews']"
   ]
  },
  {
   "cell_type": "markdown",
   "metadata": {},
   "source": [
    "### Guardar"
   ]
  },
  {
   "cell_type": "code",
   "execution_count": 309,
   "metadata": {},
   "outputs": [],
   "source": [
    "ecoturismo_final_2.to_csv('data/ecoturismo_classification.csv')"
   ]
  },
  {
   "cell_type": "markdown",
   "metadata": {},
   "source": [
    "# Cultural"
   ]
  },
  {
   "cell_type": "code",
   "execution_count": 310,
   "metadata": {},
   "outputs": [],
   "source": [
    "list_ = ['Museo', 'Templo', 'Teatro', 'Pirámides']"
   ]
  },
  {
   "cell_type": "code",
   "execution_count": 311,
   "metadata": {},
   "outputs": [],
   "source": [
    "cultural = df[df['tipo_lugar'].isin(list_)]"
   ]
  },
  {
   "cell_type": "code",
   "execution_count": 312,
   "metadata": {},
   "outputs": [],
   "source": [
    "corpus = cultural.text\n",
    "data_corpus = cultural[['place_id', 'url']]"
   ]
  },
  {
   "cell_type": "code",
   "execution_count": 313,
   "metadata": {},
   "outputs": [],
   "source": [
    "corpus = corpus.reset_index()"
   ]
  },
  {
   "cell_type": "code",
   "execution_count": 555,
   "metadata": {},
   "outputs": [
    {
     "data": {
      "text/plain": [
       "'Un lugar obligado a visitar, muy fácil y rápido de llegar, cuentan con estacionamiento, los restaurantes de la zona, son geniales.'"
      ]
     },
     "execution_count": 555,
     "metadata": {},
     "output_type": "execute_result"
    }
   ],
   "source": [
    "random.randint(2202)\n",
    "corpus.iloc[random.randint(10328)]['text']"
   ]
  },
  {
   "cell_type": "code",
   "execution_count": 362,
   "metadata": {},
   "outputs": [
    {
     "data": {
      "text/html": [
       "<div>\n",
       "<style scoped>\n",
       "    .dataframe tbody tr th:only-of-type {\n",
       "        vertical-align: middle;\n",
       "    }\n",
       "\n",
       "    .dataframe tbody tr th {\n",
       "        vertical-align: top;\n",
       "    }\n",
       "\n",
       "    .dataframe thead th {\n",
       "        text-align: right;\n",
       "    }\n",
       "</style>\n",
       "<table border=\"1\" class=\"dataframe\">\n",
       "  <thead>\n",
       "    <tr style=\"text-align: right;\">\n",
       "      <th></th>\n",
       "      <th>index</th>\n",
       "      <th>text</th>\n",
       "    </tr>\n",
       "  </thead>\n",
       "  <tbody>\n",
       "    <tr>\n",
       "      <th>0</th>\n",
       "      <td>1</td>\n",
       "      <td>Horrible la exposición</td>\n",
       "    </tr>\n",
       "    <tr>\n",
       "      <th>1</th>\n",
       "      <td>3</td>\n",
       "      <td>original</td>\n",
       "    </tr>\n",
       "    <tr>\n",
       "      <th>2</th>\n",
       "      <td>5</td>\n",
       "      <td>Museo está cerrado desde Feb 8, 2020 para inst...</td>\n",
       "    </tr>\n",
       "    <tr>\n",
       "      <th>3</th>\n",
       "      <td>7</td>\n",
       "      <td>Es un museo que contiene, dentro de sus pequeñ...</td>\n",
       "    </tr>\n",
       "    <tr>\n",
       "      <th>4</th>\n",
       "      <td>12</td>\n",
       "      <td>Espacio muy acorde a la experiencia de galería...</td>\n",
       "    </tr>\n",
       "    <tr>\n",
       "      <th>...</th>\n",
       "      <td>...</td>\n",
       "      <td>...</td>\n",
       "    </tr>\n",
       "    <tr>\n",
       "      <th>10324</th>\n",
       "      <td>46293</td>\n",
       "      <td>La mejor experiencia, me gusta visitar mucho e...</td>\n",
       "    </tr>\n",
       "    <tr>\n",
       "      <th>10325</th>\n",
       "      <td>46294</td>\n",
       "      <td>Excelente lugar para saber más de la historia,...</td>\n",
       "    </tr>\n",
       "    <tr>\n",
       "      <th>10326</th>\n",
       "      <td>46295</td>\n",
       "      <td>Genial lugar para tomar un descanso y admirar ...</td>\n",
       "    </tr>\n",
       "    <tr>\n",
       "      <th>10327</th>\n",
       "      <td>46300</td>\n",
       "      <td>No hay estacionamiento</td>\n",
       "    </tr>\n",
       "    <tr>\n",
       "      <th>10328</th>\n",
       "      <td>46304</td>\n",
       "      <td>Esta muy bonita la placita</td>\n",
       "    </tr>\n",
       "  </tbody>\n",
       "</table>\n",
       "<p>10329 rows × 2 columns</p>\n",
       "</div>"
      ],
      "text/plain": [
       "       index                                               text\n",
       "0          1                             Horrible la exposición\n",
       "1          3                                           original\n",
       "2          5  Museo está cerrado desde Feb 8, 2020 para inst...\n",
       "3          7  Es un museo que contiene, dentro de sus pequeñ...\n",
       "4         12  Espacio muy acorde a la experiencia de galería...\n",
       "...      ...                                                ...\n",
       "10324  46293  La mejor experiencia, me gusta visitar mucho e...\n",
       "10325  46294  Excelente lugar para saber más de la historia,...\n",
       "10326  46295  Genial lugar para tomar un descanso y admirar ...\n",
       "10327  46300                             No hay estacionamiento\n",
       "10328  46304                         Esta muy bonita la placita\n",
       "\n",
       "[10329 rows x 2 columns]"
      ]
     },
     "execution_count": 362,
     "metadata": {},
     "output_type": "execute_result"
    }
   ],
   "source": [
    "corpus"
   ]
  },
  {
   "cell_type": "markdown",
   "metadata": {},
   "source": [
    "### Limpiar texto"
   ]
  },
  {
   "cell_type": "code",
   "execution_count": 50,
   "metadata": {},
   "outputs": [],
   "source": [
    "corpus_clean = corpus.apply(doClean)"
   ]
  },
  {
   "cell_type": "markdown",
   "metadata": {},
   "source": [
    "### Análisis"
   ]
  },
  {
   "cell_type": "code",
   "execution_count": 51,
   "metadata": {},
   "outputs": [],
   "source": [
    "tv = TfidfVectorizer(min_df=0., max_df=.5, use_idf=True, max_features=250)\n",
    "tv_matrix = tv.fit_transform(corpus_clean)\n",
    "tv_matrix = tv_matrix.toarray()\n",
    "\n",
    "vocab = tv.get_feature_names()\n",
    "prueba = pd.DataFrame(np.round(tv_matrix, 2), columns=vocab)"
   ]
  },
  {
   "cell_type": "code",
   "execution_count": 52,
   "metadata": {},
   "outputs": [],
   "source": [
    "#Crear diccionario\n",
    "ambiente = ['acogedor', 'agradable', 'amable', 'amables', 'ambiente', 'atencion', 'comodo', 'disfrutar',\n",
    "            'divertido', 'entretenido', 'interesante', 'interesantes', 'limpio', 'servicio']\n",
    "recomendable = ['apreciar', 'bello', 'bien', 'bonita', 'bonito', 'buena', 'buenas', 'bueno', 'buenos',\n",
    "                'calidad', 'encanta', 'encanto', 'espectacular', 'excelente', 'excelentes','exelente',\n",
    "                'genial', 'hermosa','hermoso', 'impresionante', 'increible','lindo', 'maravilloso', 'perfecto', \n",
    "               'precios', 'precioso','recomendable', 'recomendado','recomiendo']"
   ]
  },
  {
   "cell_type": "code",
   "execution_count": 53,
   "metadata": {},
   "outputs": [],
   "source": [
    "corpus_clean_df = pd.DataFrame(corpus_clean)"
   ]
  },
  {
   "cell_type": "code",
   "execution_count": 54,
   "metadata": {},
   "outputs": [],
   "source": [
    "#Reser index \n",
    "corpus_clean_df = corpus_clean_df.reset_index()"
   ]
  },
  {
   "cell_type": "code",
   "execution_count": 55,
   "metadata": {},
   "outputs": [],
   "source": [
    "corpus_clean_df_2 = corpus_clean_df.copy()"
   ]
  },
  {
   "cell_type": "code",
   "execution_count": 56,
   "metadata": {},
   "outputs": [],
   "source": [
    "#Columnas\n",
    "corpus_clean_df_2['ambiente'] = float('nan')\n",
    "corpus_clean_df_2['recomendable'] = float('nan')"
   ]
  },
  {
   "cell_type": "code",
   "execution_count": 57,
   "metadata": {},
   "outputs": [],
   "source": [
    "for i in range(0, len(corpus_clean_df)):\n",
    "    res = corpus_clean_df['text'][i].split()\n",
    "    #Counters\n",
    "    counter_1 = 0\n",
    "    counter_2 = 0\n",
    "    for j in res:\n",
    "        if j in ambiente:\n",
    "            counter_1 = counter_1+1\n",
    "        if j in recomendable:\n",
    "            counter_2 = counter_2+1\n",
    "    \n",
    "    #Asignar valores\n",
    "    corpus_clean_df_2.iloc[i, corpus_clean_df_2.columns.get_loc('ambiente')] = counter_1\n",
    "    corpus_clean_df_2.iloc[i, corpus_clean_df_2.columns.get_loc('recomendable')] = counter_2\n",
    "    "
   ]
  },
  {
   "cell_type": "code",
   "execution_count": 58,
   "metadata": {},
   "outputs": [],
   "source": [
    "# Unir con datos de los lugares\n",
    "corpus_clean_df_2 = corpus_clean_df_2.set_index('index')"
   ]
  },
  {
   "cell_type": "code",
   "execution_count": 59,
   "metadata": {},
   "outputs": [],
   "source": [
    "cultural_final = pd.merge(data_corpus, corpus_clean_df_2, how='left', left_index=True,\n",
    "                              right_index=True)"
   ]
  },
  {
   "cell_type": "markdown",
   "metadata": {},
   "source": [
    "# Agrupar"
   ]
  },
  {
   "cell_type": "code",
   "execution_count": 60,
   "metadata": {},
   "outputs": [],
   "source": [
    "cultural_final_2 = pd.DataFrame()\n",
    "place_id = cultural_final['place_id'].unique().tolist()"
   ]
  },
  {
   "cell_type": "code",
   "execution_count": 61,
   "metadata": {},
   "outputs": [],
   "source": [
    "for i in place_id:\n",
    "    df_temp = cultural_final[cultural_final['place_id']==i]\n",
    "    df_temp_2 = df_temp.copy()\n",
    "    \n",
    "    df_temp_2_grouped = df_temp_2.groupby('place_id').agg({'url':'count',\n",
    "                                                           'ambiente':'sum',\n",
    "                                                           'recomendable':'sum'\n",
    "                                                          })\n",
    "\n",
    "    \n",
    "    cultural_final_2 = pd.concat([cultural_final_2, df_temp_2_grouped])"
   ]
  },
  {
   "cell_type": "code",
   "execution_count": 62,
   "metadata": {},
   "outputs": [],
   "source": [
    "cultural_final_2 = cultural_final_2.rename(columns={'url': 'conteo_reviews'})"
   ]
  },
  {
   "cell_type": "code",
   "execution_count": 63,
   "metadata": {},
   "outputs": [],
   "source": [
    "# Normalizar\n",
    "cultural_final_2['ambiente_norm'] = cultural_final_2['ambiente']/cultural_final_2['conteo_reviews']\n",
    "cultural_final_2['recomendable_norm'] = cultural_final_2['recomendable']/cultural_final_2['conteo_reviews']"
   ]
  },
  {
   "cell_type": "markdown",
   "metadata": {},
   "source": [
    "### Guardar"
   ]
  },
  {
   "cell_type": "code",
   "execution_count": 64,
   "metadata": {},
   "outputs": [],
   "source": [
    "cultural_final_2.to_csv('data/cultural_classification.csv')"
   ]
  },
  {
   "cell_type": "code",
   "execution_count": null,
   "metadata": {},
   "outputs": [],
   "source": []
  }
 ],
 "metadata": {
  "kernelspec": {
   "display_name": "Python 3",
   "language": "python",
   "name": "python3"
  },
  "language_info": {
   "codemirror_mode": {
    "name": "ipython",
    "version": 3
   },
   "file_extension": ".py",
   "mimetype": "text/x-python",
   "name": "python",
   "nbconvert_exporter": "python",
   "pygments_lexer": "ipython3",
   "version": "3.7.6"
  }
 },
 "nbformat": 4,
 "nbformat_minor": 4
}
