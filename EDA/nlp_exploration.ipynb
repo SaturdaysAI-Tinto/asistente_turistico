{
 "cells": [
  {
   "cell_type": "code",
   "execution_count": 15,
   "metadata": {},
   "outputs": [],
   "source": [
    "import pandas as pd\n",
    "import numpy as np\n",
    "import os\n",
    "import ast\n",
    "import nltk\n",
    "import re\n",
    "import unidecode\n",
    "from nltk.corpus import stopwords"
   ]
  },
  {
   "cell_type": "code",
   "execution_count": 3,
   "metadata": {},
   "outputs": [],
   "source": [
    "stop_words = nltk.corpus.stopwords.words('spanish')"
   ]
  },
  {
   "cell_type": "markdown",
   "metadata": {},
   "source": [
    "# Datos"
   ]
  },
  {
   "cell_type": "code",
   "execution_count": 4,
   "metadata": {},
   "outputs": [],
   "source": [
    "#Subir un directorio\n",
    "os.chdir(\"..\")"
   ]
  },
  {
   "cell_type": "code",
   "execution_count": 59,
   "metadata": {},
   "outputs": [],
   "source": [
    "df = pd.read_csv('data/places_reviews_processed.csv')\n",
    "df_1 = pd.read_csv('data/places_types.csv')"
   ]
  },
  {
   "cell_type": "markdown",
   "metadata": {},
   "source": [
    "# Formato"
   ]
  },
  {
   "cell_type": "code",
   "execution_count": 60,
   "metadata": {},
   "outputs": [],
   "source": [
    "df = df[['place_id', 'url', 'text']]"
   ]
  },
  {
   "cell_type": "code",
   "execution_count": 61,
   "metadata": {},
   "outputs": [],
   "source": [
    "df = pd.merge(df, df_1, how='left', on='place_id')"
   ]
  },
  {
   "cell_type": "code",
   "execution_count": 62,
   "metadata": {},
   "outputs": [],
   "source": [
    "df = df.dropna()"
   ]
  },
  {
   "cell_type": "code",
   "execution_count": 63,
   "metadata": {},
   "outputs": [
    {
     "data": {
      "text/plain": [
       "array(['Museo', 'Comida mexicana', 'Templo', 'Teatro', 'Ecoturismo',\n",
       "       'Pirámides'], dtype=object)"
      ]
     },
     "execution_count": 63,
     "metadata": {},
     "output_type": "execute_result"
    }
   ],
   "source": [
    "df['tipo_lugar'].unique()"
   ]
  },
  {
   "cell_type": "markdown",
   "metadata": {},
   "source": [
    "# Temática: Restaurantes"
   ]
  },
  {
   "cell_type": "code",
   "execution_count": 64,
   "metadata": {},
   "outputs": [],
   "source": [
    "restaurantes = df[df['tipo_lugar']=='Comida mexicana']"
   ]
  },
  {
   "cell_type": "code",
   "execution_count": 65,
   "metadata": {},
   "outputs": [],
   "source": [
    "corpus = restaurantes.text\n",
    "data_corpus = restaurantes[['place_id', 'url']]"
   ]
  },
  {
   "cell_type": "markdown",
   "metadata": {},
   "source": [
    "# Análisis"
   ]
  },
  {
   "cell_type": "markdown",
   "metadata": {},
   "source": [
    "### Limpiar el texto"
   ]
  },
  {
   "cell_type": "code",
   "execution_count": 66,
   "metadata": {},
   "outputs": [],
   "source": [
    "def doClean(text):   \n",
    "    \n",
    "    # Quitar las expresiones entre llaves que denotan las partes de la canción\n",
    "    a = re.sub(r'\\[.+\\]', ' ', str(text))\n",
    "    # Quitar las aclaraciones entre paréntesis\n",
    "    a = re.sub(r'\\(.+\\)', ' ', str(a))\n",
    "    # Quitar acentos \n",
    "    a = unidecode.unidecode(a)\n",
    "    # Quitar aquello que no sean palabras o cosa que se le parezca\n",
    "    a = re.sub(r'\\W', ' ', a)\n",
    "    # Quitar espacios extra en caso de haber\n",
    "    a = re.sub(r'\\s+', ' ', a, flags=re.I)\n",
    "    # Pasar el texto a minúsulas\n",
    "    a = a.lower()\n",
    "    # retirar stopwords\n",
    "    a = a.split()\n",
    "    a = [ word for word in a if word not in stopwords.words('spanish')]\n",
    "    a = \" \".join(a)\n",
    "\n",
    "    return a"
   ]
  },
  {
   "cell_type": "code",
   "execution_count": 67,
   "metadata": {},
   "outputs": [],
   "source": [
    "corpus_clean = corpus.apply(doClean)"
   ]
  },
  {
   "cell_type": "markdown",
   "metadata": {},
   "source": [
    "# TF-IDF Model"
   ]
  },
  {
   "cell_type": "code",
   "execution_count": 82,
   "metadata": {},
   "outputs": [],
   "source": [
    "from sklearn.feature_extraction.text import TfidfVectorizer\n",
    "\n",
    "tv = TfidfVectorizer(min_df=0., max_df=.9, use_idf=True, max_features=300)\n",
    "tv_matrix = tv.fit_transform(corpus_clean)\n",
    "tv_matrix = tv_matrix.toarray()\n",
    "\n",
    "vocab = tv.get_feature_names()\n",
    "prueba = pd.DataFrame(np.round(tv_matrix, 2), columns=vocab)"
   ]
  },
  {
   "cell_type": "code",
   "execution_count": 100,
   "metadata": {},
   "outputs": [],
   "source": [
    "# Conteo de veces que aparecen palabras claves\n",
    "comida_words = ['buen', 'buena', 'buenas', 'bueno', 'buenos', 'calidad', 'delicia', 'deliciosa', 'deliciosas',\n",
    "                'delicioso', 'deliciosos', 'delicious', 'exquisito', 'presentacion', 'rica', 'ricas',\n",
    "                'rico', 'ricos', 'riquisima', 'riquisimo', 'sabor', 'sabores', 'sabroso', 'sazon']\n",
    "servicio_words = ['amable', 'amables', 'atencion', 'atento', 'atentos', 'atienden', 'limpieza', 'higiene', \n",
    "                 'limpio', 'rapido', 'service', 'servicio']\n",
    "ambiente_words = ['acogedor', 'agradable', 'ambiente', 'bonito', 'decoracion', \n",
    "                  'familiar', 'musica', 'tranquilo']\n",
    "satisfaccion_words = ['encanta', 'encanto', 'espectacular', 'especial', 'espectacular', 'excelente',\n",
    "                      'excelentes', 'exelente', 'good', 'great', 'increible', 'nice', 'recomendable',\n",
    "                     'recomendable', 'recomendado', 'recomiendo']\n",
    "specials_words = ['barbacoa', 'birria', 'carne', 'carnitas', 'chocolate', 'cochinita', 'enchiladas', \n",
    "                  'mariscos', 'mole', 'nogada', 'pozole', 'tacos', 'tortas', \n",
    "                 'yucateca']"
   ]
  },
  {
   "cell_type": "code",
   "execution_count": 87,
   "metadata": {},
   "outputs": [],
   "source": [
    "corpus_clean_df = pd.DataFrame(corpus_clean)"
   ]
  },
  {
   "cell_type": "code",
   "execution_count": 90,
   "metadata": {},
   "outputs": [],
   "source": [
    "#Reser index \n",
    "corpus_clean_df = corpus_clean_df.reset_index()"
   ]
  },
  {
   "cell_type": "code",
   "execution_count": 116,
   "metadata": {},
   "outputs": [],
   "source": [
    "corpus_clean_df_2 = corpus_clean_df.copy()"
   ]
  },
  {
   "cell_type": "code",
   "execution_count": 122,
   "metadata": {},
   "outputs": [],
   "source": [
    "#Columnas\n",
    "corpus_clean_df_2['comida'] = float('nan')\n",
    "corpus_clean_df_2['servicio'] = float('nan')\n",
    "corpus_clean_df_2['ambiente'] = float('nan')\n",
    "corpus_clean_df_2['satisfaccion'] = float('nan')\n",
    "corpus_clean_df_2['specials'] = ''"
   ]
  },
  {
   "cell_type": "code",
   "execution_count": 125,
   "metadata": {},
   "outputs": [],
   "source": [
    "for i in range(0, len(corpus_clean_df)):\n",
    "    res = corpus_clean_df['text'][i].split()\n",
    "    #Counters\n",
    "    comida_counter = 0\n",
    "    service_counter = 0\n",
    "    ambiente_counter = 0\n",
    "    satisfaccion_counter = 0\n",
    "    specials = []\n",
    "    for j in res:\n",
    "        if j in comida_words:\n",
    "            comida_counter = comida_counter+1\n",
    "        if j in servicio_words:\n",
    "            service_counter = service_counter+1\n",
    "        if j in ambiente_words:\n",
    "            ambiente_counter = ambiente_counter+1\n",
    "        if j in satisfaccion_words:\n",
    "            satisfaccion_counter = satisfaccion_counter+1\n",
    "        if j in specials_words:\n",
    "            specials.append(j)\n",
    "    \n",
    "    #Asignar valores\n",
    "    corpus_clean_df_2.iloc[i, corpus_clean_df_2.columns.get_loc('comida')] = comida_counter\n",
    "    corpus_clean_df_2.iloc[i, corpus_clean_df_2.columns.get_loc('servicio')] = service_counter\n",
    "    corpus_clean_df_2.iloc[i, corpus_clean_df_2.columns.get_loc('ambiente')] = ambiente_counter\n",
    "    corpus_clean_df_2.iloc[i, corpus_clean_df_2.columns.get_loc('satisfaccion')] = satisfaccion_counter\n",
    "    \n",
    "    specials_concatenation = '-'.join(specials)\n",
    "    corpus_clean_df_2.iloc[i, corpus_clean_df_2.columns.get_loc('specials')] = specials_concatenation"
   ]
  },
  {
   "cell_type": "code",
   "execution_count": 129,
   "metadata": {},
   "outputs": [],
   "source": [
    "# Unir con datos de los restaurantes\n",
    "corpus_clean_df_2 = corpus_clean_df_2.set_index('index')"
   ]
  },
  {
   "cell_type": "code",
   "execution_count": 131,
   "metadata": {},
   "outputs": [],
   "source": [
    "restaurantes_final = pd.merge(data_corpus, corpus_clean_df_2, how='left', left_index=True,\n",
    "                              right_index=True)"
   ]
  },
  {
   "cell_type": "markdown",
   "metadata": {},
   "source": [
    "## Agrupar a nivel restaurante "
   ]
  },
  {
   "cell_type": "code",
   "execution_count": 134,
   "metadata": {},
   "outputs": [],
   "source": [
    "restaurantes_final_2 = pd.DataFrame()\n",
    "place_id = restaurantes_final['place_id'].unique().tolist()"
   ]
  },
  {
   "cell_type": "code",
   "execution_count": 154,
   "metadata": {},
   "outputs": [],
   "source": [
    "for i in place_id:\n",
    "    df_temp = restaurantes_final[restaurantes_final['place_id']==i]\n",
    "    df_temp_2 = df_temp.copy()\n",
    "    \n",
    "    df_temp_2_grouped = df_temp_2.groupby('place_id').sum().reset_index()\n",
    "    \n",
    "    temp_list = []\n",
    "    for j in df_temp_2['specials']:\n",
    "        if j == '':\n",
    "            None\n",
    "        else:\n",
    "            temp_list.append(j)\n",
    "    #Separar los specials\n",
    "    temp = []\n",
    "    for element in temp_list:\n",
    "        splitted = element.split(\"-\")\n",
    "        for word in splitted:\n",
    "            temp.append(word)\n",
    "    #Obtener specials únicos\n",
    "    myset = set(temp)\n",
    "    specials_uniques = list(myset)\n",
    "    #Concatenar en un sólo string\n",
    "    specials_uniques_concatenation = '-'.join(specials_uniques)\n",
    "    #Crear variable\n",
    "    df_temp_2_grouped['specials'] = specials_uniques_concatenation\n",
    "    \n",
    "    restaurantes_final_2 = pd.concat([restaurantes_final_2, df_temp_2_grouped])"
   ]
  },
  {
   "cell_type": "markdown",
   "metadata": {},
   "source": [
    "# Guardar análisis"
   ]
  },
  {
   "cell_type": "code",
   "execution_count": 156,
   "metadata": {},
   "outputs": [],
   "source": [
    "restaurantes_final_2.to_csv('data/restaurants_classification.csv', index=False)"
   ]
  },
  {
   "cell_type": "code",
   "execution_count": 157,
   "metadata": {},
   "outputs": [
    {
     "data": {
      "text/html": [
       "<div>\n",
       "<style scoped>\n",
       "    .dataframe tbody tr th:only-of-type {\n",
       "        vertical-align: middle;\n",
       "    }\n",
       "\n",
       "    .dataframe tbody tr th {\n",
       "        vertical-align: top;\n",
       "    }\n",
       "\n",
       "    .dataframe thead th {\n",
       "        text-align: right;\n",
       "    }\n",
       "</style>\n",
       "<table border=\"1\" class=\"dataframe\">\n",
       "  <thead>\n",
       "    <tr style=\"text-align: right;\">\n",
       "      <th></th>\n",
       "      <th>comida</th>\n",
       "      <th>servicio</th>\n",
       "      <th>ambiente</th>\n",
       "      <th>satisfaccion</th>\n",
       "    </tr>\n",
       "  </thead>\n",
       "  <tbody>\n",
       "    <tr>\n",
       "      <th>comida</th>\n",
       "      <td>1.000000</td>\n",
       "      <td>0.795213</td>\n",
       "      <td>0.432159</td>\n",
       "      <td>0.750158</td>\n",
       "    </tr>\n",
       "    <tr>\n",
       "      <th>servicio</th>\n",
       "      <td>0.795213</td>\n",
       "      <td>1.000000</td>\n",
       "      <td>0.549758</td>\n",
       "      <td>0.895431</td>\n",
       "    </tr>\n",
       "    <tr>\n",
       "      <th>ambiente</th>\n",
       "      <td>0.432159</td>\n",
       "      <td>0.549758</td>\n",
       "      <td>1.000000</td>\n",
       "      <td>0.594126</td>\n",
       "    </tr>\n",
       "    <tr>\n",
       "      <th>satisfaccion</th>\n",
       "      <td>0.750158</td>\n",
       "      <td>0.895431</td>\n",
       "      <td>0.594126</td>\n",
       "      <td>1.000000</td>\n",
       "    </tr>\n",
       "  </tbody>\n",
       "</table>\n",
       "</div>"
      ],
      "text/plain": [
       "                comida  servicio  ambiente  satisfaccion\n",
       "comida        1.000000  0.795213  0.432159      0.750158\n",
       "servicio      0.795213  1.000000  0.549758      0.895431\n",
       "ambiente      0.432159  0.549758  1.000000      0.594126\n",
       "satisfaccion  0.750158  0.895431  0.594126      1.000000"
      ]
     },
     "execution_count": 157,
     "metadata": {},
     "output_type": "execute_result"
    }
   ],
   "source": []
  }
 ],
 "metadata": {
  "kernelspec": {
   "display_name": "Python 3",
   "language": "python",
   "name": "python3"
  },
  "language_info": {
   "codemirror_mode": {
    "name": "ipython",
    "version": 3
   },
   "file_extension": ".py",
   "mimetype": "text/x-python",
   "name": "python",
   "nbconvert_exporter": "python",
   "pygments_lexer": "ipython3",
   "version": "3.7.6"
  }
 },
 "nbformat": 4,
 "nbformat_minor": 4
}
