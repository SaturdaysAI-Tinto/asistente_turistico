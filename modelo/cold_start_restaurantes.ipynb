{
 "cells": [
  {
   "cell_type": "code",
   "execution_count": 1,
   "metadata": {},
   "outputs": [],
   "source": [
    "import pandas as pd\n",
    "import numpy as np"
   ]
  },
  {
   "cell_type": "markdown",
   "metadata": {},
   "source": [
    "# Datos"
   ]
  },
  {
   "cell_type": "code",
   "execution_count": 29,
   "metadata": {},
   "outputs": [],
   "source": [
    "df = pd.read_csv('base_final_lugares.csv')"
   ]
  },
  {
   "cell_type": "markdown",
   "metadata": {},
   "source": [
    "# Modelo para restaurantes"
   ]
  },
  {
   "cell_type": "code",
   "execution_count": 33,
   "metadata": {},
   "outputs": [],
   "source": [
    "restaurantes = df.copy()\n",
    "restaurantes = restaurantes[restaurantes['tipo_lugar']=='Comida mexicana']"
   ]
  },
  {
   "cell_type": "code",
   "execution_count": 31,
   "metadata": {},
   "outputs": [],
   "source": [
    "#Columnas relevantes para modelo\n",
    "restaurantes = restaurantes[['place_id', 'user_ratings_total', 'rating', 'price_level', \n",
    "                             'comida_norm', 'servicio_norm', 'ambiente_norm', 'satisfaccion_norm']]"
   ]
  },
  {
   "cell_type": "code",
   "execution_count": 34,
   "metadata": {},
   "outputs": [
    {
     "data": {
      "text/html": [
       "<div>\n",
       "<style scoped>\n",
       "    .dataframe tbody tr th:only-of-type {\n",
       "        vertical-align: middle;\n",
       "    }\n",
       "\n",
       "    .dataframe tbody tr th {\n",
       "        vertical-align: top;\n",
       "    }\n",
       "\n",
       "    .dataframe thead th {\n",
       "        text-align: right;\n",
       "    }\n",
       "</style>\n",
       "<table border=\"1\" class=\"dataframe\">\n",
       "  <thead>\n",
       "    <tr style=\"text-align: right;\">\n",
       "      <th></th>\n",
       "      <th>place_id</th>\n",
       "      <th>name</th>\n",
       "      <th>business_status</th>\n",
       "      <th>latitude</th>\n",
       "      <th>longitude</th>\n",
       "      <th>user_ratings_total</th>\n",
       "      <th>rating</th>\n",
       "      <th>website</th>\n",
       "      <th>price_level</th>\n",
       "      <th>photos</th>\n",
       "      <th>...</th>\n",
       "      <th>comida_norm</th>\n",
       "      <th>servicio_norm</th>\n",
       "      <th>ambiente_norm</th>\n",
       "      <th>satisfaccion_norm</th>\n",
       "      <th>actividades</th>\n",
       "      <th>naturaleza</th>\n",
       "      <th>familiar</th>\n",
       "      <th>actividades_norm</th>\n",
       "      <th>naturaleza_norm</th>\n",
       "      <th>familiar_norm</th>\n",
       "    </tr>\n",
       "  </thead>\n",
       "  <tbody>\n",
       "    <tr>\n",
       "      <th>1</th>\n",
       "      <td>ChIJWZ2zdav40YURFvsU_rU3uaE</td>\n",
       "      <td>Pujol</td>\n",
       "      <td>OPERATIONAL</td>\n",
       "      <td>19.432868</td>\n",
       "      <td>-99.194780</td>\n",
       "      <td>3173</td>\n",
       "      <td>4.6</td>\n",
       "      <td>http://pujol.com.mx/</td>\n",
       "      <td>4.0</td>\n",
       "      <td>[{'height': 852, 'html_attributions': ['&lt;a hre...</td>\n",
       "      <td>...</td>\n",
       "      <td>0.533333</td>\n",
       "      <td>0.304762</td>\n",
       "      <td>0.114286</td>\n",
       "      <td>0.447619</td>\n",
       "      <td>NaN</td>\n",
       "      <td>NaN</td>\n",
       "      <td>NaN</td>\n",
       "      <td>NaN</td>\n",
       "      <td>NaN</td>\n",
       "      <td>NaN</td>\n",
       "    </tr>\n",
       "    <tr>\n",
       "      <th>3</th>\n",
       "      <td>ChIJbS8EZf8B0oURwwD8B0MpqK0</td>\n",
       "      <td>Quintonil</td>\n",
       "      <td>OPERATIONAL</td>\n",
       "      <td>19.430841</td>\n",
       "      <td>-99.191711</td>\n",
       "      <td>1332</td>\n",
       "      <td>4.6</td>\n",
       "      <td>http://www.quintonil.com/</td>\n",
       "      <td>4.0</td>\n",
       "      <td>[{'height': 4032, 'html_attributions': ['&lt;a hr...</td>\n",
       "      <td>...</td>\n",
       "      <td>0.370787</td>\n",
       "      <td>0.348315</td>\n",
       "      <td>0.112360</td>\n",
       "      <td>0.471910</td>\n",
       "      <td>NaN</td>\n",
       "      <td>NaN</td>\n",
       "      <td>NaN</td>\n",
       "      <td>NaN</td>\n",
       "      <td>NaN</td>\n",
       "      <td>NaN</td>\n",
       "    </tr>\n",
       "    <tr>\n",
       "      <th>5</th>\n",
       "      <td>ChIJhX6jMpj50YUR3poUnV408b4</td>\n",
       "      <td>Monte Cristo</td>\n",
       "      <td>CLOSED_TEMPORARILY</td>\n",
       "      <td>19.492165</td>\n",
       "      <td>-99.120832</td>\n",
       "      <td>1625</td>\n",
       "      <td>4.6</td>\n",
       "      <td>http://www.rmontecristo.com/</td>\n",
       "      <td>3.0</td>\n",
       "      <td>[{'height': 2592, 'html_attributions': ['&lt;a hr...</td>\n",
       "      <td>...</td>\n",
       "      <td>0.909091</td>\n",
       "      <td>0.556818</td>\n",
       "      <td>0.340909</td>\n",
       "      <td>0.590909</td>\n",
       "      <td>NaN</td>\n",
       "      <td>NaN</td>\n",
       "      <td>NaN</td>\n",
       "      <td>NaN</td>\n",
       "      <td>NaN</td>\n",
       "      <td>NaN</td>\n",
       "    </tr>\n",
       "    <tr>\n",
       "      <th>7</th>\n",
       "      <td>ChIJrfTq9Tr_0YURAW5g2EXpLMY</td>\n",
       "      <td>99</td>\n",
       "      <td>OPERATIONAL</td>\n",
       "      <td>19.418777</td>\n",
       "      <td>-99.159454</td>\n",
       "      <td>887</td>\n",
       "      <td>4.6</td>\n",
       "      <td>https://www.nuevenueve.com.mx/</td>\n",
       "      <td>3.0</td>\n",
       "      <td>[{'height': 6720, 'html_attributions': ['&lt;a hr...</td>\n",
       "      <td>...</td>\n",
       "      <td>0.625000</td>\n",
       "      <td>0.545455</td>\n",
       "      <td>0.318182</td>\n",
       "      <td>0.488636</td>\n",
       "      <td>NaN</td>\n",
       "      <td>NaN</td>\n",
       "      <td>NaN</td>\n",
       "      <td>NaN</td>\n",
       "      <td>NaN</td>\n",
       "      <td>NaN</td>\n",
       "    </tr>\n",
       "    <tr>\n",
       "      <th>8</th>\n",
       "      <td>ChIJ21LyB_f_0YURW_F1RfqWhiI</td>\n",
       "      <td>Guadiana</td>\n",
       "      <td>OPERATIONAL</td>\n",
       "      <td>19.350735</td>\n",
       "      <td>-99.187180</td>\n",
       "      <td>643</td>\n",
       "      <td>4.6</td>\n",
       "      <td>http://www.guadiana.com.mx/</td>\n",
       "      <td>3.0</td>\n",
       "      <td>[{'height': 2000, 'html_attributions': ['&lt;a hr...</td>\n",
       "      <td>...</td>\n",
       "      <td>0.626866</td>\n",
       "      <td>0.447761</td>\n",
       "      <td>0.283582</td>\n",
       "      <td>0.552239</td>\n",
       "      <td>NaN</td>\n",
       "      <td>NaN</td>\n",
       "      <td>NaN</td>\n",
       "      <td>NaN</td>\n",
       "      <td>NaN</td>\n",
       "      <td>NaN</td>\n",
       "    </tr>\n",
       "    <tr>\n",
       "      <th>...</th>\n",
       "      <td>...</td>\n",
       "      <td>...</td>\n",
       "      <td>...</td>\n",
       "      <td>...</td>\n",
       "      <td>...</td>\n",
       "      <td>...</td>\n",
       "      <td>...</td>\n",
       "      <td>...</td>\n",
       "      <td>...</td>\n",
       "      <td>...</td>\n",
       "      <td>...</td>\n",
       "      <td>...</td>\n",
       "      <td>...</td>\n",
       "      <td>...</td>\n",
       "      <td>...</td>\n",
       "      <td>...</td>\n",
       "      <td>...</td>\n",
       "      <td>...</td>\n",
       "      <td>...</td>\n",
       "      <td>...</td>\n",
       "      <td>...</td>\n",
       "    </tr>\n",
       "    <tr>\n",
       "      <th>254</th>\n",
       "      <td>ChIJkzWrrxX5zYURjohBBW22J98</td>\n",
       "      <td>El Antojito</td>\n",
       "      <td>OPERATIONAL</td>\n",
       "      <td>19.326378</td>\n",
       "      <td>-99.282982</td>\n",
       "      <td>9</td>\n",
       "      <td>4.8</td>\n",
       "      <td>https://el-antojito-restaurant.negocio.site/</td>\n",
       "      <td>NaN</td>\n",
       "      <td>[{'height': 720, 'html_attributions': ['&lt;a hre...</td>\n",
       "      <td>...</td>\n",
       "      <td>0.600000</td>\n",
       "      <td>0.200000</td>\n",
       "      <td>0.000000</td>\n",
       "      <td>0.200000</td>\n",
       "      <td>NaN</td>\n",
       "      <td>NaN</td>\n",
       "      <td>NaN</td>\n",
       "      <td>NaN</td>\n",
       "      <td>NaN</td>\n",
       "      <td>NaN</td>\n",
       "    </tr>\n",
       "    <tr>\n",
       "      <th>255</th>\n",
       "      <td>ChIJLUG4-p750YURr_H6VaVUHFg</td>\n",
       "      <td>Sahmich</td>\n",
       "      <td>OPERATIONAL</td>\n",
       "      <td>19.484713</td>\n",
       "      <td>-99.120000</td>\n",
       "      <td>54</td>\n",
       "      <td>4.6</td>\n",
       "      <td>https://sahmich.negocio.site/</td>\n",
       "      <td>NaN</td>\n",
       "      <td>[{'height': 4160, 'html_attributions': ['&lt;a hr...</td>\n",
       "      <td>...</td>\n",
       "      <td>1.000000</td>\n",
       "      <td>0.187500</td>\n",
       "      <td>0.000000</td>\n",
       "      <td>0.375000</td>\n",
       "      <td>NaN</td>\n",
       "      <td>NaN</td>\n",
       "      <td>NaN</td>\n",
       "      <td>NaN</td>\n",
       "      <td>NaN</td>\n",
       "      <td>NaN</td>\n",
       "    </tr>\n",
       "    <tr>\n",
       "      <th>256</th>\n",
       "      <td>ChIJZ-dNcTr_0YURvT79FclhNi0</td>\n",
       "      <td>Birria Estilo Jalisco - Food Stand</td>\n",
       "      <td>OPERATIONAL</td>\n",
       "      <td>19.419889</td>\n",
       "      <td>-99.160511</td>\n",
       "      <td>79</td>\n",
       "      <td>4.6</td>\n",
       "      <td>NaN</td>\n",
       "      <td>NaN</td>\n",
       "      <td>[{'height': 3024, 'html_attributions': ['&lt;a hr...</td>\n",
       "      <td>...</td>\n",
       "      <td>0.536585</td>\n",
       "      <td>0.146341</td>\n",
       "      <td>0.000000</td>\n",
       "      <td>0.268293</td>\n",
       "      <td>NaN</td>\n",
       "      <td>NaN</td>\n",
       "      <td>NaN</td>\n",
       "      <td>NaN</td>\n",
       "      <td>NaN</td>\n",
       "      <td>NaN</td>\n",
       "    </tr>\n",
       "    <tr>\n",
       "      <th>257</th>\n",
       "      <td>ChIJz9WtHqH50YURYyIo8N1otO8</td>\n",
       "      <td>Tortas El Volcan</td>\n",
       "      <td>OPERATIONAL</td>\n",
       "      <td>19.482766</td>\n",
       "      <td>-99.126393</td>\n",
       "      <td>57</td>\n",
       "      <td>4.6</td>\n",
       "      <td>NaN</td>\n",
       "      <td>NaN</td>\n",
       "      <td>[{'height': 4608, 'html_attributions': ['&lt;a hr...</td>\n",
       "      <td>...</td>\n",
       "      <td>0.562500</td>\n",
       "      <td>0.125000</td>\n",
       "      <td>0.000000</td>\n",
       "      <td>0.281250</td>\n",
       "      <td>NaN</td>\n",
       "      <td>NaN</td>\n",
       "      <td>NaN</td>\n",
       "      <td>NaN</td>\n",
       "      <td>NaN</td>\n",
       "      <td>NaN</td>\n",
       "    </tr>\n",
       "    <tr>\n",
       "      <th>271</th>\n",
       "      <td>ChIJYcscIxv_0YURlQEkR2BAl5Y</td>\n",
       "      <td>Tusta Cocina Selecta Restaurante</td>\n",
       "      <td>OPERATIONAL</td>\n",
       "      <td>19.398475</td>\n",
       "      <td>-99.153356</td>\n",
       "      <td>169</td>\n",
       "      <td>4.6</td>\n",
       "      <td>http://tustarestaurante.com/</td>\n",
       "      <td>NaN</td>\n",
       "      <td>[{'height': 4032, 'html_attributions': ['&lt;a hr...</td>\n",
       "      <td>...</td>\n",
       "      <td>NaN</td>\n",
       "      <td>NaN</td>\n",
       "      <td>NaN</td>\n",
       "      <td>NaN</td>\n",
       "      <td>NaN</td>\n",
       "      <td>NaN</td>\n",
       "      <td>NaN</td>\n",
       "      <td>NaN</td>\n",
       "      <td>NaN</td>\n",
       "      <td>NaN</td>\n",
       "    </tr>\n",
       "  </tbody>\n",
       "</table>\n",
       "<p>114 rows × 41 columns</p>\n",
       "</div>"
      ],
      "text/plain": [
       "                        place_id                                name  \\\n",
       "1    ChIJWZ2zdav40YURFvsU_rU3uaE                               Pujol   \n",
       "3    ChIJbS8EZf8B0oURwwD8B0MpqK0                           Quintonil   \n",
       "5    ChIJhX6jMpj50YUR3poUnV408b4                        Monte Cristo   \n",
       "7    ChIJrfTq9Tr_0YURAW5g2EXpLMY                                  99   \n",
       "8    ChIJ21LyB_f_0YURW_F1RfqWhiI                            Guadiana   \n",
       "..                           ...                                 ...   \n",
       "254  ChIJkzWrrxX5zYURjohBBW22J98                         El Antojito   \n",
       "255  ChIJLUG4-p750YURr_H6VaVUHFg                             Sahmich   \n",
       "256  ChIJZ-dNcTr_0YURvT79FclhNi0  Birria Estilo Jalisco - Food Stand   \n",
       "257  ChIJz9WtHqH50YURYyIo8N1otO8                    Tortas El Volcan   \n",
       "271  ChIJYcscIxv_0YURlQEkR2BAl5Y    Tusta Cocina Selecta Restaurante   \n",
       "\n",
       "        business_status   latitude  longitude  user_ratings_total  rating  \\\n",
       "1           OPERATIONAL  19.432868 -99.194780                3173     4.6   \n",
       "3           OPERATIONAL  19.430841 -99.191711                1332     4.6   \n",
       "5    CLOSED_TEMPORARILY  19.492165 -99.120832                1625     4.6   \n",
       "7           OPERATIONAL  19.418777 -99.159454                 887     4.6   \n",
       "8           OPERATIONAL  19.350735 -99.187180                 643     4.6   \n",
       "..                  ...        ...        ...                 ...     ...   \n",
       "254         OPERATIONAL  19.326378 -99.282982                   9     4.8   \n",
       "255         OPERATIONAL  19.484713 -99.120000                  54     4.6   \n",
       "256         OPERATIONAL  19.419889 -99.160511                  79     4.6   \n",
       "257         OPERATIONAL  19.482766 -99.126393                  57     4.6   \n",
       "271         OPERATIONAL  19.398475 -99.153356                 169     4.6   \n",
       "\n",
       "                                          website  price_level  \\\n",
       "1                            http://pujol.com.mx/          4.0   \n",
       "3                       http://www.quintonil.com/          4.0   \n",
       "5                    http://www.rmontecristo.com/          3.0   \n",
       "7                  https://www.nuevenueve.com.mx/          3.0   \n",
       "8                     http://www.guadiana.com.mx/          3.0   \n",
       "..                                            ...          ...   \n",
       "254  https://el-antojito-restaurant.negocio.site/          NaN   \n",
       "255                 https://sahmich.negocio.site/          NaN   \n",
       "256                                           NaN          NaN   \n",
       "257                                           NaN          NaN   \n",
       "271                  http://tustarestaurante.com/          NaN   \n",
       "\n",
       "                                                photos  ...  comida_norm  \\\n",
       "1    [{'height': 852, 'html_attributions': ['<a hre...  ...     0.533333   \n",
       "3    [{'height': 4032, 'html_attributions': ['<a hr...  ...     0.370787   \n",
       "5    [{'height': 2592, 'html_attributions': ['<a hr...  ...     0.909091   \n",
       "7    [{'height': 6720, 'html_attributions': ['<a hr...  ...     0.625000   \n",
       "8    [{'height': 2000, 'html_attributions': ['<a hr...  ...     0.626866   \n",
       "..                                                 ...  ...          ...   \n",
       "254  [{'height': 720, 'html_attributions': ['<a hre...  ...     0.600000   \n",
       "255  [{'height': 4160, 'html_attributions': ['<a hr...  ...     1.000000   \n",
       "256  [{'height': 3024, 'html_attributions': ['<a hr...  ...     0.536585   \n",
       "257  [{'height': 4608, 'html_attributions': ['<a hr...  ...     0.562500   \n",
       "271  [{'height': 4032, 'html_attributions': ['<a hr...  ...          NaN   \n",
       "\n",
       "     servicio_norm  ambiente_norm  satisfaccion_norm  actividades  naturaleza  \\\n",
       "1         0.304762       0.114286           0.447619          NaN         NaN   \n",
       "3         0.348315       0.112360           0.471910          NaN         NaN   \n",
       "5         0.556818       0.340909           0.590909          NaN         NaN   \n",
       "7         0.545455       0.318182           0.488636          NaN         NaN   \n",
       "8         0.447761       0.283582           0.552239          NaN         NaN   \n",
       "..             ...            ...                ...          ...         ...   \n",
       "254       0.200000       0.000000           0.200000          NaN         NaN   \n",
       "255       0.187500       0.000000           0.375000          NaN         NaN   \n",
       "256       0.146341       0.000000           0.268293          NaN         NaN   \n",
       "257       0.125000       0.000000           0.281250          NaN         NaN   \n",
       "271            NaN            NaN                NaN          NaN         NaN   \n",
       "\n",
       "     familiar  actividades_norm  naturaleza_norm  familiar_norm  \n",
       "1         NaN               NaN              NaN            NaN  \n",
       "3         NaN               NaN              NaN            NaN  \n",
       "5         NaN               NaN              NaN            NaN  \n",
       "7         NaN               NaN              NaN            NaN  \n",
       "8         NaN               NaN              NaN            NaN  \n",
       "..        ...               ...              ...            ...  \n",
       "254       NaN               NaN              NaN            NaN  \n",
       "255       NaN               NaN              NaN            NaN  \n",
       "256       NaN               NaN              NaN            NaN  \n",
       "257       NaN               NaN              NaN            NaN  \n",
       "271       NaN               NaN              NaN            NaN  \n",
       "\n",
       "[114 rows x 41 columns]"
      ]
     },
     "execution_count": 34,
     "metadata": {},
     "output_type": "execute_result"
    }
   ],
   "source": [
    "restaurantes"
   ]
  },
  {
   "cell_type": "code",
   "execution_count": 6,
   "metadata": {
    "scrolled": true
   },
   "outputs": [
    {
     "data": {
      "text/html": [
       "<div>\n",
       "<style scoped>\n",
       "    .dataframe tbody tr th:only-of-type {\n",
       "        vertical-align: middle;\n",
       "    }\n",
       "\n",
       "    .dataframe tbody tr th {\n",
       "        vertical-align: top;\n",
       "    }\n",
       "\n",
       "    .dataframe thead th {\n",
       "        text-align: right;\n",
       "    }\n",
       "</style>\n",
       "<table border=\"1\" class=\"dataframe\">\n",
       "  <thead>\n",
       "    <tr style=\"text-align: right;\">\n",
       "      <th></th>\n",
       "      <th>user_ratings_total</th>\n",
       "      <th>rating</th>\n",
       "      <th>price_level</th>\n",
       "      <th>comida_norm</th>\n",
       "      <th>servicio_norm</th>\n",
       "      <th>ambiente_norm</th>\n",
       "      <th>satisfaccion_norm</th>\n",
       "    </tr>\n",
       "  </thead>\n",
       "  <tbody>\n",
       "    <tr>\n",
       "      <th>user_ratings_total</th>\n",
       "      <td>1.000000</td>\n",
       "      <td>-0.334310</td>\n",
       "      <td>0.363109</td>\n",
       "      <td>-0.497263</td>\n",
       "      <td>-0.225842</td>\n",
       "      <td>-0.118674</td>\n",
       "      <td>-0.252751</td>\n",
       "    </tr>\n",
       "    <tr>\n",
       "      <th>rating</th>\n",
       "      <td>-0.334310</td>\n",
       "      <td>1.000000</td>\n",
       "      <td>0.111716</td>\n",
       "      <td>0.163580</td>\n",
       "      <td>0.174837</td>\n",
       "      <td>0.147982</td>\n",
       "      <td>0.540868</td>\n",
       "    </tr>\n",
       "    <tr>\n",
       "      <th>price_level</th>\n",
       "      <td>0.363109</td>\n",
       "      <td>0.111716</td>\n",
       "      <td>1.000000</td>\n",
       "      <td>-0.555073</td>\n",
       "      <td>0.324138</td>\n",
       "      <td>0.349116</td>\n",
       "      <td>0.402884</td>\n",
       "    </tr>\n",
       "    <tr>\n",
       "      <th>comida_norm</th>\n",
       "      <td>-0.497263</td>\n",
       "      <td>0.163580</td>\n",
       "      <td>-0.555073</td>\n",
       "      <td>1.000000</td>\n",
       "      <td>0.247014</td>\n",
       "      <td>0.110083</td>\n",
       "      <td>0.163226</td>\n",
       "    </tr>\n",
       "    <tr>\n",
       "      <th>servicio_norm</th>\n",
       "      <td>-0.225842</td>\n",
       "      <td>0.174837</td>\n",
       "      <td>0.324138</td>\n",
       "      <td>0.247014</td>\n",
       "      <td>1.000000</td>\n",
       "      <td>0.420429</td>\n",
       "      <td>0.517119</td>\n",
       "    </tr>\n",
       "    <tr>\n",
       "      <th>ambiente_norm</th>\n",
       "      <td>-0.118674</td>\n",
       "      <td>0.147982</td>\n",
       "      <td>0.349116</td>\n",
       "      <td>0.110083</td>\n",
       "      <td>0.420429</td>\n",
       "      <td>1.000000</td>\n",
       "      <td>0.366137</td>\n",
       "    </tr>\n",
       "    <tr>\n",
       "      <th>satisfaccion_norm</th>\n",
       "      <td>-0.252751</td>\n",
       "      <td>0.540868</td>\n",
       "      <td>0.402884</td>\n",
       "      <td>0.163226</td>\n",
       "      <td>0.517119</td>\n",
       "      <td>0.366137</td>\n",
       "      <td>1.000000</td>\n",
       "    </tr>\n",
       "  </tbody>\n",
       "</table>\n",
       "</div>"
      ],
      "text/plain": [
       "                    user_ratings_total    rating  price_level  comida_norm  \\\n",
       "user_ratings_total            1.000000 -0.334310     0.363109    -0.497263   \n",
       "rating                       -0.334310  1.000000     0.111716     0.163580   \n",
       "price_level                   0.363109  0.111716     1.000000    -0.555073   \n",
       "comida_norm                  -0.497263  0.163580    -0.555073     1.000000   \n",
       "servicio_norm                -0.225842  0.174837     0.324138     0.247014   \n",
       "ambiente_norm                -0.118674  0.147982     0.349116     0.110083   \n",
       "satisfaccion_norm            -0.252751  0.540868     0.402884     0.163226   \n",
       "\n",
       "                    servicio_norm  ambiente_norm  satisfaccion_norm  \n",
       "user_ratings_total      -0.225842      -0.118674          -0.252751  \n",
       "rating                   0.174837       0.147982           0.540868  \n",
       "price_level              0.324138       0.349116           0.402884  \n",
       "comida_norm              0.247014       0.110083           0.163226  \n",
       "servicio_norm            1.000000       0.420429           0.517119  \n",
       "ambiente_norm            0.420429       1.000000           0.366137  \n",
       "satisfaccion_norm        0.517119       0.366137           1.000000  "
      ]
     },
     "execution_count": 6,
     "metadata": {},
     "output_type": "execute_result"
    }
   ],
   "source": [
    "restaurantes.corr()"
   ]
  },
  {
   "cell_type": "code",
   "execution_count": 7,
   "metadata": {},
   "outputs": [
    {
     "data": {
      "text/plain": [
       "place_id               0\n",
       "user_ratings_total     0\n",
       "rating                 0\n",
       "price_level           41\n",
       "comida_norm            1\n",
       "servicio_norm          1\n",
       "ambiente_norm          1\n",
       "satisfaccion_norm      1\n",
       "dtype: int64"
      ]
     },
     "execution_count": 7,
     "metadata": {},
     "output_type": "execute_result"
    }
   ],
   "source": [
    "restaurantes.isna().sum()"
   ]
  },
  {
   "cell_type": "code",
   "execution_count": 8,
   "metadata": {},
   "outputs": [],
   "source": [
    "columns_list = restaurantes.columns "
   ]
  },
  {
   "cell_type": "code",
   "execution_count": 9,
   "metadata": {},
   "outputs": [],
   "source": [
    "restaurantes_label = restaurantes[columns_list[0]]\n",
    "restaurantes_variables = restaurantes[columns_list[1:]]"
   ]
  },
  {
   "cell_type": "markdown",
   "metadata": {},
   "source": [
    "# Limpieza"
   ]
  },
  {
   "cell_type": "code",
   "execution_count": 10,
   "metadata": {},
   "outputs": [],
   "source": [
    "# Imputar nulos\n",
    "from sklearn.impute import KNNImputer"
   ]
  },
  {
   "cell_type": "code",
   "execution_count": 11,
   "metadata": {},
   "outputs": [],
   "source": [
    "# define imputer\n",
    "imputer = KNNImputer(n_neighbors=5, weights='uniform', metric='nan_euclidean')\n",
    "# fit on the dataset\n",
    "imputer.fit(restaurantes_variables)\n",
    "# transform the dataset\n",
    "restaurantes_imputed = imputer.transform(restaurantes_variables)"
   ]
  },
  {
   "cell_type": "code",
   "execution_count": 12,
   "metadata": {},
   "outputs": [],
   "source": [
    "restaurantes_imputed_df = pd.DataFrame(restaurantes_imputed, columns=[columns_list[1:]])"
   ]
  },
  {
   "cell_type": "code",
   "execution_count": 13,
   "metadata": {},
   "outputs": [],
   "source": [
    "# Escalar valores\n",
    "from sklearn.preprocessing import MinMaxScaler\n",
    "\n",
    "scaler = MinMaxScaler()\n",
    "restaurantes_imputed_scaled = scaler.fit_transform(restaurantes_imputed)"
   ]
  },
  {
   "cell_type": "code",
   "execution_count": 14,
   "metadata": {},
   "outputs": [],
   "source": [
    "restaurantes_imputed_df = pd.DataFrame(restaurantes_imputed_scaled, columns=[columns_list[1:]])"
   ]
  },
  {
   "cell_type": "markdown",
   "metadata": {},
   "source": [
    "# Clusterización"
   ]
  },
  {
   "cell_type": "code",
   "execution_count": 15,
   "metadata": {},
   "outputs": [],
   "source": [
    "import matplotlib.pyplot as plt\n",
    "import seaborn as sns"
   ]
  },
  {
   "cell_type": "code",
   "execution_count": 16,
   "metadata": {},
   "outputs": [
    {
     "data": {
      "image/png": "[encoded data removed]",
      "text/plain": [
       "<Figure size 1008x864 with 2 Axes>"
      ]
     },
     "metadata": {
      "needs_background": "light"
     },
     "output_type": "display_data"
    }
   ],
   "source": [
    "correlation = restaurantes_imputed_df.corr()\n",
    "#display(correlation)\n",
    "plt.figure(figsize=(14, 12))\n",
    "\n",
    "heatmap = sns.heatmap(correlation, annot=True, linewidths=0, vmin=-1, cmap=\"RdBu_r\")\n",
    "plt.title('Heatmap de correlaciones')\n",
    "plt.show()"
   ]
  },
  {
   "cell_type": "code",
   "execution_count": 17,
   "metadata": {},
   "outputs": [],
   "source": [
    "from sklearn.cluster import KMeans\n",
    "from scipy.spatial.distance import cdist"
   ]
  },
  {
   "cell_type": "code",
   "execution_count": 18,
   "metadata": {},
   "outputs": [],
   "source": [
    "# Variables para clusterizar\n",
    "x = ['price_level', 'comida_norm', 'servicio_norm', 'ambiente_norm']"
   ]
  },
  {
   "cell_type": "code",
   "execution_count": 19,
   "metadata": {},
   "outputs": [],
   "source": [
    "clusters = restaurantes_imputed_df.copy()\n",
    "clusters = clusters[x]"
   ]
  },
  {
   "cell_type": "code",
   "execution_count": 20,
   "metadata": {},
   "outputs": [
    {
     "data": {
      "image/png": "[encoded data removed]",
      "text/plain": [
       "<Figure size 432x288 with 1 Axes>"
      ]
     },
     "metadata": {
      "needs_background": "light"
     },
     "output_type": "display_data"
    }
   ],
   "source": [
    "mat = clusters.values\n",
    "\n",
    "distortions = []\n",
    "K = range(1,10)\n",
    "for k in K:\n",
    "    kmeanModel = KMeans(n_clusters=k).fit(mat)\n",
    "    kmeanModel.fit(mat)\n",
    "    distortions.append(sum(np.min(cdist(mat, kmeanModel.cluster_centers_, 'euclidean'), axis=1)) / mat.shape[0])\n",
    "\n",
    "# Plot the elbow\n",
    "plt.plot(K, distortions, 'bx-')\n",
    "plt.xlabel('k')\n",
    "plt.ylabel('Distortion')\n",
    "plt.title('The Elbow Method showing the optimal k')\n",
    "plt.show()"
   ]
  },
  {
   "cell_type": "code",
   "execution_count": 21,
   "metadata": {},
   "outputs": [],
   "source": [
    "## Unsupervised method\n",
    "kmeans = KMeans(n_clusters=5, random_state=0).fit(mat)\n",
    "# Get cluster assignment labels\n",
    "labels = kmeans.labels_\n",
    "# Format results as a DataFrame\n",
    "restaurantes_imputed_df['cluster'] = labels.T.tolist()"
   ]
  },
  {
   "cell_type": "code",
   "execution_count": 22,
   "metadata": {},
   "outputs": [],
   "source": [
    "#Guardar resultados\n",
    "restaurantes_imputed_df.to_csv('knn_restaurantes_results.csv', index=False)"
   ]
  },
  {
   "cell_type": "code",
   "execution_count": 23,
   "metadata": {},
   "outputs": [],
   "source": [
    "restaurants_results = pd.read_csv('knn_restaurantes_results.csv')"
   ]
  },
  {
   "cell_type": "code",
   "execution_count": 25,
   "metadata": {},
   "outputs": [
    {
     "data": {
      "text/html": [
       "<div>\n",
       "<style scoped>\n",
       "    .dataframe tbody tr th:only-of-type {\n",
       "        vertical-align: middle;\n",
       "    }\n",
       "\n",
       "    .dataframe tbody tr th {\n",
       "        vertical-align: top;\n",
       "    }\n",
       "\n",
       "    .dataframe thead th {\n",
       "        text-align: right;\n",
       "    }\n",
       "</style>\n",
       "<table border=\"1\" class=\"dataframe\">\n",
       "  <thead>\n",
       "    <tr style=\"text-align: right;\">\n",
       "      <th></th>\n",
       "      <th>user_ratings_total</th>\n",
       "      <th>rating</th>\n",
       "      <th>price_level</th>\n",
       "      <th>comida_norm</th>\n",
       "      <th>servicio_norm</th>\n",
       "      <th>ambiente_norm</th>\n",
       "      <th>satisfaccion_norm</th>\n",
       "      <th>cluster</th>\n",
       "    </tr>\n",
       "  </thead>\n",
       "  <tbody>\n",
       "    <tr>\n",
       "      <th>0</th>\n",
       "      <td>0.001676</td>\n",
       "      <td>0.5</td>\n",
       "      <td>0.133333</td>\n",
       "      <td>0.661158</td>\n",
       "      <td>0.417739</td>\n",
       "      <td>0.518033</td>\n",
       "      <td>0.30514</td>\n",
       "      <td>2</td>\n",
       "    </tr>\n",
       "  </tbody>\n",
       "</table>\n",
       "</div>"
      ],
      "text/plain": [
       "   user_ratings_total  rating  price_level  comida_norm  servicio_norm  \\\n",
       "0            0.001676     0.5     0.133333     0.661158       0.417739   \n",
       "\n",
       "   ambiente_norm  satisfaccion_norm  cluster  \n",
       "0       0.518033            0.30514        2  "
      ]
     },
     "execution_count": 25,
     "metadata": {},
     "output_type": "execute_result"
    }
   ],
   "source": [
    "restaurants_results.head(1)"
   ]
  },
  {
   "cell_type": "code",
   "execution_count": 28,
   "metadata": {},
   "outputs": [
    {
     "data": {
      "application/vnd.plotly.v1+json": {
       "config": {
        "plotlyServerURL": "https://plot.ly"
       },
       "data": [
        {
         "hovertemplate": "comida_norm=%{x}<br>ambiente_norm=%{y}<br>servicio_norm=%{z}<br>price_level=%{marker.color}<extra></extra>",
         "legendgroup": "",
         "marker": {
          "color": [
           0.1333333333333333,
           0.1333333333333333,
           0,
           0.1333333333333333,
           0.6666666666666667,
           0.6666666666666667,
           0.3333333333333333,
           0.3333333333333333,
           0.3333333333333333,
           0.3333333333333333,
           0.5333333333333334,
           0.3333333333333333,
           0.3333333333333333,
           0.1333333333333333,
           0.6666666666666667,
           0,
           0.3333333333333333,
           0.3333333333333333,
           0.1333333333333333,
           0.3333333333333333,
           0,
           0.1333333333333333,
           1,
           0.1333333333333333,
           0.3333333333333333,
           0.6666666666666667,
           0.6666666666666667,
           0.5333333333333334,
           0.3333333333333333,
           0.2,
           0,
           0.6666666666666667,
           0.3333333333333333,
           0.3333333333333333,
           0.6666666666666667,
           0,
           0,
           0.3333333333333333,
           0.3333333333333333,
           0.3333333333333333,
           0.4666666666666666,
           0.26666666666666666,
           0.1333333333333333,
           0,
           0.3333333333333333,
           0.1333333333333333,
           0.1333333333333333,
           0.26666666666666666,
           0.5333333333333334,
           0.6666666666666667,
           0.3333333333333333,
           0.3333333333333333,
           0.3333333333333333,
           0,
           0.1333333333333333,
           0,
           0,
           0.3333333333333333,
           0.1333333333333333,
           0.5333333333333334,
           0.1333333333333333,
           0.3333333333333333,
           0,
           0.3333333333333333,
           0.3333333333333333,
           0.3333333333333333,
           0.1333333333333333,
           0.1333333333333333,
           0.6666666666666667,
           0.3333333333333333,
           0,
           0.3333333333333333,
           0.3333333333333333,
           0.1333333333333333,
           0.1333333333333333,
           0.3333333333333333,
           0.6666666666666667,
           0,
           0.3333333333333333,
           0,
           0.1333333333333333,
           0.1333333333333333,
           0.6666666666666667,
           0.6666666666666667,
           0,
           0,
           0.1333333333333333,
           1,
           0.6666666666666667,
           0.3333333333333333,
           0.3333333333333333,
           0.26666666666666666,
           0.6666666666666667,
           0.5333333333333334,
           0.3333333333333333,
           0,
           0.3333333333333333,
           0.6666666666666667,
           0.1333333333333333,
           0.6666666666666667,
           0.26666666666666666,
           0.3333333333333333,
           0,
           0.26666666666666666,
           0.5333333333333334,
           0.1333333333333333,
           0.1333333333333333,
           0.3333333333333333,
           0,
           0.3333333333333333,
           0.3333333333333333,
           0.3333333333333333,
           0.4666666666666666,
           0.3333333333333333
          ],
          "coloraxis": "coloraxis",
          "symbol": "circle"
         },
         "mode": "markers",
         "name": "",
         "scene": "scene",
         "showlegend": false,
         "type": "scatter3d",
         "x": [
          0.6611582943797049,
          0.30260725441448344,
          0.5846801841512392,
          0.7409856636235839,
          0.2656339644291452,
          0.33390991114422164,
          0.6486098001838384,
          0.5643727793379032,
          0.4915927446047929,
          0.8088467718712838,
          0.288143268201432,
          0.49352226180469394,
          0.6099502978632401,
          0.589377919842636,
          0.5032642584317174,
          0.8023065346271213,
          0.5337358504312034,
          0.5882559363668267,
          0.4559675343828909,
          0.5944864969350008,
          0.5640378623639102,
          0.5687734326008353,
          0.14977190731894952,
          0.5041638415132392,
          0.6858308093948331,
          0.4699762377369358,
          0.3230513088769646,
          0.16119079492573474,
          0.7718858311791845,
          0.4766670612912725,
          0.5822443212001446,
          0.4532225857527064,
          0.5605333688099536,
          0.4798240581373113,
          0.5368486934751997,
          0.5599203536836421,
          0.4104672658889527,
          0.5052655780962266,
          0.4994945769472449,
          0.4243049764103051,
          0.1258366800535476,
          0.6118059539746289,
          0.3145917001338689,
          0.6805325971495604,
          0.5450199064656897,
          0.6022183973991204,
          0.5818674518378998,
          0.5200393410376201,
          0.3928698519212475,
          0.3118260588140107,
          0.6282087616098361,
          0.6750352827827285,
          0.3484301351062515,
          0.5722572831006567,
          0.704942217850996,
          0.479650202541769,
          0.5639701663798051,
          0.6341769193174818,
          0.4823739402052656,
          0.4351624873713229,
          0.446744506985471,
          0.5827841610974143,
          0.5246719839207438,
          0.4748836616306497,
          0.6564875855623754,
          0.6410868700025327,
          0.515930388219545,
          0.704942217850996,
          0.33256836871294715,
          0.6022183973991204,
          0.4584050487664947,
          0.4341248730233241,
          1.0000000000000002,
          0.6022183973991204,
          0.6675881013230411,
          0.5270920212477488,
          0.3924905973098746,
          0.4551365635702986,
          0.3672757981478012,
          0.5318749116549014,
          0.7370434117422071,
          0.4268362649203085,
          0.2463915554214897,
          0.4894236141578454,
          0.6913063124812779,
          0.6191376148853116,
          0.8560066596919895,
          0.26665391725632703,
          0.5063428316440366,
          0.6368722163467411,
          0.6429202885215617,
          0.7060835936337946,
          0.4244715620104818,
          0.21440712018754526,
          0.5322207498345681,
          0.5762280331884051,
          0.5280878053204474,
          0.22271094961858026,
          0.6022183973991204,
          0.5436897090021217,
          0.6112704440126489,
          0.5945687511952574,
          0.4865065076947089,
          0.4441817505500812,
          0,
          0.2876266972652516,
          0.26899234568937785,
          0.6022183973991204,
          0.7460317460317462,
          0.5383013535623979,
          0.5246719839207438,
          0.242685025817556,
          0.21430081227164305,
          0.5143324621236269
         ],
         "y": [
          0.518032786885246,
          0.5642857142857143,
          0.8808362369337981,
          0.9899749373433584,
          0.33617021276595743,
          0.6400852878464819,
          0.4854070660522274,
          0.28511278195488715,
          0.05787545787545788,
          0.31133004926108376,
          0.07783251231527091,
          0.02624584717607973,
          0.1456221198156682,
          0.4836734693877551,
          0.20707732634338136,
          0.09813664596273293,
          0.3654421768707483,
          0,
          0.8799031476997579,
          0.2427035330261137,
          0.1997471554993679,
          0.05249169435215946,
          0.2536115569823435,
          0.20519480519480526,
          0.31495016611295684,
          0.5967159277504105,
          0.4779831932773109,
          0.21066666666666667,
          0.6593900481540931,
          0.4657596371882086,
          0,
          0.5897039897039899,
          0,
          0.12006079027355625,
          0.7694805194805194,
          0.23899159663865546,
          0,
          0.0507223113964687,
          0.023032069970845483,
          0.6748159057437407,
          0.14107142857142854,
          0,
          0,
          0.2681753889674682,
          0.3590909090909091,
          0,
          0.12776280323450134,
          0.4836734693877551,
          0.057142857142857134,
          0.3255494505494505,
          0.054388984509466456,
          1,
          0.5974789915966386,
          0,
          0.1074829931972789,
          0.0512987012987013,
          0.07203647416413374,
          0.8526984126984126,
          0,
          0.5471861471861473,
          0.5490347490347491,
          0.4880308880308881,
          0,
          0.14107142857142854,
          0.17035040431266846,
          0.14234234234234233,
          0.27085714285714285,
          0.06448979591836734,
          0.7181818181818181,
          0.5384010484927918,
          0.1504761904761905,
          0.029313543599257887,
          0.6723404255319149,
          0.3761904761904762,
          0.4103896103896105,
          0.033688699360341155,
          0.3526785714285714,
          0.1025974025974026,
          0.2681753889674682,
          0.09813664596273293,
          0,
          0.05505226480836237,
          0.5119293078055964,
          0.2655462184873949,
          0.3994943109987358,
          0.584201680672269,
          0.19915966386554626,
          0.25795918367346937,
          0.5015873015873016,
          0.6798623063683307,
          0.3407008086253369,
          0.2758730158730159,
          0.3296950240770465,
          0.025361155698234352,
          0.019974715549936788,
          0,
          0.0930780559646539,
          0.40753968253968254,
          0.13277310924369748,
          0.4199335548172756,
          0.3295975147120258,
          0.4562310030395136,
          0.025944170771756973,
          0.7441130298273156,
          0.056428571428571425,
          0,
          0,
          0.4661490683229814,
          0.2257142857142857,
          0.2507936507936508,
          0.44257703081232497,
          0.1975,
          0.5048872180451128,
          0.050158730158730166
         ],
         "z": [
          0.4177392577816774,
          0.09382620972917467,
          0.4680541337565858,
          0.6573644353471279,
          0.6457450904890257,
          0.576549290513164,
          0.6101374207625838,
          0.40173884846888097,
          0.3230848217371127,
          0.4858789319241033,
          0.24227335696803115,
          0.2452830188679245,
          0.5674082170908532,
          0.3619010946696737,
          0.992086846855758,
          0.5248028661833889,
          0.7655903331683077,
          0.5364330014841621,
          0.4998139965932006,
          0.6386235565437374,
          0.4171627575725565,
          0.2298806314978821,
          0.4448218125494845,
          0.5704834249308642,
          1,
          0.6838084615759119,
          0.6847040703073681,
          0.2483634963419329,
          0.6680698991489749,
          0.6352323499031237,
          0.4433748342104136,
          0.6039782562693614,
          0.19461139665053875,
          0.6457450904890257,
          0.7210067560471871,
          0.6067861106706832,
          0.2336456595216703,
          0.2959897548164909,
          0.3889338561762787,
          0.6252615031618559,
          0.4304967269926838,
          0.2836863047105634,
          0.2483634963419329,
          0.5211535015650198,
          0.38985542759127656,
          0.2318059299191374,
          0.3458344533968801,
          0.6078992243797788,
          0.4696899538415795,
          0.6202719113770326,
          0.5420109394064514,
          0.6708958242958037,
          0.5483476409431697,
          0.8665126427929661,
          0.04651887709261601,
          0.2092274302516889,
          0.4766465397881352,
          0.6898986009498138,
          0.3145937620331151,
          0.7862335328642606,
          0.4846444442131773,
          0.5323779690356509,
          0.4119912115789712,
          0.9493004749069436,
          0.4832934953974469,
          0.3175771073345197,
          0.3543319214478244,
          0.7025138896528961,
          0.7059544229355549,
          0.6761259463106689,
          0.4249775381850853,
          0.6371437572823787,
          0.504829631571617,
          0.35138835408377184,
          0.4651170931494382,
          0.5963195190776958,
          0.4801694262610704,
          0.2694367626982181,
          0.744106871218504,
          0.3577874135708425,
          0.3145937620331151,
          0.27420945368483324,
          0.4887042543140577,
          0.5288681510339984,
          0.475773612166523,
          0.5288681510339984,
          0.5288681510339984,
          0.3871316720758384,
          0.7634877850511274,
          0.4622154385737017,
          0.6332488139435196,
          0.6898986009498138,
          0.6829531049222739,
          0.16204090285679668,
          0.4288849284913498,
          0.4302972382406019,
          0.33849128058147976,
          0.756128866640996,
          0.5288681510339984,
          0.7227570273392375,
          0.5707764350458144,
          0.7162028199477302,
          0.3488507960113127,
          0.5947987322650395,
          0,
          0.1490180978051598,
          0.17728711364895702,
          0.6457450904890257,
          0.439695375005348,
          0.5574380695674496,
          0.50289549782177,
          0.1986907970735464,
          0.2274486755973491,
          0.5280023959269241
         ]
        }
       ],
       "layout": {
        "coloraxis": {
         "colorbar": {
          "title": {
           "text": "price_level"
          }
         },
         "colorscale": [
          [
           0,
           "#0d0887"
          ],
          [
           0.1111111111111111,
           "#46039f"
          ],
          [
           0.2222222222222222,
           "#7201a8"
          ],
          [
           0.3333333333333333,
           "#9c179e"
          ],
          [
           0.4444444444444444,
           "#bd3786"
          ],
          [
           0.5555555555555556,
           "#d8576b"
          ],
          [
           0.6666666666666666,
           "#ed7953"
          ],
          [
           0.7777777777777778,
           "#fb9f3a"
          ],
          [
           0.8888888888888888,
           "#fdca26"
          ],
          [
           1,
           "#f0f921"
          ]
         ]
        },
        "legend": {
         "tracegroupgap": 0
        },
        "margin": {
         "t": 60
        },
        "scene": {
         "domain": {
          "x": [
           0,
           1
          ],
          "y": [
           0,
           1
          ]
         },
         "xaxis": {
          "title": {
           "text": "comida_norm"
          }
         },
         "yaxis": {
          "title": {
           "text": "ambiente_norm"
          }
         },
         "zaxis": {
          "title": {
           "text": "servicio_norm"
          }
         }
        },
        "template": {
         "data": {
          "bar": [
           {
            "error_x": {
             "color": "#2a3f5f"
            },
            "error_y": {
             "color": "#2a3f5f"
            },
            "marker": {
             "line": {
              "color": "#E5ECF6",
              "width": 0.5
             }
            },
            "type": "bar"
           }
          ],
          "barpolar": [
           {
            "marker": {
             "line": {
              "color": "#E5ECF6",
              "width": 0.5
             }
            },
            "type": "barpolar"
           }
          ],
          "carpet": [
           {
            "aaxis": {
             "endlinecolor": "#2a3f5f",
             "gridcolor": "white",
             "linecolor": "white",
             "minorgridcolor": "white",
             "startlinecolor": "#2a3f5f"
            },
            "baxis": {
             "endlinecolor": "#2a3f5f",
             "gridcolor": "white",
             "linecolor": "white",
             "minorgridcolor": "white",
             "startlinecolor": "#2a3f5f"
            },
            "type": "carpet"
           }
          ],
          "choropleth": [
           {
            "colorbar": {
             "outlinewidth": 0,
             "ticks": ""
            },
            "type": "choropleth"
           }
          ],
          "contour": [
           {
            "colorbar": {
             "outlinewidth": 0,
             "ticks": ""
            },
            "colorscale": [
             [
              0,
              "#0d0887"
             ],
             [
              0.1111111111111111,
              "#46039f"
             ],
             [
              0.2222222222222222,
              "#7201a8"
             ],
             [
              0.3333333333333333,
              "#9c179e"
             ],
             [
              0.4444444444444444,
              "#bd3786"
             ],
             [
              0.5555555555555556,
              "#d8576b"
             ],
             [
              0.6666666666666666,
              "#ed7953"
             ],
             [
              0.7777777777777778,
              "#fb9f3a"
             ],
             [
              0.8888888888888888,
              "#fdca26"
             ],
             [
              1,
              "#f0f921"
             ]
            ],
            "type": "contour"
           }
          ],
          "contourcarpet": [
           {
            "colorbar": {
             "outlinewidth": 0,
             "ticks": ""
            },
            "type": "contourcarpet"
           }
          ],
          "heatmap": [
           {
            "colorbar": {
             "outlinewidth": 0,
             "ticks": ""
            },
            "colorscale": [
             [
              0,
              "#0d0887"
             ],
             [
              0.1111111111111111,
              "#46039f"
             ],
             [
              0.2222222222222222,
              "#7201a8"
             ],
             [
              0.3333333333333333,
              "#9c179e"
             ],
             [
              0.4444444444444444,
              "#bd3786"
             ],
             [
              0.5555555555555556,
              "#d8576b"
             ],
             [
              0.6666666666666666,
              "#ed7953"
             ],
             [
              0.7777777777777778,
              "#fb9f3a"
             ],
             [
              0.8888888888888888,
              "#fdca26"
             ],
             [
              1,
              "#f0f921"
             ]
            ],
            "type": "heatmap"
           }
          ],
          "heatmapgl": [
           {
            "colorbar": {
             "outlinewidth": 0,
             "ticks": ""
            },
            "colorscale": [
             [
              0,
              "#0d0887"
             ],
             [
              0.1111111111111111,
              "#46039f"
             ],
             [
              0.2222222222222222,
              "#7201a8"
             ],
             [
              0.3333333333333333,
              "#9c179e"
             ],
             [
              0.4444444444444444,
              "#bd3786"
             ],
             [
              0.5555555555555556,
              "#d8576b"
             ],
             [
              0.6666666666666666,
              "#ed7953"
             ],
             [
              0.7777777777777778,
              "#fb9f3a"
             ],
             [
              0.8888888888888888,
              "#fdca26"
             ],
             [
              1,
              "#f0f921"
             ]
            ],
            "type": "heatmapgl"
           }
          ],
          "histogram": [
           {
            "marker": {
             "colorbar": {
              "outlinewidth": 0,
              "ticks": ""
             }
            },
            "type": "histogram"
           }
          ],
          "histogram2d": [
           {
            "colorbar": {
             "outlinewidth": 0,
             "ticks": ""
            },
            "colorscale": [
             [
              0,
              "#0d0887"
             ],
             [
              0.1111111111111111,
              "#46039f"
             ],
             [
              0.2222222222222222,
              "#7201a8"
             ],
             [
              0.3333333333333333,
              "#9c179e"
             ],
             [
              0.4444444444444444,
              "#bd3786"
             ],
             [
              0.5555555555555556,
              "#d8576b"
             ],
             [
              0.6666666666666666,
              "#ed7953"
             ],
             [
              0.7777777777777778,
              "#fb9f3a"
             ],
             [
              0.8888888888888888,
              "#fdca26"
             ],
             [
              1,
              "#f0f921"
             ]
            ],
            "type": "histogram2d"
           }
          ],
          "histogram2dcontour": [
           {
            "colorbar": {
             "outlinewidth": 0,
             "ticks": ""
            },
            "colorscale": [
             [
              0,
              "#0d0887"
             ],
             [
              0.1111111111111111,
              "#46039f"
             ],
             [
              0.2222222222222222,
              "#7201a8"
             ],
             [
              0.3333333333333333,
              "#9c179e"
             ],
             [
              0.4444444444444444,
              "#bd3786"
             ],
             [
              0.5555555555555556,
              "#d8576b"
             ],
             [
              0.6666666666666666,
              "#ed7953"
             ],
             [
              0.7777777777777778,
              "#fb9f3a"
             ],
             [
              0.8888888888888888,
              "#fdca26"
             ],
             [
              1,
              "#f0f921"
             ]
            ],
            "type": "histogram2dcontour"
           }
          ],
          "mesh3d": [
           {
            "colorbar": {
             "outlinewidth": 0,
             "ticks": ""
            },
            "type": "mesh3d"
           }
          ],
          "parcoords": [
           {
            "line": {
             "colorbar": {
              "outlinewidth": 0,
              "ticks": ""
             }
            },
            "type": "parcoords"
           }
          ],
          "pie": [
           {
            "automargin": true,
            "type": "pie"
           }
          ],
          "scatter": [
           {
            "marker": {
             "colorbar": {
              "outlinewidth": 0,
              "ticks": ""
             }
            },
            "type": "scatter"
           }
          ],
          "scatter3d": [
           {
            "line": {
             "colorbar": {
              "outlinewidth": 0,
              "ticks": ""
             }
            },
            "marker": {
             "colorbar": {
              "outlinewidth": 0,
              "ticks": ""
             }
            },
            "type": "scatter3d"
           }
          ],
          "scattercarpet": [
           {
            "marker": {
             "colorbar": {
              "outlinewidth": 0,
              "ticks": ""
             }
            },
            "type": "scattercarpet"
           }
          ],
          "scattergeo": [
           {
            "marker": {
             "colorbar": {
              "outlinewidth": 0,
              "ticks": ""
             }
            },
            "type": "scattergeo"
           }
          ],
          "scattergl": [
           {
            "marker": {
             "colorbar": {
              "outlinewidth": 0,
              "ticks": ""
             }
            },
            "type": "scattergl"
           }
          ],
          "scattermapbox": [
           {
            "marker": {
             "colorbar": {
              "outlinewidth": 0,
              "ticks": ""
             }
            },
            "type": "scattermapbox"
           }
          ],
          "scatterpolar": [
           {
            "marker": {
             "colorbar": {
              "outlinewidth": 0,
              "ticks": ""
             }
            },
            "type": "scatterpolar"
           }
          ],
          "scatterpolargl": [
           {
            "marker": {
             "colorbar": {
              "outlinewidth": 0,
              "ticks": ""
             }
            },
            "type": "scatterpolargl"
           }
          ],
          "scatterternary": [
           {
            "marker": {
             "colorbar": {
              "outlinewidth": 0,
              "ticks": ""
             }
            },
            "type": "scatterternary"
           }
          ],
          "surface": [
           {
            "colorbar": {
             "outlinewidth": 0,
             "ticks": ""
            },
            "colorscale": [
             [
              0,
              "#0d0887"
             ],
             [
              0.1111111111111111,
              "#46039f"
             ],
             [
              0.2222222222222222,
              "#7201a8"
             ],
             [
              0.3333333333333333,
              "#9c179e"
             ],
             [
              0.4444444444444444,
              "#bd3786"
             ],
             [
              0.5555555555555556,
              "#d8576b"
             ],
             [
              0.6666666666666666,
              "#ed7953"
             ],
             [
              0.7777777777777778,
              "#fb9f3a"
             ],
             [
              0.8888888888888888,
              "#fdca26"
             ],
             [
              1,
              "#f0f921"
             ]
            ],
            "type": "surface"
           }
          ],
          "table": [
           {
            "cells": {
             "fill": {
              "color": "#EBF0F8"
             },
             "line": {
              "color": "white"
             }
            },
            "header": {
             "fill": {
              "color": "#C8D4E3"
             },
             "line": {
              "color": "white"
             }
            },
            "type": "table"
           }
          ]
         },
         "layout": {
          "annotationdefaults": {
           "arrowcolor": "#2a3f5f",
           "arrowhead": 0,
           "arrowwidth": 1
          },
          "coloraxis": {
           "colorbar": {
            "outlinewidth": 0,
            "ticks": ""
           }
          },
          "colorscale": {
           "diverging": [
            [
             0,
             "#8e0152"
            ],
            [
             0.1,
             "#c51b7d"
            ],
            [
             0.2,
             "#de77ae"
            ],
            [
             0.3,
             "#f1b6da"
            ],
            [
             0.4,
             "#fde0ef"
            ],
            [
             0.5,
             "#f7f7f7"
            ],
            [
             0.6,
             "#e6f5d0"
            ],
            [
             0.7,
             "#b8e186"
            ],
            [
             0.8,
             "#7fbc41"
            ],
            [
             0.9,
             "#4d9221"
            ],
            [
             1,
             "#276419"
            ]
           ],
           "sequential": [
            [
             0,
             "#0d0887"
            ],
            [
             0.1111111111111111,
             "#46039f"
            ],
            [
             0.2222222222222222,
             "#7201a8"
            ],
            [
             0.3333333333333333,
             "#9c179e"
            ],
            [
             0.4444444444444444,
             "#bd3786"
            ],
            [
             0.5555555555555556,
             "#d8576b"
            ],
            [
             0.6666666666666666,
             "#ed7953"
            ],
            [
             0.7777777777777778,
             "#fb9f3a"
            ],
            [
             0.8888888888888888,
             "#fdca26"
            ],
            [
             1,
             "#f0f921"
            ]
           ],
           "sequentialminus": [
            [
             0,
             "#0d0887"
            ],
            [
             0.1111111111111111,
             "#46039f"
            ],
            [
             0.2222222222222222,
             "#7201a8"
            ],
            [
             0.3333333333333333,
             "#9c179e"
            ],
            [
             0.4444444444444444,
             "#bd3786"
            ],
            [
             0.5555555555555556,
             "#d8576b"
            ],
            [
             0.6666666666666666,
             "#ed7953"
            ],
            [
             0.7777777777777778,
             "#fb9f3a"
            ],
            [
             0.8888888888888888,
             "#fdca26"
            ],
            [
             1,
             "#f0f921"
            ]
           ]
          },
          "colorway": [
           "#636efa",
           "#EF553B",
           "#00cc96",
           "#ab63fa",
           "#FFA15A",
           "#19d3f3",
           "#FF6692",
           "#B6E880",
           "#FF97FF",
           "#FECB52"
          ],
          "font": {
           "color": "#2a3f5f"
          },
          "geo": {
           "bgcolor": "white",
           "lakecolor": "white",
           "landcolor": "#E5ECF6",
           "showlakes": true,
           "showland": true,
           "subunitcolor": "white"
          },
          "hoverlabel": {
           "align": "left"
          },
          "hovermode": "closest",
          "mapbox": {
           "style": "light"
          },
          "paper_bgcolor": "white",
          "plot_bgcolor": "#E5ECF6",
          "polar": {
           "angularaxis": {
            "gridcolor": "white",
            "linecolor": "white",
            "ticks": ""
           },
           "bgcolor": "#E5ECF6",
           "radialaxis": {
            "gridcolor": "white",
            "linecolor": "white",
            "ticks": ""
           }
          },
          "scene": {
           "xaxis": {
            "backgroundcolor": "#E5ECF6",
            "gridcolor": "white",
            "gridwidth": 2,
            "linecolor": "white",
            "showbackground": true,
            "ticks": "",
            "zerolinecolor": "white"
           },
           "yaxis": {
            "backgroundcolor": "#E5ECF6",
            "gridcolor": "white",
            "gridwidth": 2,
            "linecolor": "white",
            "showbackground": true,
            "ticks": "",
            "zerolinecolor": "white"
           },
           "zaxis": {
            "backgroundcolor": "#E5ECF6",
            "gridcolor": "white",
            "gridwidth": 2,
            "linecolor": "white",
            "showbackground": true,
            "ticks": "",
            "zerolinecolor": "white"
           }
          },
          "shapedefaults": {
           "line": {
            "color": "#2a3f5f"
           }
          },
          "ternary": {
           "aaxis": {
            "gridcolor": "white",
            "linecolor": "white",
            "ticks": ""
           },
           "baxis": {
            "gridcolor": "white",
            "linecolor": "white",
            "ticks": ""
           },
           "bgcolor": "#E5ECF6",
           "caxis": {
            "gridcolor": "white",
            "linecolor": "white",
            "ticks": ""
           }
          },
          "title": {
           "x": 0.05
          },
          "xaxis": {
           "automargin": true,
           "gridcolor": "white",
           "linecolor": "white",
           "ticks": "",
           "title": {
            "standoff": 15
           },
           "zerolinecolor": "white",
           "zerolinewidth": 2
          },
          "yaxis": {
           "automargin": true,
           "gridcolor": "white",
           "linecolor": "white",
           "ticks": "",
           "title": {
            "standoff": 15
           },
           "zerolinecolor": "white",
           "zerolinewidth": 2
          }
         }
        }
       }
      },
      "text/html": [
       "<div>\n",
       "        \n",
       "        \n",
       "            <div id=\"da3dafdf-358e-4004-9f64-eb485bec05cf\" class=\"plotly-graph-div\" style=\"height:525px; width:100%;\"></div>\n",
       "            <script type=\"text/javascript\">\n",
       "                require([\"plotly\"], function(Plotly) {\n",
       "                    window.PLOTLYENV=window.PLOTLYENV || {};\n",
       "                    \n",
       "                if (document.getElementById(\"da3dafdf-358e-4004-9f64-eb485bec05cf\")) {\n",
       "                    Plotly.newPlot(\n",
       "                        'da3dafdf-358e-4004-9f64-eb485bec05cf',\n",
       "                        [{\"hovertemplate\": \"comida_norm=%{x}<br>ambiente_norm=%{y}<br>servicio_norm=%{z}<br>price_level=%{marker.color}<extra></extra>\", \"legendgroup\": \"\", \"marker\": {\"color\": [0.1333333333333333, 0.1333333333333333, 0.0, 0.1333333333333333, 0.6666666666666667, 0.6666666666666667, 0.3333333333333333, 0.3333333333333333, 0.3333333333333333, 0.3333333333333333, 0.5333333333333334, 0.3333333333333333, 0.3333333333333333, 0.1333333333333333, 0.6666666666666667, 0.0, 0.3333333333333333, 0.3333333333333333, 0.1333333333333333, 0.3333333333333333, 0.0, 0.1333333333333333, 1.0, 0.1333333333333333, 0.3333333333333333, 0.6666666666666667, 0.6666666666666667, 0.5333333333333334, 0.3333333333333333, 0.2, 0.0, 0.6666666666666667, 0.3333333333333333, 0.3333333333333333, 0.6666666666666667, 0.0, 0.0, 0.3333333333333333, 0.3333333333333333, 0.3333333333333333, 0.4666666666666666, 0.26666666666666666, 0.1333333333333333, 0.0, 0.3333333333333333, 0.1333333333333333, 0.1333333333333333, 0.26666666666666666, 0.5333333333333334, 0.6666666666666667, 0.3333333333333333, 0.3333333333333333, 0.3333333333333333, 0.0, 0.1333333333333333, 0.0, 0.0, 0.3333333333333333, 0.1333333333333333, 0.5333333333333334, 0.1333333333333333, 0.3333333333333333, 0.0, 0.3333333333333333, 0.3333333333333333, 0.3333333333333333, 0.1333333333333333, 0.1333333333333333, 0.6666666666666667, 0.3333333333333333, 0.0, 0.3333333333333333, 0.3333333333333333, 0.1333333333333333, 0.1333333333333333, 0.3333333333333333, 0.6666666666666667, 0.0, 0.3333333333333333, 0.0, 0.1333333333333333, 0.1333333333333333, 0.6666666666666667, 0.6666666666666667, 0.0, 0.0, 0.1333333333333333, 1.0, 0.6666666666666667, 0.3333333333333333, 0.3333333333333333, 0.26666666666666666, 0.6666666666666667, 0.5333333333333334, 0.3333333333333333, 0.0, 0.3333333333333333, 0.6666666666666667, 0.1333333333333333, 0.6666666666666667, 0.26666666666666666, 0.3333333333333333, 0.0, 0.26666666666666666, 0.5333333333333334, 0.1333333333333333, 0.1333333333333333, 0.3333333333333333, 0.0, 0.3333333333333333, 0.3333333333333333, 0.3333333333333333, 0.4666666666666666, 0.3333333333333333], \"coloraxis\": \"coloraxis\", \"symbol\": \"circle\"}, \"mode\": \"markers\", \"name\": \"\", \"scene\": \"scene\", \"showlegend\": false, \"type\": \"scatter3d\", \"x\": [0.6611582943797049, 0.30260725441448344, 0.5846801841512392, 0.7409856636235839, 0.2656339644291452, 0.33390991114422164, 0.6486098001838384, 0.5643727793379032, 0.4915927446047929, 0.8088467718712838, 0.288143268201432, 0.49352226180469394, 0.6099502978632401, 0.589377919842636, 0.5032642584317174, 0.8023065346271213, 0.5337358504312034, 0.5882559363668267, 0.4559675343828909, 0.5944864969350008, 0.5640378623639102, 0.5687734326008353, 0.14977190731894952, 0.5041638415132392, 0.6858308093948331, 0.4699762377369358, 0.3230513088769646, 0.16119079492573474, 0.7718858311791845, 0.4766670612912725, 0.5822443212001446, 0.4532225857527064, 0.5605333688099536, 0.4798240581373113, 0.5368486934751997, 0.5599203536836421, 0.4104672658889527, 0.5052655780962266, 0.4994945769472449, 0.4243049764103051, 0.1258366800535476, 0.6118059539746289, 0.3145917001338689, 0.6805325971495604, 0.5450199064656897, 0.6022183973991204, 0.5818674518378998, 0.5200393410376201, 0.3928698519212475, 0.3118260588140107, 0.6282087616098361, 0.6750352827827285, 0.3484301351062515, 0.5722572831006567, 0.704942217850996, 0.479650202541769, 0.5639701663798051, 0.6341769193174818, 0.4823739402052656, 0.4351624873713229, 0.446744506985471, 0.5827841610974143, 0.5246719839207438, 0.4748836616306497, 0.6564875855623754, 0.6410868700025327, 0.515930388219545, 0.704942217850996, 0.33256836871294715, 0.6022183973991204, 0.4584050487664947, 0.4341248730233241, 1.0000000000000002, 0.6022183973991204, 0.6675881013230411, 0.5270920212477488, 0.3924905973098746, 0.4551365635702986, 0.3672757981478012, 0.5318749116549014, 0.7370434117422071, 0.4268362649203085, 0.2463915554214897, 0.4894236141578454, 0.6913063124812779, 0.6191376148853116, 0.8560066596919895, 0.26665391725632703, 0.5063428316440366, 0.6368722163467411, 0.6429202885215617, 0.7060835936337946, 0.4244715620104818, 0.21440712018754526, 0.5322207498345681, 0.5762280331884051, 0.5280878053204474, 0.22271094961858026, 0.6022183973991204, 0.5436897090021217, 0.6112704440126489, 0.5945687511952574, 0.4865065076947089, 0.4441817505500812, 0.0, 0.2876266972652516, 0.26899234568937785, 0.6022183973991204, 0.7460317460317462, 0.5383013535623979, 0.5246719839207438, 0.242685025817556, 0.21430081227164305, 0.5143324621236269], \"y\": [0.518032786885246, 0.5642857142857143, 0.8808362369337981, 0.9899749373433584, 0.33617021276595743, 0.6400852878464819, 0.4854070660522274, 0.28511278195488715, 0.05787545787545788, 0.31133004926108376, 0.07783251231527091, 0.02624584717607973, 0.1456221198156682, 0.4836734693877551, 0.20707732634338136, 0.09813664596273293, 0.3654421768707483, 0.0, 0.8799031476997579, 0.2427035330261137, 0.1997471554993679, 0.05249169435215946, 0.2536115569823435, 0.20519480519480526, 0.31495016611295684, 0.5967159277504105, 0.4779831932773109, 0.21066666666666667, 0.6593900481540931, 0.4657596371882086, 0.0, 0.5897039897039899, 0.0, 0.12006079027355625, 0.7694805194805194, 0.23899159663865546, 0.0, 0.0507223113964687, 0.023032069970845483, 0.6748159057437407, 0.14107142857142854, 0.0, 0.0, 0.2681753889674682, 0.3590909090909091, 0.0, 0.12776280323450134, 0.4836734693877551, 0.057142857142857134, 0.3255494505494505, 0.054388984509466456, 1.0, 0.5974789915966386, 0.0, 0.1074829931972789, 0.0512987012987013, 0.07203647416413374, 0.8526984126984126, 0.0, 0.5471861471861473, 0.5490347490347491, 0.4880308880308881, 0.0, 0.14107142857142854, 0.17035040431266846, 0.14234234234234233, 0.27085714285714285, 0.06448979591836734, 0.7181818181818181, 0.5384010484927918, 0.1504761904761905, 0.029313543599257887, 0.6723404255319149, 0.3761904761904762, 0.4103896103896105, 0.033688699360341155, 0.3526785714285714, 0.1025974025974026, 0.2681753889674682, 0.09813664596273293, 0.0, 0.05505226480836237, 0.5119293078055964, 0.2655462184873949, 0.3994943109987358, 0.584201680672269, 0.19915966386554626, 0.25795918367346937, 0.5015873015873016, 0.6798623063683307, 0.3407008086253369, 0.2758730158730159, 0.3296950240770465, 0.025361155698234352, 0.019974715549936788, 0.0, 0.0930780559646539, 0.40753968253968254, 0.13277310924369748, 0.4199335548172756, 0.3295975147120258, 0.4562310030395136, 0.025944170771756973, 0.7441130298273156, 0.056428571428571425, 0.0, 0.0, 0.4661490683229814, 0.2257142857142857, 0.2507936507936508, 0.44257703081232497, 0.1975, 0.5048872180451128, 0.050158730158730166], \"z\": [0.4177392577816774, 0.09382620972917467, 0.4680541337565858, 0.6573644353471279, 0.6457450904890257, 0.576549290513164, 0.6101374207625838, 0.40173884846888097, 0.3230848217371127, 0.4858789319241033, 0.24227335696803115, 0.2452830188679245, 0.5674082170908532, 0.3619010946696737, 0.992086846855758, 0.5248028661833889, 0.7655903331683077, 0.5364330014841621, 0.4998139965932006, 0.6386235565437374, 0.4171627575725565, 0.2298806314978821, 0.4448218125494845, 0.5704834249308642, 1.0, 0.6838084615759119, 0.6847040703073681, 0.2483634963419329, 0.6680698991489749, 0.6352323499031237, 0.4433748342104136, 0.6039782562693614, 0.19461139665053875, 0.6457450904890257, 0.7210067560471871, 0.6067861106706832, 0.2336456595216703, 0.2959897548164909, 0.3889338561762787, 0.6252615031618559, 0.4304967269926838, 0.2836863047105634, 0.2483634963419329, 0.5211535015650198, 0.38985542759127656, 0.2318059299191374, 0.3458344533968801, 0.6078992243797788, 0.4696899538415795, 0.6202719113770326, 0.5420109394064514, 0.6708958242958037, 0.5483476409431697, 0.8665126427929661, 0.04651887709261601, 0.2092274302516889, 0.4766465397881352, 0.6898986009498138, 0.3145937620331151, 0.7862335328642606, 0.4846444442131773, 0.5323779690356509, 0.4119912115789712, 0.9493004749069436, 0.4832934953974469, 0.3175771073345197, 0.3543319214478244, 0.7025138896528961, 0.7059544229355549, 0.6761259463106689, 0.4249775381850853, 0.6371437572823787, 0.504829631571617, 0.35138835408377184, 0.4651170931494382, 0.5963195190776958, 0.4801694262610704, 0.2694367626982181, 0.744106871218504, 0.3577874135708425, 0.3145937620331151, 0.27420945368483324, 0.4887042543140577, 0.5288681510339984, 0.475773612166523, 0.5288681510339984, 0.5288681510339984, 0.3871316720758384, 0.7634877850511274, 0.4622154385737017, 0.6332488139435196, 0.6898986009498138, 0.6829531049222739, 0.16204090285679668, 0.4288849284913498, 0.4302972382406019, 0.33849128058147976, 0.756128866640996, 0.5288681510339984, 0.7227570273392375, 0.5707764350458144, 0.7162028199477302, 0.3488507960113127, 0.5947987322650395, 0.0, 0.1490180978051598, 0.17728711364895702, 0.6457450904890257, 0.439695375005348, 0.5574380695674496, 0.50289549782177, 0.1986907970735464, 0.2274486755973491, 0.5280023959269241]}],\n",
       "                        {\"coloraxis\": {\"colorbar\": {\"title\": {\"text\": \"price_level\"}}, \"colorscale\": [[0.0, \"#0d0887\"], [0.1111111111111111, \"#46039f\"], [0.2222222222222222, \"#7201a8\"], [0.3333333333333333, \"#9c179e\"], [0.4444444444444444, \"#bd3786\"], [0.5555555555555556, \"#d8576b\"], [0.6666666666666666, \"#ed7953\"], [0.7777777777777778, \"#fb9f3a\"], [0.8888888888888888, \"#fdca26\"], [1.0, \"#f0f921\"]]}, \"legend\": {\"tracegroupgap\": 0}, \"margin\": {\"t\": 60}, \"scene\": {\"domain\": {\"x\": [0.0, 1.0], \"y\": [0.0, 1.0]}, \"xaxis\": {\"title\": {\"text\": \"comida_norm\"}}, \"yaxis\": {\"title\": {\"text\": \"ambiente_norm\"}}, \"zaxis\": {\"title\": {\"text\": \"servicio_norm\"}}}, \"template\": {\"data\": {\"bar\": [{\"error_x\": {\"color\": \"#2a3f5f\"}, \"error_y\": {\"color\": \"#2a3f5f\"}, \"marker\": {\"line\": {\"color\": \"#E5ECF6\", \"width\": 0.5}}, \"type\": \"bar\"}], \"barpolar\": [{\"marker\": {\"line\": {\"color\": \"#E5ECF6\", \"width\": 0.5}}, \"type\": \"barpolar\"}], \"carpet\": [{\"aaxis\": {\"endlinecolor\": \"#2a3f5f\", \"gridcolor\": \"white\", \"linecolor\": \"white\", \"minorgridcolor\": \"white\", \"startlinecolor\": \"#2a3f5f\"}, \"baxis\": {\"endlinecolor\": \"#2a3f5f\", \"gridcolor\": \"white\", \"linecolor\": \"white\", \"minorgridcolor\": \"white\", \"startlinecolor\": \"#2a3f5f\"}, \"type\": \"carpet\"}], \"choropleth\": [{\"colorbar\": {\"outlinewidth\": 0, \"ticks\": \"\"}, \"type\": \"choropleth\"}], \"contour\": [{\"colorbar\": {\"outlinewidth\": 0, \"ticks\": \"\"}, \"colorscale\": [[0.0, \"#0d0887\"], [0.1111111111111111, \"#46039f\"], [0.2222222222222222, \"#7201a8\"], [0.3333333333333333, \"#9c179e\"], [0.4444444444444444, \"#bd3786\"], [0.5555555555555556, \"#d8576b\"], [0.6666666666666666, \"#ed7953\"], [0.7777777777777778, \"#fb9f3a\"], [0.8888888888888888, \"#fdca26\"], [1.0, \"#f0f921\"]], \"type\": \"contour\"}], \"contourcarpet\": [{\"colorbar\": {\"outlinewidth\": 0, \"ticks\": \"\"}, \"type\": \"contourcarpet\"}], \"heatmap\": [{\"colorbar\": {\"outlinewidth\": 0, \"ticks\": \"\"}, \"colorscale\": [[0.0, \"#0d0887\"], [0.1111111111111111, \"#46039f\"], [0.2222222222222222, \"#7201a8\"], [0.3333333333333333, \"#9c179e\"], [0.4444444444444444, \"#bd3786\"], [0.5555555555555556, \"#d8576b\"], [0.6666666666666666, \"#ed7953\"], [0.7777777777777778, \"#fb9f3a\"], [0.8888888888888888, \"#fdca26\"], [1.0, \"#f0f921\"]], \"type\": \"heatmap\"}], \"heatmapgl\": [{\"colorbar\": {\"outlinewidth\": 0, \"ticks\": \"\"}, \"colorscale\": [[0.0, \"#0d0887\"], [0.1111111111111111, \"#46039f\"], [0.2222222222222222, \"#7201a8\"], [0.3333333333333333, \"#9c179e\"], [0.4444444444444444, \"#bd3786\"], [0.5555555555555556, \"#d8576b\"], [0.6666666666666666, \"#ed7953\"], [0.7777777777777778, \"#fb9f3a\"], [0.8888888888888888, \"#fdca26\"], [1.0, \"#f0f921\"]], \"type\": \"heatmapgl\"}], \"histogram\": [{\"marker\": {\"colorbar\": {\"outlinewidth\": 0, \"ticks\": \"\"}}, \"type\": \"histogram\"}], \"histogram2d\": [{\"colorbar\": {\"outlinewidth\": 0, \"ticks\": \"\"}, \"colorscale\": [[0.0, \"#0d0887\"], [0.1111111111111111, \"#46039f\"], [0.2222222222222222, \"#7201a8\"], [0.3333333333333333, \"#9c179e\"], [0.4444444444444444, \"#bd3786\"], [0.5555555555555556, \"#d8576b\"], [0.6666666666666666, \"#ed7953\"], [0.7777777777777778, \"#fb9f3a\"], [0.8888888888888888, \"#fdca26\"], [1.0, \"#f0f921\"]], \"type\": \"histogram2d\"}], \"histogram2dcontour\": [{\"colorbar\": {\"outlinewidth\": 0, \"ticks\": \"\"}, \"colorscale\": [[0.0, \"#0d0887\"], [0.1111111111111111, \"#46039f\"], [0.2222222222222222, \"#7201a8\"], [0.3333333333333333, \"#9c179e\"], [0.4444444444444444, \"#bd3786\"], [0.5555555555555556, \"#d8576b\"], [0.6666666666666666, \"#ed7953\"], [0.7777777777777778, \"#fb9f3a\"], [0.8888888888888888, \"#fdca26\"], [1.0, \"#f0f921\"]], \"type\": \"histogram2dcontour\"}], \"mesh3d\": [{\"colorbar\": {\"outlinewidth\": 0, \"ticks\": \"\"}, \"type\": \"mesh3d\"}], \"parcoords\": [{\"line\": {\"colorbar\": {\"outlinewidth\": 0, \"ticks\": \"\"}}, \"type\": \"parcoords\"}], \"pie\": [{\"automargin\": true, \"type\": \"pie\"}], \"scatter\": [{\"marker\": {\"colorbar\": {\"outlinewidth\": 0, \"ticks\": \"\"}}, \"type\": \"scatter\"}], \"scatter3d\": [{\"line\": {\"colorbar\": {\"outlinewidth\": 0, \"ticks\": \"\"}}, \"marker\": {\"colorbar\": {\"outlinewidth\": 0, \"ticks\": \"\"}}, \"type\": \"scatter3d\"}], \"scattercarpet\": [{\"marker\": {\"colorbar\": {\"outlinewidth\": 0, \"ticks\": \"\"}}, \"type\": \"scattercarpet\"}], \"scattergeo\": [{\"marker\": {\"colorbar\": {\"outlinewidth\": 0, \"ticks\": \"\"}}, \"type\": \"scattergeo\"}], \"scattergl\": [{\"marker\": {\"colorbar\": {\"outlinewidth\": 0, \"ticks\": \"\"}}, \"type\": \"scattergl\"}], \"scattermapbox\": [{\"marker\": {\"colorbar\": {\"outlinewidth\": 0, \"ticks\": \"\"}}, \"type\": \"scattermapbox\"}], \"scatterpolar\": [{\"marker\": {\"colorbar\": {\"outlinewidth\": 0, \"ticks\": \"\"}}, \"type\": \"scatterpolar\"}], \"scatterpolargl\": [{\"marker\": {\"colorbar\": {\"outlinewidth\": 0, \"ticks\": \"\"}}, \"type\": \"scatterpolargl\"}], \"scatterternary\": [{\"marker\": {\"colorbar\": {\"outlinewidth\": 0, \"ticks\": \"\"}}, \"type\": \"scatterternary\"}], \"surface\": [{\"colorbar\": {\"outlinewidth\": 0, \"ticks\": \"\"}, \"colorscale\": [[0.0, \"#0d0887\"], [0.1111111111111111, \"#46039f\"], [0.2222222222222222, \"#7201a8\"], [0.3333333333333333, \"#9c179e\"], [0.4444444444444444, \"#bd3786\"], [0.5555555555555556, \"#d8576b\"], [0.6666666666666666, \"#ed7953\"], [0.7777777777777778, \"#fb9f3a\"], [0.8888888888888888, \"#fdca26\"], [1.0, \"#f0f921\"]], \"type\": \"surface\"}], \"table\": [{\"cells\": {\"fill\": {\"color\": \"#EBF0F8\"}, \"line\": {\"color\": \"white\"}}, \"header\": {\"fill\": {\"color\": \"#C8D4E3\"}, \"line\": {\"color\": \"white\"}}, \"type\": \"table\"}]}, \"layout\": {\"annotationdefaults\": {\"arrowcolor\": \"#2a3f5f\", \"arrowhead\": 0, \"arrowwidth\": 1}, \"coloraxis\": {\"colorbar\": {\"outlinewidth\": 0, \"ticks\": \"\"}}, \"colorscale\": {\"diverging\": [[0, \"#8e0152\"], [0.1, \"#c51b7d\"], [0.2, \"#de77ae\"], [0.3, \"#f1b6da\"], [0.4, \"#fde0ef\"], [0.5, \"#f7f7f7\"], [0.6, \"#e6f5d0\"], [0.7, \"#b8e186\"], [0.8, \"#7fbc41\"], [0.9, \"#4d9221\"], [1, \"#276419\"]], \"sequential\": [[0.0, \"#0d0887\"], [0.1111111111111111, \"#46039f\"], [0.2222222222222222, \"#7201a8\"], [0.3333333333333333, \"#9c179e\"], [0.4444444444444444, \"#bd3786\"], [0.5555555555555556, \"#d8576b\"], [0.6666666666666666, \"#ed7953\"], [0.7777777777777778, \"#fb9f3a\"], [0.8888888888888888, \"#fdca26\"], [1.0, \"#f0f921\"]], \"sequentialminus\": [[0.0, \"#0d0887\"], [0.1111111111111111, \"#46039f\"], [0.2222222222222222, \"#7201a8\"], [0.3333333333333333, \"#9c179e\"], [0.4444444444444444, \"#bd3786\"], [0.5555555555555556, \"#d8576b\"], [0.6666666666666666, \"#ed7953\"], [0.7777777777777778, \"#fb9f3a\"], [0.8888888888888888, \"#fdca26\"], [1.0, \"#f0f921\"]]}, \"colorway\": [\"#636efa\", \"#EF553B\", \"#00cc96\", \"#ab63fa\", \"#FFA15A\", \"#19d3f3\", \"#FF6692\", \"#B6E880\", \"#FF97FF\", \"#FECB52\"], \"font\": {\"color\": \"#2a3f5f\"}, \"geo\": {\"bgcolor\": \"white\", \"lakecolor\": \"white\", \"landcolor\": \"#E5ECF6\", \"showlakes\": true, \"showland\": true, \"subunitcolor\": \"white\"}, \"hoverlabel\": {\"align\": \"left\"}, \"hovermode\": \"closest\", \"mapbox\": {\"style\": \"light\"}, \"paper_bgcolor\": \"white\", \"plot_bgcolor\": \"#E5ECF6\", \"polar\": {\"angularaxis\": {\"gridcolor\": \"white\", \"linecolor\": \"white\", \"ticks\": \"\"}, \"bgcolor\": \"#E5ECF6\", \"radialaxis\": {\"gridcolor\": \"white\", \"linecolor\": \"white\", \"ticks\": \"\"}}, \"scene\": {\"xaxis\": {\"backgroundcolor\": \"#E5ECF6\", \"gridcolor\": \"white\", \"gridwidth\": 2, \"linecolor\": \"white\", \"showbackground\": true, \"ticks\": \"\", \"zerolinecolor\": \"white\"}, \"yaxis\": {\"backgroundcolor\": \"#E5ECF6\", \"gridcolor\": \"white\", \"gridwidth\": 2, \"linecolor\": \"white\", \"showbackground\": true, \"ticks\": \"\", \"zerolinecolor\": \"white\"}, \"zaxis\": {\"backgroundcolor\": \"#E5ECF6\", \"gridcolor\": \"white\", \"gridwidth\": 2, \"linecolor\": \"white\", \"showbackground\": true, \"ticks\": \"\", \"zerolinecolor\": \"white\"}}, \"shapedefaults\": {\"line\": {\"color\": \"#2a3f5f\"}}, \"ternary\": {\"aaxis\": {\"gridcolor\": \"white\", \"linecolor\": \"white\", \"ticks\": \"\"}, \"baxis\": {\"gridcolor\": \"white\", \"linecolor\": \"white\", \"ticks\": \"\"}, \"bgcolor\": \"#E5ECF6\", \"caxis\": {\"gridcolor\": \"white\", \"linecolor\": \"white\", \"ticks\": \"\"}}, \"title\": {\"x\": 0.05}, \"xaxis\": {\"automargin\": true, \"gridcolor\": \"white\", \"linecolor\": \"white\", \"ticks\": \"\", \"title\": {\"standoff\": 15}, \"zerolinecolor\": \"white\", \"zerolinewidth\": 2}, \"yaxis\": {\"automargin\": true, \"gridcolor\": \"white\", \"linecolor\": \"white\", \"ticks\": \"\", \"title\": {\"standoff\": 15}, \"zerolinecolor\": \"white\", \"zerolinewidth\": 2}}}},\n",
       "                        {\"responsive\": true}\n",
       "                    ).then(function(){\n",
       "                            \n",
       "var gd = document.getElementById('da3dafdf-358e-4004-9f64-eb485bec05cf');\n",
       "var x = new MutationObserver(function (mutations, observer) {{\n",
       "        var display = window.getComputedStyle(gd).display;\n",
       "        if (!display || display === 'none') {{\n",
       "            console.log([gd, 'removed!']);\n",
       "            Plotly.purge(gd);\n",
       "            observer.disconnect();\n",
       "        }}\n",
       "}});\n",
       "\n",
       "// Listen for the removal of the full notebook cells\n",
       "var notebookContainer = gd.closest('#notebook-container');\n",
       "if (notebookContainer) {{\n",
       "    x.observe(notebookContainer, {childList: true});\n",
       "}}\n",
       "\n",
       "// Listen for the clearing of the current output cell\n",
       "var outputEl = gd.closest('.output');\n",
       "if (outputEl) {{\n",
       "    x.observe(outputEl, {childList: true});\n",
       "}}\n",
       "\n",
       "                        })\n",
       "                };\n",
       "                });\n",
       "            </script>\n",
       "        </div>"
      ]
     },
     "metadata": {},
     "output_type": "display_data"
    }
   ],
   "source": [
    "import plotly.express as px\n",
    "fig = px.scatter_3d(restaurants_results, x='comida_norm', y='ambiente_norm', z='servicio_norm',\n",
    "              color='price_level')\n",
    "fig.show()"
   ]
  },
  {
   "cell_type": "code",
   "execution_count": null,
   "metadata": {},
   "outputs": [],
   "source": []
  }
 ],
 "metadata": {
  "kernelspec": {
   "display_name": "Python 3",
   "language": "python",
   "name": "python3"
  },
  "language_info": {
   "codemirror_mode": {
    "name": "ipython",
    "version": 3
   },
   "file_extension": ".py",
   "mimetype": "text/x-python",
   "name": "python",
   "nbconvert_exporter": "python",
   "pygments_lexer": "ipython3",
   "version": "3.7.6"
  }
 },
 "nbformat": 4,
 "nbformat_minor": 4
}
