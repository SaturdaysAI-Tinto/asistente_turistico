{
 "cells": [
  {
   "cell_type": "code",
   "execution_count": 1,
   "metadata": {},
   "outputs": [],
   "source": [
    "import pandas as pd\n",
    "import numpy as np"
   ]
  },
  {
   "cell_type": "markdown",
   "metadata": {},
   "source": [
    "# Datos"
   ]
  },
  {
   "cell_type": "code",
   "execution_count": 2,
   "metadata": {},
   "outputs": [],
   "source": [
    "df = pd.read_csv('base_final_lugares.csv')"
   ]
  },
  {
   "cell_type": "markdown",
   "metadata": {},
   "source": [
    "# Modelo para restaurantes"
   ]
  },
  {
   "cell_type": "code",
   "execution_count": 4,
   "metadata": {},
   "outputs": [],
   "source": [
    "df = df.copy()\n",
    "df = df[df['tipo_lugar']=='Ecoturismo']"
   ]
  },
  {
   "cell_type": "code",
   "execution_count": 6,
   "metadata": {},
   "outputs": [
    {
     "data": {
      "text/html": [
       "<div>\n",
       "<style scoped>\n",
       "    .dataframe tbody tr th:only-of-type {\n",
       "        vertical-align: middle;\n",
       "    }\n",
       "\n",
       "    .dataframe tbody tr th {\n",
       "        vertical-align: top;\n",
       "    }\n",
       "\n",
       "    .dataframe thead th {\n",
       "        text-align: right;\n",
       "    }\n",
       "</style>\n",
       "<table border=\"1\" class=\"dataframe\">\n",
       "  <thead>\n",
       "    <tr style=\"text-align: right;\">\n",
       "      <th></th>\n",
       "      <th>place_id</th>\n",
       "      <th>name</th>\n",
       "      <th>business_status</th>\n",
       "      <th>latitude</th>\n",
       "      <th>longitude</th>\n",
       "      <th>user_ratings_total</th>\n",
       "      <th>rating</th>\n",
       "      <th>website</th>\n",
       "      <th>price_level</th>\n",
       "      <th>photos</th>\n",
       "      <th>...</th>\n",
       "      <th>comida_norm</th>\n",
       "      <th>servicio_norm</th>\n",
       "      <th>ambiente_norm</th>\n",
       "      <th>satisfaccion_norm</th>\n",
       "      <th>actividades</th>\n",
       "      <th>naturaleza</th>\n",
       "      <th>familiar</th>\n",
       "      <th>actividades_norm</th>\n",
       "      <th>naturaleza_norm</th>\n",
       "      <th>familiar_norm</th>\n",
       "    </tr>\n",
       "  </thead>\n",
       "  <tbody>\n",
       "    <tr>\n",
       "      <th>10</th>\n",
       "      <td>ChIJ196jq8T40YURiuJzqm1JMQY</td>\n",
       "      <td>Alameda de Santa María</td>\n",
       "      <td>OPERATIONAL</td>\n",
       "      <td>19.449673</td>\n",
       "      <td>-99.156902</td>\n",
       "      <td>18617.0</td>\n",
       "      <td>4.6</td>\n",
       "      <td>NaN</td>\n",
       "      <td>NaN</td>\n",
       "      <td>[{'height': 4000, 'html_attributions': ['&lt;a hr...</td>\n",
       "      <td>...</td>\n",
       "      <td>NaN</td>\n",
       "      <td>NaN</td>\n",
       "      <td>NaN</td>\n",
       "      <td>0.728571</td>\n",
       "      <td>0.0</td>\n",
       "      <td>11.0</td>\n",
       "      <td>5.0</td>\n",
       "      <td>0.000000</td>\n",
       "      <td>0.157143</td>\n",
       "      <td>0.071429</td>\n",
       "    </tr>\n",
       "    <tr>\n",
       "      <th>11</th>\n",
       "      <td>ChIJ1d-tcZUC0oUR5pEVJ_YZw-c</td>\n",
       "      <td>Parque Tezozómoc</td>\n",
       "      <td>OPERATIONAL</td>\n",
       "      <td>19.499859</td>\n",
       "      <td>-99.210754</td>\n",
       "      <td>19070.0</td>\n",
       "      <td>4.4</td>\n",
       "      <td>NaN</td>\n",
       "      <td>NaN</td>\n",
       "      <td>[{'height': 3000, 'html_attributions': ['&lt;a hr...</td>\n",
       "      <td>...</td>\n",
       "      <td>NaN</td>\n",
       "      <td>NaN</td>\n",
       "      <td>NaN</td>\n",
       "      <td>0.469880</td>\n",
       "      <td>18.0</td>\n",
       "      <td>25.0</td>\n",
       "      <td>18.0</td>\n",
       "      <td>0.216867</td>\n",
       "      <td>0.301205</td>\n",
       "      <td>0.216867</td>\n",
       "    </tr>\n",
       "    <tr>\n",
       "      <th>13</th>\n",
       "      <td>ChIJ24Pmcp8HzoUR12UoiDjCnrI</td>\n",
       "      <td>Rancho Mágico</td>\n",
       "      <td>OPERATIONAL</td>\n",
       "      <td>19.191489</td>\n",
       "      <td>-99.170153</td>\n",
       "      <td>2246.0</td>\n",
       "      <td>4.5</td>\n",
       "      <td>https://www.ranchomagico.com.mx/</td>\n",
       "      <td>NaN</td>\n",
       "      <td>[{'height': 3024, 'html_attributions': ['&lt;a hr...</td>\n",
       "      <td>...</td>\n",
       "      <td>NaN</td>\n",
       "      <td>NaN</td>\n",
       "      <td>NaN</td>\n",
       "      <td>1.113636</td>\n",
       "      <td>46.0</td>\n",
       "      <td>19.0</td>\n",
       "      <td>23.0</td>\n",
       "      <td>0.522727</td>\n",
       "      <td>0.215909</td>\n",
       "      <td>0.261364</td>\n",
       "    </tr>\n",
       "    <tr>\n",
       "      <th>43</th>\n",
       "      <td>ChIJ8Wls0Y_-zYURTqBshe3uSGs</td>\n",
       "      <td>San Nicolás Totolapan Ejido Park</td>\n",
       "      <td>OPERATIONAL</td>\n",
       "      <td>19.253492</td>\n",
       "      <td>-99.244858</td>\n",
       "      <td>3002.0</td>\n",
       "      <td>4.6</td>\n",
       "      <td>http://www.parquesannicolas.com/</td>\n",
       "      <td>NaN</td>\n",
       "      <td>[{'height': 585, 'html_attributions': ['&lt;a hre...</td>\n",
       "      <td>...</td>\n",
       "      <td>NaN</td>\n",
       "      <td>NaN</td>\n",
       "      <td>NaN</td>\n",
       "      <td>0.981481</td>\n",
       "      <td>42.0</td>\n",
       "      <td>73.0</td>\n",
       "      <td>27.0</td>\n",
       "      <td>0.388889</td>\n",
       "      <td>0.675926</td>\n",
       "      <td>0.250000</td>\n",
       "    </tr>\n",
       "    <tr>\n",
       "      <th>58</th>\n",
       "      <td>ChIJAUB80GzUzYURx8aRtasn4Cs</td>\n",
       "      <td>Skydive México - Paracaidismo Tequesquitengo</td>\n",
       "      <td>OPERATIONAL</td>\n",
       "      <td>18.648434</td>\n",
       "      <td>-99.264351</td>\n",
       "      <td>4012.0</td>\n",
       "      <td>4.8</td>\n",
       "      <td>http://www.skydivemexico.mx/</td>\n",
       "      <td>NaN</td>\n",
       "      <td>[{'height': 534, 'html_attributions': ['&lt;a hre...</td>\n",
       "      <td>...</td>\n",
       "      <td>NaN</td>\n",
       "      <td>NaN</td>\n",
       "      <td>NaN</td>\n",
       "      <td>1.287129</td>\n",
       "      <td>8.0</td>\n",
       "      <td>2.0</td>\n",
       "      <td>14.0</td>\n",
       "      <td>0.079208</td>\n",
       "      <td>0.019802</td>\n",
       "      <td>0.138614</td>\n",
       "    </tr>\n",
       "  </tbody>\n",
       "</table>\n",
       "<p>5 rows × 41 columns</p>\n",
       "</div>"
      ],
      "text/plain": [
       "                       place_id                                          name  \\\n",
       "10  ChIJ196jq8T40YURiuJzqm1JMQY                        Alameda de Santa María   \n",
       "11  ChIJ1d-tcZUC0oUR5pEVJ_YZw-c                              Parque Tezozómoc   \n",
       "13  ChIJ24Pmcp8HzoUR12UoiDjCnrI                                 Rancho Mágico   \n",
       "43  ChIJ8Wls0Y_-zYURTqBshe3uSGs              San Nicolás Totolapan Ejido Park   \n",
       "58  ChIJAUB80GzUzYURx8aRtasn4Cs  Skydive México - Paracaidismo Tequesquitengo   \n",
       "\n",
       "   business_status   latitude  longitude  user_ratings_total  rating  \\\n",
       "10     OPERATIONAL  19.449673 -99.156902             18617.0     4.6   \n",
       "11     OPERATIONAL  19.499859 -99.210754             19070.0     4.4   \n",
       "13     OPERATIONAL  19.191489 -99.170153              2246.0     4.5   \n",
       "43     OPERATIONAL  19.253492 -99.244858              3002.0     4.6   \n",
       "58     OPERATIONAL  18.648434 -99.264351              4012.0     4.8   \n",
       "\n",
       "                             website  price_level  \\\n",
       "10                               NaN          NaN   \n",
       "11                               NaN          NaN   \n",
       "13  https://www.ranchomagico.com.mx/          NaN   \n",
       "43  http://www.parquesannicolas.com/          NaN   \n",
       "58      http://www.skydivemexico.mx/          NaN   \n",
       "\n",
       "                                               photos  ...  comida_norm  \\\n",
       "10  [{'height': 4000, 'html_attributions': ['<a hr...  ...          NaN   \n",
       "11  [{'height': 3000, 'html_attributions': ['<a hr...  ...          NaN   \n",
       "13  [{'height': 3024, 'html_attributions': ['<a hr...  ...          NaN   \n",
       "43  [{'height': 585, 'html_attributions': ['<a hre...  ...          NaN   \n",
       "58  [{'height': 534, 'html_attributions': ['<a hre...  ...          NaN   \n",
       "\n",
       "    servicio_norm  ambiente_norm  satisfaccion_norm  actividades  naturaleza  \\\n",
       "10            NaN            NaN           0.728571          0.0        11.0   \n",
       "11            NaN            NaN           0.469880         18.0        25.0   \n",
       "13            NaN            NaN           1.113636         46.0        19.0   \n",
       "43            NaN            NaN           0.981481         42.0        73.0   \n",
       "58            NaN            NaN           1.287129          8.0         2.0   \n",
       "\n",
       "    familiar  actividades_norm  naturaleza_norm  familiar_norm  \n",
       "10       5.0          0.000000         0.157143       0.071429  \n",
       "11      18.0          0.216867         0.301205       0.216867  \n",
       "13      23.0          0.522727         0.215909       0.261364  \n",
       "43      27.0          0.388889         0.675926       0.250000  \n",
       "58      14.0          0.079208         0.019802       0.138614  \n",
       "\n",
       "[5 rows x 41 columns]"
      ]
     },
     "execution_count": 6,
     "metadata": {},
     "output_type": "execute_result"
    }
   ],
   "source": [
    "df.head(5)"
   ]
  },
  {
   "cell_type": "code",
   "execution_count": 8,
   "metadata": {},
   "outputs": [],
   "source": [
    "#Columnas relevantes para modelo\n",
    "df = df[['place_id', 'user_ratings_total', 'rating', \n",
    "                             'actividades_norm', 'naturaleza_norm', 'familiar_norm', 'satisfaccion_norm']]"
   ]
  },
  {
   "cell_type": "code",
   "execution_count": 9,
   "metadata": {},
   "outputs": [
    {
     "data": {
      "text/html": [
       "<div>\n",
       "<style scoped>\n",
       "    .dataframe tbody tr th:only-of-type {\n",
       "        vertical-align: middle;\n",
       "    }\n",
       "\n",
       "    .dataframe tbody tr th {\n",
       "        vertical-align: top;\n",
       "    }\n",
       "\n",
       "    .dataframe thead th {\n",
       "        text-align: right;\n",
       "    }\n",
       "</style>\n",
       "<table border=\"1\" class=\"dataframe\">\n",
       "  <thead>\n",
       "    <tr style=\"text-align: right;\">\n",
       "      <th></th>\n",
       "      <th>user_ratings_total</th>\n",
       "      <th>rating</th>\n",
       "      <th>actividades_norm</th>\n",
       "      <th>naturaleza_norm</th>\n",
       "      <th>familiar_norm</th>\n",
       "      <th>satisfaccion_norm</th>\n",
       "    </tr>\n",
       "  </thead>\n",
       "  <tbody>\n",
       "    <tr>\n",
       "      <th>count</th>\n",
       "      <td>27.000000</td>\n",
       "      <td>27.000000</td>\n",
       "      <td>26.000000</td>\n",
       "      <td>26.000000</td>\n",
       "      <td>26.000000</td>\n",
       "      <td>26.000000</td>\n",
       "    </tr>\n",
       "    <tr>\n",
       "      <th>mean</th>\n",
       "      <td>14877.740741</td>\n",
       "      <td>4.548148</td>\n",
       "      <td>0.179476</td>\n",
       "      <td>0.308656</td>\n",
       "      <td>0.215399</td>\n",
       "      <td>0.909878</td>\n",
       "    </tr>\n",
       "    <tr>\n",
       "      <th>std</th>\n",
       "      <td>33930.711850</td>\n",
       "      <td>0.171801</td>\n",
       "      <td>0.139778</td>\n",
       "      <td>0.204666</td>\n",
       "      <td>0.112517</td>\n",
       "      <td>0.251431</td>\n",
       "    </tr>\n",
       "    <tr>\n",
       "      <th>min</th>\n",
       "      <td>1.000000</td>\n",
       "      <td>4.300000</td>\n",
       "      <td>0.000000</td>\n",
       "      <td>0.000000</td>\n",
       "      <td>0.031746</td>\n",
       "      <td>0.469880</td>\n",
       "    </tr>\n",
       "    <tr>\n",
       "      <th>25%</th>\n",
       "      <td>1793.000000</td>\n",
       "      <td>4.400000</td>\n",
       "      <td>0.083333</td>\n",
       "      <td>0.169444</td>\n",
       "      <td>0.126537</td>\n",
       "      <td>0.720186</td>\n",
       "    </tr>\n",
       "    <tr>\n",
       "      <th>50%</th>\n",
       "      <td>6850.000000</td>\n",
       "      <td>4.600000</td>\n",
       "      <td>0.123557</td>\n",
       "      <td>0.284862</td>\n",
       "      <td>0.215230</td>\n",
       "      <td>0.857822</td>\n",
       "    </tr>\n",
       "    <tr>\n",
       "      <th>75%</th>\n",
       "      <td>13905.000000</td>\n",
       "      <td>4.600000</td>\n",
       "      <td>0.227318</td>\n",
       "      <td>0.457223</td>\n",
       "      <td>0.277495</td>\n",
       "      <td>1.059406</td>\n",
       "    </tr>\n",
       "    <tr>\n",
       "      <th>max</th>\n",
       "      <td>179511.000000</td>\n",
       "      <td>5.000000</td>\n",
       "      <td>0.522727</td>\n",
       "      <td>0.702970</td>\n",
       "      <td>0.437500</td>\n",
       "      <td>1.466667</td>\n",
       "    </tr>\n",
       "  </tbody>\n",
       "</table>\n",
       "</div>"
      ],
      "text/plain": [
       "       user_ratings_total     rating  actividades_norm  naturaleza_norm  \\\n",
       "count           27.000000  27.000000         26.000000        26.000000   \n",
       "mean         14877.740741   4.548148          0.179476         0.308656   \n",
       "std          33930.711850   0.171801          0.139778         0.204666   \n",
       "min              1.000000   4.300000          0.000000         0.000000   \n",
       "25%           1793.000000   4.400000          0.083333         0.169444   \n",
       "50%           6850.000000   4.600000          0.123557         0.284862   \n",
       "75%          13905.000000   4.600000          0.227318         0.457223   \n",
       "max         179511.000000   5.000000          0.522727         0.702970   \n",
       "\n",
       "       familiar_norm  satisfaccion_norm  \n",
       "count      26.000000          26.000000  \n",
       "mean        0.215399           0.909878  \n",
       "std         0.112517           0.251431  \n",
       "min         0.031746           0.469880  \n",
       "25%         0.126537           0.720186  \n",
       "50%         0.215230           0.857822  \n",
       "75%         0.277495           1.059406  \n",
       "max         0.437500           1.466667  "
      ]
     },
     "execution_count": 9,
     "metadata": {},
     "output_type": "execute_result"
    }
   ],
   "source": [
    "df.describe()"
   ]
  },
  {
   "cell_type": "code",
   "execution_count": 11,
   "metadata": {
    "scrolled": true
   },
   "outputs": [
    {
     "data": {
      "text/html": [
       "<div>\n",
       "<style scoped>\n",
       "    .dataframe tbody tr th:only-of-type {\n",
       "        vertical-align: middle;\n",
       "    }\n",
       "\n",
       "    .dataframe tbody tr th {\n",
       "        vertical-align: top;\n",
       "    }\n",
       "\n",
       "    .dataframe thead th {\n",
       "        text-align: right;\n",
       "    }\n",
       "</style>\n",
       "<table border=\"1\" class=\"dataframe\">\n",
       "  <thead>\n",
       "    <tr style=\"text-align: right;\">\n",
       "      <th></th>\n",
       "      <th>user_ratings_total</th>\n",
       "      <th>rating</th>\n",
       "      <th>actividades_norm</th>\n",
       "      <th>naturaleza_norm</th>\n",
       "      <th>familiar_norm</th>\n",
       "      <th>satisfaccion_norm</th>\n",
       "    </tr>\n",
       "  </thead>\n",
       "  <tbody>\n",
       "    <tr>\n",
       "      <th>user_ratings_total</th>\n",
       "      <td>1.000000</td>\n",
       "      <td>0.021313</td>\n",
       "      <td>0.123892</td>\n",
       "      <td>0.098713</td>\n",
       "      <td>0.139676</td>\n",
       "      <td>-0.333468</td>\n",
       "    </tr>\n",
       "    <tr>\n",
       "      <th>rating</th>\n",
       "      <td>0.021313</td>\n",
       "      <td>1.000000</td>\n",
       "      <td>0.075056</td>\n",
       "      <td>0.157173</td>\n",
       "      <td>0.038925</td>\n",
       "      <td>0.100284</td>\n",
       "    </tr>\n",
       "    <tr>\n",
       "      <th>actividades_norm</th>\n",
       "      <td>0.123892</td>\n",
       "      <td>0.075056</td>\n",
       "      <td>1.000000</td>\n",
       "      <td>0.494274</td>\n",
       "      <td>0.719657</td>\n",
       "      <td>0.159332</td>\n",
       "    </tr>\n",
       "    <tr>\n",
       "      <th>naturaleza_norm</th>\n",
       "      <td>0.098713</td>\n",
       "      <td>0.157173</td>\n",
       "      <td>0.494274</td>\n",
       "      <td>1.000000</td>\n",
       "      <td>0.567260</td>\n",
       "      <td>-0.186649</td>\n",
       "    </tr>\n",
       "    <tr>\n",
       "      <th>familiar_norm</th>\n",
       "      <td>0.139676</td>\n",
       "      <td>0.038925</td>\n",
       "      <td>0.719657</td>\n",
       "      <td>0.567260</td>\n",
       "      <td>1.000000</td>\n",
       "      <td>0.196840</td>\n",
       "    </tr>\n",
       "    <tr>\n",
       "      <th>satisfaccion_norm</th>\n",
       "      <td>-0.333468</td>\n",
       "      <td>0.100284</td>\n",
       "      <td>0.159332</td>\n",
       "      <td>-0.186649</td>\n",
       "      <td>0.196840</td>\n",
       "      <td>1.000000</td>\n",
       "    </tr>\n",
       "  </tbody>\n",
       "</table>\n",
       "</div>"
      ],
      "text/plain": [
       "                    user_ratings_total    rating  actividades_norm  \\\n",
       "user_ratings_total            1.000000  0.021313          0.123892   \n",
       "rating                        0.021313  1.000000          0.075056   \n",
       "actividades_norm              0.123892  0.075056          1.000000   \n",
       "naturaleza_norm               0.098713  0.157173          0.494274   \n",
       "familiar_norm                 0.139676  0.038925          0.719657   \n",
       "satisfaccion_norm            -0.333468  0.100284          0.159332   \n",
       "\n",
       "                    naturaleza_norm  familiar_norm  satisfaccion_norm  \n",
       "user_ratings_total         0.098713       0.139676          -0.333468  \n",
       "rating                     0.157173       0.038925           0.100284  \n",
       "actividades_norm           0.494274       0.719657           0.159332  \n",
       "naturaleza_norm            1.000000       0.567260          -0.186649  \n",
       "familiar_norm              0.567260       1.000000           0.196840  \n",
       "satisfaccion_norm         -0.186649       0.196840           1.000000  "
      ]
     },
     "execution_count": 11,
     "metadata": {},
     "output_type": "execute_result"
    }
   ],
   "source": [
    "df.corr()"
   ]
  },
  {
   "cell_type": "code",
   "execution_count": 12,
   "metadata": {},
   "outputs": [
    {
     "data": {
      "text/plain": [
       "place_id              0\n",
       "user_ratings_total    0\n",
       "rating                0\n",
       "actividades_norm      1\n",
       "naturaleza_norm       1\n",
       "familiar_norm         1\n",
       "satisfaccion_norm     1\n",
       "dtype: int64"
      ]
     },
     "execution_count": 12,
     "metadata": {},
     "output_type": "execute_result"
    }
   ],
   "source": [
    "df.isna().sum()"
   ]
  },
  {
   "cell_type": "code",
   "execution_count": 13,
   "metadata": {},
   "outputs": [],
   "source": [
    "columns_list = df.columns "
   ]
  },
  {
   "cell_type": "code",
   "execution_count": 15,
   "metadata": {},
   "outputs": [],
   "source": [
    "df_label = df[columns_list[0]]\n",
    "df_variables = df[columns_list[1:]]"
   ]
  },
  {
   "cell_type": "markdown",
   "metadata": {},
   "source": [
    "# Limpieza"
   ]
  },
  {
   "cell_type": "code",
   "execution_count": 16,
   "metadata": {},
   "outputs": [],
   "source": [
    "# Imputar nulos\n",
    "from sklearn.impute import KNNImputer"
   ]
  },
  {
   "cell_type": "code",
   "execution_count": 17,
   "metadata": {},
   "outputs": [],
   "source": [
    "# define imputer\n",
    "imputer = KNNImputer(n_neighbors=5, weights='uniform', metric='nan_euclidean')\n",
    "# fit on the dataset\n",
    "imputer.fit(df_variables)\n",
    "# transform the dataset\n",
    "df_imputed = imputer.transform(df_variables)"
   ]
  },
  {
   "cell_type": "code",
   "execution_count": 18,
   "metadata": {},
   "outputs": [],
   "source": [
    "df_imputed_final = pd.DataFrame(df_imputed, columns=[columns_list[1:]])"
   ]
  },
  {
   "cell_type": "code",
   "execution_count": 19,
   "metadata": {},
   "outputs": [],
   "source": [
    "# Escalar valores\n",
    "from sklearn.preprocessing import MinMaxScaler\n",
    "\n",
    "scaler = MinMaxScaler()\n",
    "df_imputed_scaled = scaler.fit_transform(df_imputed_final)"
   ]
  },
  {
   "cell_type": "code",
   "execution_count": 20,
   "metadata": {},
   "outputs": [],
   "source": [
    "df_final = pd.DataFrame(df_imputed_scaled, columns=[columns_list[1:]])"
   ]
  },
  {
   "cell_type": "markdown",
   "metadata": {},
   "source": [
    "# Clusterización"
   ]
  },
  {
   "cell_type": "code",
   "execution_count": 22,
   "metadata": {},
   "outputs": [],
   "source": [
    "import matplotlib.pyplot as plt\n",
    "import seaborn as sns"
   ]
  },
  {
   "cell_type": "code",
   "execution_count": 23,
   "metadata": {},
   "outputs": [
    {
     "data": {
      "image/png": "[encoded data removed]",
      "text/plain": [
       "<Figure size 1008x864 with 2 Axes>"
      ]
     },
     "metadata": {
      "needs_background": "light"
     },
     "output_type": "display_data"
    }
   ],
   "source": [
    "correlation = df_final.corr()\n",
    "#display(correlation)\n",
    "plt.figure(figsize=(14, 12))\n",
    "\n",
    "heatmap = sns.heatmap(correlation, annot=True, linewidths=0, vmin=-1, cmap=\"RdBu_r\")\n",
    "plt.title('Heatmap de correlaciones')\n",
    "plt.show()"
   ]
  },
  {
   "cell_type": "code",
   "execution_count": 24,
   "metadata": {},
   "outputs": [],
   "source": [
    "from sklearn.cluster import KMeans\n",
    "from scipy.spatial.distance import cdist"
   ]
  },
  {
   "cell_type": "code",
   "execution_count": 25,
   "metadata": {},
   "outputs": [
    {
     "data": {
      "text/plain": [
       "MultiIndex([('user_ratings_total',),\n",
       "            (            'rating',),\n",
       "            (  'actividades_norm',),\n",
       "            (   'naturaleza_norm',),\n",
       "            (     'familiar_norm',),\n",
       "            ( 'satisfaccion_norm',)],\n",
       "           )"
      ]
     },
     "execution_count": 25,
     "metadata": {},
     "output_type": "execute_result"
    }
   ],
   "source": [
    "df_final.columns"
   ]
  },
  {
   "cell_type": "code",
   "execution_count": 26,
   "metadata": {},
   "outputs": [],
   "source": [
    "# Variables para clusterizar\n",
    "x = ['actividades_norm', 'naturaleza_norm', 'familiar_norm']"
   ]
  },
  {
   "cell_type": "code",
   "execution_count": 27,
   "metadata": {},
   "outputs": [],
   "source": [
    "clusters = df_final.copy()\n",
    "clusters = clusters[x]"
   ]
  },
  {
   "cell_type": "code",
   "execution_count": 28,
   "metadata": {},
   "outputs": [
    {
     "data": {
      "image/png": "[encoded data removed]",
      "text/plain": [
       "<Figure size 432x288 with 1 Axes>"
      ]
     },
     "metadata": {
      "needs_background": "light"
     },
     "output_type": "display_data"
    }
   ],
   "source": [
    "mat = clusters.values\n",
    "\n",
    "distortions = []\n",
    "K = range(1,10)\n",
    "for k in K:\n",
    "    kmeanModel = KMeans(n_clusters=k).fit(mat)\n",
    "    kmeanModel.fit(mat)\n",
    "    distortions.append(sum(np.min(cdist(mat, kmeanModel.cluster_centers_, 'euclidean'), axis=1)) / mat.shape[0])\n",
    "\n",
    "# Plot the elbow\n",
    "plt.plot(K, distortions, 'bx-')\n",
    "plt.xlabel('k')\n",
    "plt.ylabel('Distortion')\n",
    "plt.title('The Elbow Method showing the optimal k')\n",
    "plt.show()"
   ]
  },
  {
   "cell_type": "code",
   "execution_count": 29,
   "metadata": {},
   "outputs": [],
   "source": [
    "## Unsupervised method\n",
    "kmeans = KMeans(n_clusters=4, random_state=0).fit(mat)\n",
    "# Get cluster assignment labels\n",
    "labels = kmeans.labels_\n",
    "# Format results as a DataFrame\n",
    "df_final['cluster'] = labels.T.tolist()"
   ]
  },
  {
   "cell_type": "code",
   "execution_count": 31,
   "metadata": {},
   "outputs": [],
   "source": [
    "#Guardar resultados\n",
    "df_final.to_csv('knn_ecoturismo_results.csv', index=False)"
   ]
  },
  {
   "cell_type": "code",
   "execution_count": 32,
   "metadata": {},
   "outputs": [],
   "source": [
    "df_results = pd.read_csv('knn_ecoturismo_results.csv')"
   ]
  },
  {
   "cell_type": "code",
   "execution_count": 33,
   "metadata": {},
   "outputs": [
    {
     "data": {
      "text/html": [
       "<div>\n",
       "<style scoped>\n",
       "    .dataframe tbody tr th:only-of-type {\n",
       "        vertical-align: middle;\n",
       "    }\n",
       "\n",
       "    .dataframe tbody tr th {\n",
       "        vertical-align: top;\n",
       "    }\n",
       "\n",
       "    .dataframe thead th {\n",
       "        text-align: right;\n",
       "    }\n",
       "</style>\n",
       "<table border=\"1\" class=\"dataframe\">\n",
       "  <thead>\n",
       "    <tr style=\"text-align: right;\">\n",
       "      <th></th>\n",
       "      <th>cluster</th>\n",
       "      <th>0</th>\n",
       "      <th>1</th>\n",
       "      <th>2</th>\n",
       "      <th>3</th>\n",
       "    </tr>\n",
       "  </thead>\n",
       "  <tbody>\n",
       "    <tr>\n",
       "      <th rowspan=\"8\" valign=\"top\">user_ratings_total</th>\n",
       "      <th>count</th>\n",
       "      <td>11.000000</td>\n",
       "      <td>11.000000</td>\n",
       "      <td>2.000000</td>\n",
       "      <td>3.000000</td>\n",
       "    </tr>\n",
       "    <tr>\n",
       "      <th>mean</th>\n",
       "      <td>0.146955</td>\n",
       "      <td>0.025083</td>\n",
       "      <td>0.060395</td>\n",
       "      <td>0.074798</td>\n",
       "    </tr>\n",
       "    <tr>\n",
       "      <th>std</th>\n",
       "      <td>0.284405</td>\n",
       "      <td>0.034529</td>\n",
       "      <td>0.067725</td>\n",
       "      <td>0.101110</td>\n",
       "    </tr>\n",
       "    <tr>\n",
       "      <th>min</th>\n",
       "      <td>0.003014</td>\n",
       "      <td>0.000000</td>\n",
       "      <td>0.012506</td>\n",
       "      <td>0.016127</td>\n",
       "    </tr>\n",
       "    <tr>\n",
       "      <th>25%</th>\n",
       "      <td>0.051911</td>\n",
       "      <td>0.001242</td>\n",
       "      <td>0.036451</td>\n",
       "      <td>0.016422</td>\n",
       "    </tr>\n",
       "    <tr>\n",
       "      <th>50%</th>\n",
       "      <td>0.068314</td>\n",
       "      <td>0.007459</td>\n",
       "      <td>0.060395</td>\n",
       "      <td>0.016718</td>\n",
       "    </tr>\n",
       "    <tr>\n",
       "      <th>75%</th>\n",
       "      <td>0.086299</td>\n",
       "      <td>0.031736</td>\n",
       "      <td>0.084339</td>\n",
       "      <td>0.104133</td>\n",
       "    </tr>\n",
       "    <tr>\n",
       "      <th>max</th>\n",
       "      <td>1.000000</td>\n",
       "      <td>0.103705</td>\n",
       "      <td>0.108284</td>\n",
       "      <td>0.191549</td>\n",
       "    </tr>\n",
       "    <tr>\n",
       "      <th rowspan=\"8\" valign=\"top\">rating</th>\n",
       "      <th>count</th>\n",
       "      <td>11.000000</td>\n",
       "      <td>11.000000</td>\n",
       "      <td>2.000000</td>\n",
       "      <td>3.000000</td>\n",
       "    </tr>\n",
       "    <tr>\n",
       "      <th>mean</th>\n",
       "      <td>0.311688</td>\n",
       "      <td>0.376623</td>\n",
       "      <td>0.285714</td>\n",
       "      <td>0.476190</td>\n",
       "    </tr>\n",
       "    <tr>\n",
       "      <th>std</th>\n",
       "      <td>0.228734</td>\n",
       "      <td>0.308206</td>\n",
       "      <td>0.000000</td>\n",
       "      <td>0.082479</td>\n",
       "    </tr>\n",
       "    <tr>\n",
       "      <th>min</th>\n",
       "      <td>0.000000</td>\n",
       "      <td>0.000000</td>\n",
       "      <td>0.285714</td>\n",
       "      <td>0.428571</td>\n",
       "    </tr>\n",
       "    <tr>\n",
       "      <th>25%</th>\n",
       "      <td>0.142857</td>\n",
       "      <td>0.142857</td>\n",
       "      <td>0.285714</td>\n",
       "      <td>0.428571</td>\n",
       "    </tr>\n",
       "    <tr>\n",
       "      <th>50%</th>\n",
       "      <td>0.285714</td>\n",
       "      <td>0.428571</td>\n",
       "      <td>0.285714</td>\n",
       "      <td>0.428571</td>\n",
       "    </tr>\n",
       "    <tr>\n",
       "      <th>75%</th>\n",
       "      <td>0.428571</td>\n",
       "      <td>0.500000</td>\n",
       "      <td>0.285714</td>\n",
       "      <td>0.500000</td>\n",
       "    </tr>\n",
       "    <tr>\n",
       "      <th>max</th>\n",
       "      <td>0.714286</td>\n",
       "      <td>1.000000</td>\n",
       "      <td>0.285714</td>\n",
       "      <td>0.571429</td>\n",
       "    </tr>\n",
       "    <tr>\n",
       "      <th rowspan=\"8\" valign=\"top\">actividades_norm</th>\n",
       "      <th>count</th>\n",
       "      <td>11.000000</td>\n",
       "      <td>11.000000</td>\n",
       "      <td>2.000000</td>\n",
       "      <td>3.000000</td>\n",
       "    </tr>\n",
       "    <tr>\n",
       "      <th>mean</th>\n",
       "      <td>0.333141</td>\n",
       "      <td>0.127506</td>\n",
       "      <td>0.948370</td>\n",
       "      <td>0.702440</td>\n",
       "    </tr>\n",
       "    <tr>\n",
       "      <th>std</th>\n",
       "      <td>0.115529</td>\n",
       "      <td>0.064712</td>\n",
       "      <td>0.073016</td>\n",
       "      <td>0.083686</td>\n",
       "    </tr>\n",
       "    <tr>\n",
       "      <th>min</th>\n",
       "      <td>0.159420</td>\n",
       "      <td>0.000000</td>\n",
       "      <td>0.896739</td>\n",
       "      <td>0.606113</td>\n",
       "    </tr>\n",
       "    <tr>\n",
       "      <th>25%</th>\n",
       "      <td>0.236369</td>\n",
       "      <td>0.082778</td>\n",
       "      <td>0.922554</td>\n",
       "      <td>0.675037</td>\n",
       "    </tr>\n",
       "    <tr>\n",
       "      <th>50%</th>\n",
       "      <td>0.347826</td>\n",
       "      <td>0.151030</td>\n",
       "      <td>0.948370</td>\n",
       "      <td>0.743961</td>\n",
       "    </tr>\n",
       "    <tr>\n",
       "      <th>75%</th>\n",
       "      <td>0.422168</td>\n",
       "      <td>0.169736</td>\n",
       "      <td>0.974185</td>\n",
       "      <td>0.750604</td>\n",
       "    </tr>\n",
       "    <tr>\n",
       "      <th>max</th>\n",
       "      <td>0.512775</td>\n",
       "      <td>0.207940</td>\n",
       "      <td>1.000000</td>\n",
       "      <td>0.757246</td>\n",
       "    </tr>\n",
       "    <tr>\n",
       "      <th rowspan=\"8\" valign=\"top\">naturaleza_norm</th>\n",
       "      <th>count</th>\n",
       "      <td>11.000000</td>\n",
       "      <td>11.000000</td>\n",
       "      <td>2.000000</td>\n",
       "      <td>3.000000</td>\n",
       "    </tr>\n",
       "    <tr>\n",
       "      <th>mean</th>\n",
       "      <td>0.573273</td>\n",
       "      <td>0.168176</td>\n",
       "      <td>0.309159</td>\n",
       "      <td>0.955144</td>\n",
       "    </tr>\n",
       "    <tr>\n",
       "      <th>std</th>\n",
       "      <td>0.125468</td>\n",
       "      <td>0.128560</td>\n",
       "      <td>0.002858</td>\n",
       "      <td>0.048366</td>\n",
       "    </tr>\n",
       "    <tr>\n",
       "      <th>min</th>\n",
       "      <td>0.381977</td>\n",
       "      <td>0.000000</td>\n",
       "      <td>0.307138</td>\n",
       "      <td>0.903903</td>\n",
       "    </tr>\n",
       "    <tr>\n",
       "      <th>25%</th>\n",
       "      <td>0.486291</td>\n",
       "      <td>0.040079</td>\n",
       "      <td>0.308149</td>\n",
       "      <td>0.932716</td>\n",
       "    </tr>\n",
       "    <tr>\n",
       "      <th>50%</th>\n",
       "      <td>0.563087</td>\n",
       "      <td>0.205893</td>\n",
       "      <td>0.309159</td>\n",
       "      <td>0.961528</td>\n",
       "    </tr>\n",
       "    <tr>\n",
       "      <th>75%</th>\n",
       "      <td>0.677754</td>\n",
       "      <td>0.258662</td>\n",
       "      <td>0.310169</td>\n",
       "      <td>0.980764</td>\n",
       "    </tr>\n",
       "    <tr>\n",
       "      <th>max</th>\n",
       "      <td>0.787228</td>\n",
       "      <td>0.351450</td>\n",
       "      <td>0.311180</td>\n",
       "      <td>1.000000</td>\n",
       "    </tr>\n",
       "    <tr>\n",
       "      <th rowspan=\"8\" valign=\"top\">familiar_norm</th>\n",
       "      <th>count</th>\n",
       "      <td>11.000000</td>\n",
       "      <td>11.000000</td>\n",
       "      <td>2.000000</td>\n",
       "      <td>3.000000</td>\n",
       "    </tr>\n",
       "    <tr>\n",
       "      <th>mean</th>\n",
       "      <td>0.530915</td>\n",
       "      <td>0.206488</td>\n",
       "      <td>0.782952</td>\n",
       "      <td>0.769542</td>\n",
       "    </tr>\n",
       "    <tr>\n",
       "      <th>std</th>\n",
       "      <td>0.197336</td>\n",
       "      <td>0.126408</td>\n",
       "      <td>0.306953</td>\n",
       "      <td>0.200965</td>\n",
       "    </tr>\n",
       "    <tr>\n",
       "      <th>min</th>\n",
       "      <td>0.229829</td>\n",
       "      <td>0.000000</td>\n",
       "      <td>0.565904</td>\n",
       "      <td>0.537897</td>\n",
       "    </tr>\n",
       "    <tr>\n",
       "      <th>25%</th>\n",
       "      <td>0.436449</td>\n",
       "      <td>0.130197</td>\n",
       "      <td>0.674428</td>\n",
       "      <td>0.705657</td>\n",
       "    </tr>\n",
       "    <tr>\n",
       "      <th>50%</th>\n",
       "      <td>0.507090</td>\n",
       "      <td>0.217782</td>\n",
       "      <td>0.782952</td>\n",
       "      <td>0.873417</td>\n",
       "    </tr>\n",
       "    <tr>\n",
       "      <th>75%</th>\n",
       "      <td>0.661218</td>\n",
       "      <td>0.254180</td>\n",
       "      <td>0.891476</td>\n",
       "      <td>0.885364</td>\n",
       "    </tr>\n",
       "    <tr>\n",
       "      <th>max</th>\n",
       "      <td>0.859360</td>\n",
       "      <td>0.473041</td>\n",
       "      <td>1.000000</td>\n",
       "      <td>0.897311</td>\n",
       "    </tr>\n",
       "    <tr>\n",
       "      <th rowspan=\"8\" valign=\"top\">satisfaccion_norm</th>\n",
       "      <th>count</th>\n",
       "      <td>11.000000</td>\n",
       "      <td>11.000000</td>\n",
       "      <td>2.000000</td>\n",
       "      <td>3.000000</td>\n",
       "    </tr>\n",
       "    <tr>\n",
       "      <th>mean</th>\n",
       "      <td>0.357803</td>\n",
       "      <td>0.455024</td>\n",
       "      <td>0.719459</td>\n",
       "      <td>0.499873</td>\n",
       "    </tr>\n",
       "    <tr>\n",
       "      <th>std</th>\n",
       "      <td>0.257076</td>\n",
       "      <td>0.254645</td>\n",
       "      <td>0.104124</td>\n",
       "      <td>0.118675</td>\n",
       "    </tr>\n",
       "    <tr>\n",
       "      <th>min</th>\n",
       "      <td>0.000000</td>\n",
       "      <td>0.213346</td>\n",
       "      <td>0.645832</td>\n",
       "      <td>0.375076</td>\n",
       "    </tr>\n",
       "    <tr>\n",
       "      <th>25%</th>\n",
       "      <td>0.202612</td>\n",
       "      <td>0.253918</td>\n",
       "      <td>0.682645</td>\n",
       "      <td>0.444163</td>\n",
       "    </tr>\n",
       "    <tr>\n",
       "      <th>50%</th>\n",
       "      <td>0.306616</td>\n",
       "      <td>0.399826</td>\n",
       "      <td>0.719459</td>\n",
       "      <td>0.513251</td>\n",
       "    </tr>\n",
       "    <tr>\n",
       "      <th>75%</th>\n",
       "      <td>0.455951</td>\n",
       "      <td>0.531829</td>\n",
       "      <td>0.756272</td>\n",
       "      <td>0.562272</td>\n",
       "    </tr>\n",
       "    <tr>\n",
       "      <th>max</th>\n",
       "      <td>0.801213</td>\n",
       "      <td>1.000000</td>\n",
       "      <td>0.793085</td>\n",
       "      <td>0.611292</td>\n",
       "    </tr>\n",
       "  </tbody>\n",
       "</table>\n",
       "</div>"
      ],
      "text/plain": [
       "cluster                           0          1         2         3\n",
       "user_ratings_total count  11.000000  11.000000  2.000000  3.000000\n",
       "                   mean    0.146955   0.025083  0.060395  0.074798\n",
       "                   std     0.284405   0.034529  0.067725  0.101110\n",
       "                   min     0.003014   0.000000  0.012506  0.016127\n",
       "                   25%     0.051911   0.001242  0.036451  0.016422\n",
       "                   50%     0.068314   0.007459  0.060395  0.016718\n",
       "                   75%     0.086299   0.031736  0.084339  0.104133\n",
       "                   max     1.000000   0.103705  0.108284  0.191549\n",
       "rating             count  11.000000  11.000000  2.000000  3.000000\n",
       "                   mean    0.311688   0.376623  0.285714  0.476190\n",
       "                   std     0.228734   0.308206  0.000000  0.082479\n",
       "                   min     0.000000   0.000000  0.285714  0.428571\n",
       "                   25%     0.142857   0.142857  0.285714  0.428571\n",
       "                   50%     0.285714   0.428571  0.285714  0.428571\n",
       "                   75%     0.428571   0.500000  0.285714  0.500000\n",
       "                   max     0.714286   1.000000  0.285714  0.571429\n",
       "actividades_norm   count  11.000000  11.000000  2.000000  3.000000\n",
       "                   mean    0.333141   0.127506  0.948370  0.702440\n",
       "                   std     0.115529   0.064712  0.073016  0.083686\n",
       "                   min     0.159420   0.000000  0.896739  0.606113\n",
       "                   25%     0.236369   0.082778  0.922554  0.675037\n",
       "                   50%     0.347826   0.151030  0.948370  0.743961\n",
       "                   75%     0.422168   0.169736  0.974185  0.750604\n",
       "                   max     0.512775   0.207940  1.000000  0.757246\n",
       "naturaleza_norm    count  11.000000  11.000000  2.000000  3.000000\n",
       "                   mean    0.573273   0.168176  0.309159  0.955144\n",
       "                   std     0.125468   0.128560  0.002858  0.048366\n",
       "                   min     0.381977   0.000000  0.307138  0.903903\n",
       "                   25%     0.486291   0.040079  0.308149  0.932716\n",
       "                   50%     0.563087   0.205893  0.309159  0.961528\n",
       "                   75%     0.677754   0.258662  0.310169  0.980764\n",
       "                   max     0.787228   0.351450  0.311180  1.000000\n",
       "familiar_norm      count  11.000000  11.000000  2.000000  3.000000\n",
       "                   mean    0.530915   0.206488  0.782952  0.769542\n",
       "                   std     0.197336   0.126408  0.306953  0.200965\n",
       "                   min     0.229829   0.000000  0.565904  0.537897\n",
       "                   25%     0.436449   0.130197  0.674428  0.705657\n",
       "                   50%     0.507090   0.217782  0.782952  0.873417\n",
       "                   75%     0.661218   0.254180  0.891476  0.885364\n",
       "                   max     0.859360   0.473041  1.000000  0.897311\n",
       "satisfaccion_norm  count  11.000000  11.000000  2.000000  3.000000\n",
       "                   mean    0.357803   0.455024  0.719459  0.499873\n",
       "                   std     0.257076   0.254645  0.104124  0.118675\n",
       "                   min     0.000000   0.213346  0.645832  0.375076\n",
       "                   25%     0.202612   0.253918  0.682645  0.444163\n",
       "                   50%     0.306616   0.399826  0.719459  0.513251\n",
       "                   75%     0.455951   0.531829  0.756272  0.562272\n",
       "                   max     0.801213   1.000000  0.793085  0.611292"
      ]
     },
     "execution_count": 33,
     "metadata": {},
     "output_type": "execute_result"
    }
   ],
   "source": [
    "df_results.groupby('cluster').describe().T"
   ]
  },
  {
   "cell_type": "code",
   "execution_count": 37,
   "metadata": {},
   "outputs": [
    {
     "data": {
      "text/html": [
       "        <script type=\"text/javascript\">\n",
       "        window.PlotlyConfig = {MathJaxConfig: 'local'};\n",
       "        if (window.MathJax) {MathJax.Hub.Config({SVG: {font: \"STIX-Web\"}});}\n",
       "        if (typeof require !== 'undefined') {\n",
       "        require.undef(\"plotly\");\n",
       "        requirejs.config({\n",
       "            paths: {\n",
       "                'plotly': ['https://cdn.plot.ly/plotly-latest.min']\n",
       "            }\n",
       "        });\n",
       "        require(['plotly'], function(Plotly) {\n",
       "            window._Plotly = Plotly;\n",
       "        });\n",
       "        }\n",
       "        </script>\n",
       "        "
      ]
     },
     "metadata": {},
     "output_type": "display_data"
    }
   ],
   "source": [
    "import plotly.graph_objs as go # plotly graphical object\n",
    "from plotly.offline import init_notebook_mode, iplot # plotly offline mode\n",
    "init_notebook_mode(connected=True) "
   ]
  },
  {
   "cell_type": "code",
   "execution_count": 35,
   "metadata": {
    "scrolled": true
   },
   "outputs": [
    {
     "data": {
      "text/plain": [
       "Index(['user_ratings_total', 'rating', 'actividades_norm', 'naturaleza_norm',\n",
       "       'familiar_norm', 'satisfaccion_norm', 'cluster'],\n",
       "      dtype='object')"
      ]
     },
     "execution_count": 35,
     "metadata": {},
     "output_type": "execute_result"
    }
   ],
   "source": [
    "df_results.columns"
   ]
  },
  {
   "cell_type": "code",
   "execution_count": 41,
   "metadata": {},
   "outputs": [
    {
     "data": {
      "application/vnd.plotly.v1+json": {
       "config": {
        "plotlyServerURL": "https://plot.ly"
       },
       "data": [
        {
         "hovertemplate": "actividades_norm=%{x}<br>naturaleza_norm=%{y}<br>familiar_norm=%{z}<br>cluster=%{marker.color}<extra></extra>",
         "legendgroup": "",
         "marker": {
          "color": [
           1,
           0,
           2,
           3,
           1,
           0,
           3,
           1,
           0,
           0,
           0,
           0,
           0,
           1,
           3,
           0,
           0,
           1,
           1,
           2,
           0,
           1,
           1,
           1,
           1,
           0,
           1
          ],
          "coloraxis": "coloraxis",
          "symbol": "circle"
         },
         "mode": "markers",
         "name": "",
         "scene": "scene",
         "showlegend": false,
         "type": "scatter3d",
         "x": [
          0,
          0.4148768988999476,
          1,
          0.7439613526570049,
          0.15152819629789066,
          0.20430561418319965,
          0.7572463768115942,
          0.18816821097647898,
          0.5127745405647691,
          0.2799575821845175,
          0.15942028985507245,
          0.4294587400177461,
          0.21920289855072464,
          0.15102974828375285,
          0.6061127851915626,
          0.436672967863894,
          0.4065217391304348,
          0.054658385093167686,
          0.06073153899240855,
          0.8967391304347826,
          0.2535358826610791,
          0.15942028985507245,
          0.10482430017867778,
          0.20793950850661624,
          0.14421676970185082,
          0.3478260869565218,
          0.18005115089514068
         ],
         "y": [
          0.22354124748490947,
          0.42847446122518257,
          0.30713828425096035,
          0.9615284298382892,
          0.028169014084507036,
          0.7872282237111993,
          0.9039025821596244,
          0.3264834911105981,
          0.5719471467983157,
          0.6765716248711785,
          0.3819770474700052,
          0.6967519402127048,
          0.5630868544600939,
          0.20589325426241664,
          1,
          0.5102571953459889,
          0.4623239436619719,
          0.04064386317907445,
          0.29353901184887105,
          0.31117957746478875,
          0.5484473103682336,
          0.03951486697965571,
          0.1169207022959676,
          0,
          0.2237840505450884,
          0.6789372599231754,
          0.3514498757249378
         ],
         "z": [
          0.09779951100244498,
          0.4562406103632132,
          0.565903534118693,
          0.5378973105134474,
          0.2633808613135153,
          0.4481686329432431,
          0.8973105134474326,
          0.24497975870776376,
          0.70939933960124,
          0.6130359592104478,
          0.5835370823145882,
          0.4247293049249041,
          0.2555012224938875,
          0.4730407926907734,
          0.8734174150911422,
          0.8593600510258318,
          0.5070904645476771,
          0.15647921760391198,
          0,
          1,
          0.7531740654549738,
          0.2298288508557457,
          0.12432595371269717,
          0.13606888487296692,
          0.2177823359216033,
          0.2298288508557457,
          0.3276858909823097
         ]
        }
       ],
       "layout": {
        "coloraxis": {
         "colorbar": {
          "title": {
           "text": "cluster"
          }
         },
         "colorscale": [
          [
           0,
           "#0d0887"
          ],
          [
           0.1111111111111111,
           "#46039f"
          ],
          [
           0.2222222222222222,
           "#7201a8"
          ],
          [
           0.3333333333333333,
           "#9c179e"
          ],
          [
           0.4444444444444444,
           "#bd3786"
          ],
          [
           0.5555555555555556,
           "#d8576b"
          ],
          [
           0.6666666666666666,
           "#ed7953"
          ],
          [
           0.7777777777777778,
           "#fb9f3a"
          ],
          [
           0.8888888888888888,
           "#fdca26"
          ],
          [
           1,
           "#f0f921"
          ]
         ]
        },
        "legend": {
         "tracegroupgap": 0
        },
        "margin": {
         "t": 60
        },
        "scene": {
         "domain": {
          "x": [
           0,
           1
          ],
          "y": [
           0,
           1
          ]
         },
         "xaxis": {
          "title": {
           "text": "actividades_norm"
          }
         },
         "yaxis": {
          "title": {
           "text": "naturaleza_norm"
          }
         },
         "zaxis": {
          "title": {
           "text": "familiar_norm"
          }
         }
        },
        "template": {
         "data": {
          "bar": [
           {
            "error_x": {
             "color": "#2a3f5f"
            },
            "error_y": {
             "color": "#2a3f5f"
            },
            "marker": {
             "line": {
              "color": "#E5ECF6",
              "width": 0.5
             }
            },
            "type": "bar"
           }
          ],
          "barpolar": [
           {
            "marker": {
             "line": {
              "color": "#E5ECF6",
              "width": 0.5
             }
            },
            "type": "barpolar"
           }
          ],
          "carpet": [
           {
            "aaxis": {
             "endlinecolor": "#2a3f5f",
             "gridcolor": "white",
             "linecolor": "white",
             "minorgridcolor": "white",
             "startlinecolor": "#2a3f5f"
            },
            "baxis": {
             "endlinecolor": "#2a3f5f",
             "gridcolor": "white",
             "linecolor": "white",
             "minorgridcolor": "white",
             "startlinecolor": "#2a3f5f"
            },
            "type": "carpet"
           }
          ],
          "choropleth": [
           {
            "colorbar": {
             "outlinewidth": 0,
             "ticks": ""
            },
            "type": "choropleth"
           }
          ],
          "contour": [
           {
            "colorbar": {
             "outlinewidth": 0,
             "ticks": ""
            },
            "colorscale": [
             [
              0,
              "#0d0887"
             ],
             [
              0.1111111111111111,
              "#46039f"
             ],
             [
              0.2222222222222222,
              "#7201a8"
             ],
             [
              0.3333333333333333,
              "#9c179e"
             ],
             [
              0.4444444444444444,
              "#bd3786"
             ],
             [
              0.5555555555555556,
              "#d8576b"
             ],
             [
              0.6666666666666666,
              "#ed7953"
             ],
             [
              0.7777777777777778,
              "#fb9f3a"
             ],
             [
              0.8888888888888888,
              "#fdca26"
             ],
             [
              1,
              "#f0f921"
             ]
            ],
            "type": "contour"
           }
          ],
          "contourcarpet": [
           {
            "colorbar": {
             "outlinewidth": 0,
             "ticks": ""
            },
            "type": "contourcarpet"
           }
          ],
          "heatmap": [
           {
            "colorbar": {
             "outlinewidth": 0,
             "ticks": ""
            },
            "colorscale": [
             [
              0,
              "#0d0887"
             ],
             [
              0.1111111111111111,
              "#46039f"
             ],
             [
              0.2222222222222222,
              "#7201a8"
             ],
             [
              0.3333333333333333,
              "#9c179e"
             ],
             [
              0.4444444444444444,
              "#bd3786"
             ],
             [
              0.5555555555555556,
              "#d8576b"
             ],
             [
              0.6666666666666666,
              "#ed7953"
             ],
             [
              0.7777777777777778,
              "#fb9f3a"
             ],
             [
              0.8888888888888888,
              "#fdca26"
             ],
             [
              1,
              "#f0f921"
             ]
            ],
            "type": "heatmap"
           }
          ],
          "heatmapgl": [
           {
            "colorbar": {
             "outlinewidth": 0,
             "ticks": ""
            },
            "colorscale": [
             [
              0,
              "#0d0887"
             ],
             [
              0.1111111111111111,
              "#46039f"
             ],
             [
              0.2222222222222222,
              "#7201a8"
             ],
             [
              0.3333333333333333,
              "#9c179e"
             ],
             [
              0.4444444444444444,
              "#bd3786"
             ],
             [
              0.5555555555555556,
              "#d8576b"
             ],
             [
              0.6666666666666666,
              "#ed7953"
             ],
             [
              0.7777777777777778,
              "#fb9f3a"
             ],
             [
              0.8888888888888888,
              "#fdca26"
             ],
             [
              1,
              "#f0f921"
             ]
            ],
            "type": "heatmapgl"
           }
          ],
          "histogram": [
           {
            "marker": {
             "colorbar": {
              "outlinewidth": 0,
              "ticks": ""
             }
            },
            "type": "histogram"
           }
          ],
          "histogram2d": [
           {
            "colorbar": {
             "outlinewidth": 0,
             "ticks": ""
            },
            "colorscale": [
             [
              0,
              "#0d0887"
             ],
             [
              0.1111111111111111,
              "#46039f"
             ],
             [
              0.2222222222222222,
              "#7201a8"
             ],
             [
              0.3333333333333333,
              "#9c179e"
             ],
             [
              0.4444444444444444,
              "#bd3786"
             ],
             [
              0.5555555555555556,
              "#d8576b"
             ],
             [
              0.6666666666666666,
              "#ed7953"
             ],
             [
              0.7777777777777778,
              "#fb9f3a"
             ],
             [
              0.8888888888888888,
              "#fdca26"
             ],
             [
              1,
              "#f0f921"
             ]
            ],
            "type": "histogram2d"
           }
          ],
          "histogram2dcontour": [
           {
            "colorbar": {
             "outlinewidth": 0,
             "ticks": ""
            },
            "colorscale": [
             [
              0,
              "#0d0887"
             ],
             [
              0.1111111111111111,
              "#46039f"
             ],
             [
              0.2222222222222222,
              "#7201a8"
             ],
             [
              0.3333333333333333,
              "#9c179e"
             ],
             [
              0.4444444444444444,
              "#bd3786"
             ],
             [
              0.5555555555555556,
              "#d8576b"
             ],
             [
              0.6666666666666666,
              "#ed7953"
             ],
             [
              0.7777777777777778,
              "#fb9f3a"
             ],
             [
              0.8888888888888888,
              "#fdca26"
             ],
             [
              1,
              "#f0f921"
             ]
            ],
            "type": "histogram2dcontour"
           }
          ],
          "mesh3d": [
           {
            "colorbar": {
             "outlinewidth": 0,
             "ticks": ""
            },
            "type": "mesh3d"
           }
          ],
          "parcoords": [
           {
            "line": {
             "colorbar": {
              "outlinewidth": 0,
              "ticks": ""
             }
            },
            "type": "parcoords"
           }
          ],
          "pie": [
           {
            "automargin": true,
            "type": "pie"
           }
          ],
          "scatter": [
           {
            "marker": {
             "colorbar": {
              "outlinewidth": 0,
              "ticks": ""
             }
            },
            "type": "scatter"
           }
          ],
          "scatter3d": [
           {
            "line": {
             "colorbar": {
              "outlinewidth": 0,
              "ticks": ""
             }
            },
            "marker": {
             "colorbar": {
              "outlinewidth": 0,
              "ticks": ""
             }
            },
            "type": "scatter3d"
           }
          ],
          "scattercarpet": [
           {
            "marker": {
             "colorbar": {
              "outlinewidth": 0,
              "ticks": ""
             }
            },
            "type": "scattercarpet"
           }
          ],
          "scattergeo": [
           {
            "marker": {
             "colorbar": {
              "outlinewidth": 0,
              "ticks": ""
             }
            },
            "type": "scattergeo"
           }
          ],
          "scattergl": [
           {
            "marker": {
             "colorbar": {
              "outlinewidth": 0,
              "ticks": ""
             }
            },
            "type": "scattergl"
           }
          ],
          "scattermapbox": [
           {
            "marker": {
             "colorbar": {
              "outlinewidth": 0,
              "ticks": ""
             }
            },
            "type": "scattermapbox"
           }
          ],
          "scatterpolar": [
           {
            "marker": {
             "colorbar": {
              "outlinewidth": 0,
              "ticks": ""
             }
            },
            "type": "scatterpolar"
           }
          ],
          "scatterpolargl": [
           {
            "marker": {
             "colorbar": {
              "outlinewidth": 0,
              "ticks": ""
             }
            },
            "type": "scatterpolargl"
           }
          ],
          "scatterternary": [
           {
            "marker": {
             "colorbar": {
              "outlinewidth": 0,
              "ticks": ""
             }
            },
            "type": "scatterternary"
           }
          ],
          "surface": [
           {
            "colorbar": {
             "outlinewidth": 0,
             "ticks": ""
            },
            "colorscale": [
             [
              0,
              "#0d0887"
             ],
             [
              0.1111111111111111,
              "#46039f"
             ],
             [
              0.2222222222222222,
              "#7201a8"
             ],
             [
              0.3333333333333333,
              "#9c179e"
             ],
             [
              0.4444444444444444,
              "#bd3786"
             ],
             [
              0.5555555555555556,
              "#d8576b"
             ],
             [
              0.6666666666666666,
              "#ed7953"
             ],
             [
              0.7777777777777778,
              "#fb9f3a"
             ],
             [
              0.8888888888888888,
              "#fdca26"
             ],
             [
              1,
              "#f0f921"
             ]
            ],
            "type": "surface"
           }
          ],
          "table": [
           {
            "cells": {
             "fill": {
              "color": "#EBF0F8"
             },
             "line": {
              "color": "white"
             }
            },
            "header": {
             "fill": {
              "color": "#C8D4E3"
             },
             "line": {
              "color": "white"
             }
            },
            "type": "table"
           }
          ]
         },
         "layout": {
          "annotationdefaults": {
           "arrowcolor": "#2a3f5f",
           "arrowhead": 0,
           "arrowwidth": 1
          },
          "coloraxis": {
           "colorbar": {
            "outlinewidth": 0,
            "ticks": ""
           }
          },
          "colorscale": {
           "diverging": [
            [
             0,
             "#8e0152"
            ],
            [
             0.1,
             "#c51b7d"
            ],
            [
             0.2,
             "#de77ae"
            ],
            [
             0.3,
             "#f1b6da"
            ],
            [
             0.4,
             "#fde0ef"
            ],
            [
             0.5,
             "#f7f7f7"
            ],
            [
             0.6,
             "#e6f5d0"
            ],
            [
             0.7,
             "#b8e186"
            ],
            [
             0.8,
             "#7fbc41"
            ],
            [
             0.9,
             "#4d9221"
            ],
            [
             1,
             "#276419"
            ]
           ],
           "sequential": [
            [
             0,
             "#0d0887"
            ],
            [
             0.1111111111111111,
             "#46039f"
            ],
            [
             0.2222222222222222,
             "#7201a8"
            ],
            [
             0.3333333333333333,
             "#9c179e"
            ],
            [
             0.4444444444444444,
             "#bd3786"
            ],
            [
             0.5555555555555556,
             "#d8576b"
            ],
            [
             0.6666666666666666,
             "#ed7953"
            ],
            [
             0.7777777777777778,
             "#fb9f3a"
            ],
            [
             0.8888888888888888,
             "#fdca26"
            ],
            [
             1,
             "#f0f921"
            ]
           ],
           "sequentialminus": [
            [
             0,
             "#0d0887"
            ],
            [
             0.1111111111111111,
             "#46039f"
            ],
            [
             0.2222222222222222,
             "#7201a8"
            ],
            [
             0.3333333333333333,
             "#9c179e"
            ],
            [
             0.4444444444444444,
             "#bd3786"
            ],
            [
             0.5555555555555556,
             "#d8576b"
            ],
            [
             0.6666666666666666,
             "#ed7953"
            ],
            [
             0.7777777777777778,
             "#fb9f3a"
            ],
            [
             0.8888888888888888,
             "#fdca26"
            ],
            [
             1,
             "#f0f921"
            ]
           ]
          },
          "colorway": [
           "#636efa",
           "#EF553B",
           "#00cc96",
           "#ab63fa",
           "#FFA15A",
           "#19d3f3",
           "#FF6692",
           "#B6E880",
           "#FF97FF",
           "#FECB52"
          ],
          "font": {
           "color": "#2a3f5f"
          },
          "geo": {
           "bgcolor": "white",
           "lakecolor": "white",
           "landcolor": "#E5ECF6",
           "showlakes": true,
           "showland": true,
           "subunitcolor": "white"
          },
          "hoverlabel": {
           "align": "left"
          },
          "hovermode": "closest",
          "mapbox": {
           "style": "light"
          },
          "paper_bgcolor": "white",
          "plot_bgcolor": "#E5ECF6",
          "polar": {
           "angularaxis": {
            "gridcolor": "white",
            "linecolor": "white",
            "ticks": ""
           },
           "bgcolor": "#E5ECF6",
           "radialaxis": {
            "gridcolor": "white",
            "linecolor": "white",
            "ticks": ""
           }
          },
          "scene": {
           "xaxis": {
            "backgroundcolor": "#E5ECF6",
            "gridcolor": "white",
            "gridwidth": 2,
            "linecolor": "white",
            "showbackground": true,
            "ticks": "",
            "zerolinecolor": "white"
           },
           "yaxis": {
            "backgroundcolor": "#E5ECF6",
            "gridcolor": "white",
            "gridwidth": 2,
            "linecolor": "white",
            "showbackground": true,
            "ticks": "",
            "zerolinecolor": "white"
           },
           "zaxis": {
            "backgroundcolor": "#E5ECF6",
            "gridcolor": "white",
            "gridwidth": 2,
            "linecolor": "white",
            "showbackground": true,
            "ticks": "",
            "zerolinecolor": "white"
           }
          },
          "shapedefaults": {
           "line": {
            "color": "#2a3f5f"
           }
          },
          "ternary": {
           "aaxis": {
            "gridcolor": "white",
            "linecolor": "white",
            "ticks": ""
           },
           "baxis": {
            "gridcolor": "white",
            "linecolor": "white",
            "ticks": ""
           },
           "bgcolor": "#E5ECF6",
           "caxis": {
            "gridcolor": "white",
            "linecolor": "white",
            "ticks": ""
           }
          },
          "title": {
           "x": 0.05
          },
          "xaxis": {
           "automargin": true,
           "gridcolor": "white",
           "linecolor": "white",
           "ticks": "",
           "title": {
            "standoff": 15
           },
           "zerolinecolor": "white",
           "zerolinewidth": 2
          },
          "yaxis": {
           "automargin": true,
           "gridcolor": "white",
           "linecolor": "white",
           "ticks": "",
           "title": {
            "standoff": 15
           },
           "zerolinecolor": "white",
           "zerolinewidth": 2
          }
         }
        }
       }
      },
      "text/html": [
       "<div>\n",
       "        \n",
       "        \n",
       "            <div id=\"6c7c2320-b158-4c35-b197-f55da90861fd\" class=\"plotly-graph-div\" style=\"height:525px; width:100%;\"></div>\n",
       "            <script type=\"text/javascript\">\n",
       "                require([\"plotly\"], function(Plotly) {\n",
       "                    window.PLOTLYENV=window.PLOTLYENV || {};\n",
       "                    \n",
       "                if (document.getElementById(\"6c7c2320-b158-4c35-b197-f55da90861fd\")) {\n",
       "                    Plotly.newPlot(\n",
       "                        '6c7c2320-b158-4c35-b197-f55da90861fd',\n",
       "                        [{\"hovertemplate\": \"actividades_norm=%{x}<br>naturaleza_norm=%{y}<br>familiar_norm=%{z}<br>cluster=%{marker.color}<extra></extra>\", \"legendgroup\": \"\", \"marker\": {\"color\": [1, 0, 2, 3, 1, 0, 3, 1, 0, 0, 0, 0, 0, 1, 3, 0, 0, 1, 1, 2, 0, 1, 1, 1, 1, 0, 1], \"coloraxis\": \"coloraxis\", \"symbol\": \"circle\"}, \"mode\": \"markers\", \"name\": \"\", \"scene\": \"scene\", \"showlegend\": false, \"type\": \"scatter3d\", \"x\": [0.0, 0.4148768988999476, 1.0, 0.7439613526570049, 0.15152819629789066, 0.20430561418319965, 0.7572463768115942, 0.18816821097647898, 0.5127745405647691, 0.2799575821845175, 0.15942028985507245, 0.4294587400177461, 0.21920289855072464, 0.15102974828375285, 0.6061127851915626, 0.436672967863894, 0.4065217391304348, 0.054658385093167686, 0.06073153899240855, 0.8967391304347826, 0.2535358826610791, 0.15942028985507245, 0.10482430017867778, 0.20793950850661624, 0.14421676970185082, 0.3478260869565218, 0.18005115089514068], \"y\": [0.22354124748490947, 0.42847446122518257, 0.30713828425096035, 0.9615284298382892, 0.028169014084507036, 0.7872282237111993, 0.9039025821596244, 0.3264834911105981, 0.5719471467983157, 0.6765716248711785, 0.3819770474700052, 0.6967519402127048, 0.5630868544600939, 0.20589325426241664, 1.0, 0.5102571953459889, 0.4623239436619719, 0.04064386317907445, 0.29353901184887105, 0.31117957746478875, 0.5484473103682336, 0.03951486697965571, 0.1169207022959676, 0.0, 0.2237840505450884, 0.6789372599231754, 0.3514498757249378], \"z\": [0.09779951100244498, 0.4562406103632132, 0.565903534118693, 0.5378973105134474, 0.2633808613135153, 0.4481686329432431, 0.8973105134474326, 0.24497975870776376, 0.70939933960124, 0.6130359592104478, 0.5835370823145882, 0.4247293049249041, 0.2555012224938875, 0.4730407926907734, 0.8734174150911422, 0.8593600510258318, 0.5070904645476771, 0.15647921760391198, 0.0, 1.0, 0.7531740654549738, 0.2298288508557457, 0.12432595371269717, 0.13606888487296692, 0.2177823359216033, 0.2298288508557457, 0.3276858909823097]}],\n",
       "                        {\"coloraxis\": {\"colorbar\": {\"title\": {\"text\": \"cluster\"}}, \"colorscale\": [[0.0, \"#0d0887\"], [0.1111111111111111, \"#46039f\"], [0.2222222222222222, \"#7201a8\"], [0.3333333333333333, \"#9c179e\"], [0.4444444444444444, \"#bd3786\"], [0.5555555555555556, \"#d8576b\"], [0.6666666666666666, \"#ed7953\"], [0.7777777777777778, \"#fb9f3a\"], [0.8888888888888888, \"#fdca26\"], [1.0, \"#f0f921\"]]}, \"legend\": {\"tracegroupgap\": 0}, \"margin\": {\"t\": 60}, \"scene\": {\"domain\": {\"x\": [0.0, 1.0], \"y\": [0.0, 1.0]}, \"xaxis\": {\"title\": {\"text\": \"actividades_norm\"}}, \"yaxis\": {\"title\": {\"text\": \"naturaleza_norm\"}}, \"zaxis\": {\"title\": {\"text\": \"familiar_norm\"}}}, \"template\": {\"data\": {\"bar\": [{\"error_x\": {\"color\": \"#2a3f5f\"}, \"error_y\": {\"color\": \"#2a3f5f\"}, \"marker\": {\"line\": {\"color\": \"#E5ECF6\", \"width\": 0.5}}, \"type\": \"bar\"}], \"barpolar\": [{\"marker\": {\"line\": {\"color\": \"#E5ECF6\", \"width\": 0.5}}, \"type\": \"barpolar\"}], \"carpet\": [{\"aaxis\": {\"endlinecolor\": \"#2a3f5f\", \"gridcolor\": \"white\", \"linecolor\": \"white\", \"minorgridcolor\": \"white\", \"startlinecolor\": \"#2a3f5f\"}, \"baxis\": {\"endlinecolor\": \"#2a3f5f\", \"gridcolor\": \"white\", \"linecolor\": \"white\", \"minorgridcolor\": \"white\", \"startlinecolor\": \"#2a3f5f\"}, \"type\": \"carpet\"}], \"choropleth\": [{\"colorbar\": {\"outlinewidth\": 0, \"ticks\": \"\"}, \"type\": \"choropleth\"}], \"contour\": [{\"colorbar\": {\"outlinewidth\": 0, \"ticks\": \"\"}, \"colorscale\": [[0.0, \"#0d0887\"], [0.1111111111111111, \"#46039f\"], [0.2222222222222222, \"#7201a8\"], [0.3333333333333333, \"#9c179e\"], [0.4444444444444444, \"#bd3786\"], [0.5555555555555556, \"#d8576b\"], [0.6666666666666666, \"#ed7953\"], [0.7777777777777778, \"#fb9f3a\"], [0.8888888888888888, \"#fdca26\"], [1.0, \"#f0f921\"]], \"type\": \"contour\"}], \"contourcarpet\": [{\"colorbar\": {\"outlinewidth\": 0, \"ticks\": \"\"}, \"type\": \"contourcarpet\"}], \"heatmap\": [{\"colorbar\": {\"outlinewidth\": 0, \"ticks\": \"\"}, \"colorscale\": [[0.0, \"#0d0887\"], [0.1111111111111111, \"#46039f\"], [0.2222222222222222, \"#7201a8\"], [0.3333333333333333, \"#9c179e\"], [0.4444444444444444, \"#bd3786\"], [0.5555555555555556, \"#d8576b\"], [0.6666666666666666, \"#ed7953\"], [0.7777777777777778, \"#fb9f3a\"], [0.8888888888888888, \"#fdca26\"], [1.0, \"#f0f921\"]], \"type\": \"heatmap\"}], \"heatmapgl\": [{\"colorbar\": {\"outlinewidth\": 0, \"ticks\": \"\"}, \"colorscale\": [[0.0, \"#0d0887\"], [0.1111111111111111, \"#46039f\"], [0.2222222222222222, \"#7201a8\"], [0.3333333333333333, \"#9c179e\"], [0.4444444444444444, \"#bd3786\"], [0.5555555555555556, \"#d8576b\"], [0.6666666666666666, \"#ed7953\"], [0.7777777777777778, \"#fb9f3a\"], [0.8888888888888888, \"#fdca26\"], [1.0, \"#f0f921\"]], \"type\": \"heatmapgl\"}], \"histogram\": [{\"marker\": {\"colorbar\": {\"outlinewidth\": 0, \"ticks\": \"\"}}, \"type\": \"histogram\"}], \"histogram2d\": [{\"colorbar\": {\"outlinewidth\": 0, \"ticks\": \"\"}, \"colorscale\": [[0.0, \"#0d0887\"], [0.1111111111111111, \"#46039f\"], [0.2222222222222222, \"#7201a8\"], [0.3333333333333333, \"#9c179e\"], [0.4444444444444444, \"#bd3786\"], [0.5555555555555556, \"#d8576b\"], [0.6666666666666666, \"#ed7953\"], [0.7777777777777778, \"#fb9f3a\"], [0.8888888888888888, \"#fdca26\"], [1.0, \"#f0f921\"]], \"type\": \"histogram2d\"}], \"histogram2dcontour\": [{\"colorbar\": {\"outlinewidth\": 0, \"ticks\": \"\"}, \"colorscale\": [[0.0, \"#0d0887\"], [0.1111111111111111, \"#46039f\"], [0.2222222222222222, \"#7201a8\"], [0.3333333333333333, \"#9c179e\"], [0.4444444444444444, \"#bd3786\"], [0.5555555555555556, \"#d8576b\"], [0.6666666666666666, \"#ed7953\"], [0.7777777777777778, \"#fb9f3a\"], [0.8888888888888888, \"#fdca26\"], [1.0, \"#f0f921\"]], \"type\": \"histogram2dcontour\"}], \"mesh3d\": [{\"colorbar\": {\"outlinewidth\": 0, \"ticks\": \"\"}, \"type\": \"mesh3d\"}], \"parcoords\": [{\"line\": {\"colorbar\": {\"outlinewidth\": 0, \"ticks\": \"\"}}, \"type\": \"parcoords\"}], \"pie\": [{\"automargin\": true, \"type\": \"pie\"}], \"scatter\": [{\"marker\": {\"colorbar\": {\"outlinewidth\": 0, \"ticks\": \"\"}}, \"type\": \"scatter\"}], \"scatter3d\": [{\"line\": {\"colorbar\": {\"outlinewidth\": 0, \"ticks\": \"\"}}, \"marker\": {\"colorbar\": {\"outlinewidth\": 0, \"ticks\": \"\"}}, \"type\": \"scatter3d\"}], \"scattercarpet\": [{\"marker\": {\"colorbar\": {\"outlinewidth\": 0, \"ticks\": \"\"}}, \"type\": \"scattercarpet\"}], \"scattergeo\": [{\"marker\": {\"colorbar\": {\"outlinewidth\": 0, \"ticks\": \"\"}}, \"type\": \"scattergeo\"}], \"scattergl\": [{\"marker\": {\"colorbar\": {\"outlinewidth\": 0, \"ticks\": \"\"}}, \"type\": \"scattergl\"}], \"scattermapbox\": [{\"marker\": {\"colorbar\": {\"outlinewidth\": 0, \"ticks\": \"\"}}, \"type\": \"scattermapbox\"}], \"scatterpolar\": [{\"marker\": {\"colorbar\": {\"outlinewidth\": 0, \"ticks\": \"\"}}, \"type\": \"scatterpolar\"}], \"scatterpolargl\": [{\"marker\": {\"colorbar\": {\"outlinewidth\": 0, \"ticks\": \"\"}}, \"type\": \"scatterpolargl\"}], \"scatterternary\": [{\"marker\": {\"colorbar\": {\"outlinewidth\": 0, \"ticks\": \"\"}}, \"type\": \"scatterternary\"}], \"surface\": [{\"colorbar\": {\"outlinewidth\": 0, \"ticks\": \"\"}, \"colorscale\": [[0.0, \"#0d0887\"], [0.1111111111111111, \"#46039f\"], [0.2222222222222222, \"#7201a8\"], [0.3333333333333333, \"#9c179e\"], [0.4444444444444444, \"#bd3786\"], [0.5555555555555556, \"#d8576b\"], [0.6666666666666666, \"#ed7953\"], [0.7777777777777778, \"#fb9f3a\"], [0.8888888888888888, \"#fdca26\"], [1.0, \"#f0f921\"]], \"type\": \"surface\"}], \"table\": [{\"cells\": {\"fill\": {\"color\": \"#EBF0F8\"}, \"line\": {\"color\": \"white\"}}, \"header\": {\"fill\": {\"color\": \"#C8D4E3\"}, \"line\": {\"color\": \"white\"}}, \"type\": \"table\"}]}, \"layout\": {\"annotationdefaults\": {\"arrowcolor\": \"#2a3f5f\", \"arrowhead\": 0, \"arrowwidth\": 1}, \"coloraxis\": {\"colorbar\": {\"outlinewidth\": 0, \"ticks\": \"\"}}, \"colorscale\": {\"diverging\": [[0, \"#8e0152\"], [0.1, \"#c51b7d\"], [0.2, \"#de77ae\"], [0.3, \"#f1b6da\"], [0.4, \"#fde0ef\"], [0.5, \"#f7f7f7\"], [0.6, \"#e6f5d0\"], [0.7, \"#b8e186\"], [0.8, \"#7fbc41\"], [0.9, \"#4d9221\"], [1, \"#276419\"]], \"sequential\": [[0.0, \"#0d0887\"], [0.1111111111111111, \"#46039f\"], [0.2222222222222222, \"#7201a8\"], [0.3333333333333333, \"#9c179e\"], [0.4444444444444444, \"#bd3786\"], [0.5555555555555556, \"#d8576b\"], [0.6666666666666666, \"#ed7953\"], [0.7777777777777778, \"#fb9f3a\"], [0.8888888888888888, \"#fdca26\"], [1.0, \"#f0f921\"]], \"sequentialminus\": [[0.0, \"#0d0887\"], [0.1111111111111111, \"#46039f\"], [0.2222222222222222, \"#7201a8\"], [0.3333333333333333, \"#9c179e\"], [0.4444444444444444, \"#bd3786\"], [0.5555555555555556, \"#d8576b\"], [0.6666666666666666, \"#ed7953\"], [0.7777777777777778, \"#fb9f3a\"], [0.8888888888888888, \"#fdca26\"], [1.0, \"#f0f921\"]]}, \"colorway\": [\"#636efa\", \"#EF553B\", \"#00cc96\", \"#ab63fa\", \"#FFA15A\", \"#19d3f3\", \"#FF6692\", \"#B6E880\", \"#FF97FF\", \"#FECB52\"], \"font\": {\"color\": \"#2a3f5f\"}, \"geo\": {\"bgcolor\": \"white\", \"lakecolor\": \"white\", \"landcolor\": \"#E5ECF6\", \"showlakes\": true, \"showland\": true, \"subunitcolor\": \"white\"}, \"hoverlabel\": {\"align\": \"left\"}, \"hovermode\": \"closest\", \"mapbox\": {\"style\": \"light\"}, \"paper_bgcolor\": \"white\", \"plot_bgcolor\": \"#E5ECF6\", \"polar\": {\"angularaxis\": {\"gridcolor\": \"white\", \"linecolor\": \"white\", \"ticks\": \"\"}, \"bgcolor\": \"#E5ECF6\", \"radialaxis\": {\"gridcolor\": \"white\", \"linecolor\": \"white\", \"ticks\": \"\"}}, \"scene\": {\"xaxis\": {\"backgroundcolor\": \"#E5ECF6\", \"gridcolor\": \"white\", \"gridwidth\": 2, \"linecolor\": \"white\", \"showbackground\": true, \"ticks\": \"\", \"zerolinecolor\": \"white\"}, \"yaxis\": {\"backgroundcolor\": \"#E5ECF6\", \"gridcolor\": \"white\", \"gridwidth\": 2, \"linecolor\": \"white\", \"showbackground\": true, \"ticks\": \"\", \"zerolinecolor\": \"white\"}, \"zaxis\": {\"backgroundcolor\": \"#E5ECF6\", \"gridcolor\": \"white\", \"gridwidth\": 2, \"linecolor\": \"white\", \"showbackground\": true, \"ticks\": \"\", \"zerolinecolor\": \"white\"}}, \"shapedefaults\": {\"line\": {\"color\": \"#2a3f5f\"}}, \"ternary\": {\"aaxis\": {\"gridcolor\": \"white\", \"linecolor\": \"white\", \"ticks\": \"\"}, \"baxis\": {\"gridcolor\": \"white\", \"linecolor\": \"white\", \"ticks\": \"\"}, \"bgcolor\": \"#E5ECF6\", \"caxis\": {\"gridcolor\": \"white\", \"linecolor\": \"white\", \"ticks\": \"\"}}, \"title\": {\"x\": 0.05}, \"xaxis\": {\"automargin\": true, \"gridcolor\": \"white\", \"linecolor\": \"white\", \"ticks\": \"\", \"title\": {\"standoff\": 15}, \"zerolinecolor\": \"white\", \"zerolinewidth\": 2}, \"yaxis\": {\"automargin\": true, \"gridcolor\": \"white\", \"linecolor\": \"white\", \"ticks\": \"\", \"title\": {\"standoff\": 15}, \"zerolinecolor\": \"white\", \"zerolinewidth\": 2}}}},\n",
       "                        {\"responsive\": true}\n",
       "                    ).then(function(){\n",
       "                            \n",
       "var gd = document.getElementById('6c7c2320-b158-4c35-b197-f55da90861fd');\n",
       "var x = new MutationObserver(function (mutations, observer) {{\n",
       "        var display = window.getComputedStyle(gd).display;\n",
       "        if (!display || display === 'none') {{\n",
       "            console.log([gd, 'removed!']);\n",
       "            Plotly.purge(gd);\n",
       "            observer.disconnect();\n",
       "        }}\n",
       "}});\n",
       "\n",
       "// Listen for the removal of the full notebook cells\n",
       "var notebookContainer = gd.closest('#notebook-container');\n",
       "if (notebookContainer) {{\n",
       "    x.observe(notebookContainer, {childList: true});\n",
       "}}\n",
       "\n",
       "// Listen for the clearing of the current output cell\n",
       "var outputEl = gd.closest('.output');\n",
       "if (outputEl) {{\n",
       "    x.observe(outputEl, {childList: true});\n",
       "}}\n",
       "\n",
       "                        })\n",
       "                };\n",
       "                });\n",
       "            </script>\n",
       "        </div>"
      ]
     },
     "metadata": {},
     "output_type": "display_data"
    }
   ],
   "source": [
    "import plotly.express as px\n",
    "df = px.data.iris()\n",
    "fig = px.scatter_3d(df_results, x='actividades_norm', y='naturaleza_norm', z='familiar_norm',\n",
    "              color='cluster')\n",
    "fig.show()"
   ]
  },
  {
   "cell_type": "code",
   "execution_count": null,
   "metadata": {},
   "outputs": [],
   "source": []
  }
 ],
 "metadata": {
  "kernelspec": {
   "display_name": "Python 3",
   "language": "python",
   "name": "python3"
  },
  "language_info": {
   "codemirror_mode": {
    "name": "ipython",
    "version": 3
   },
   "file_extension": ".py",
   "mimetype": "text/x-python",
   "name": "python",
   "nbconvert_exporter": "python",
   "pygments_lexer": "ipython3",
   "version": "3.7.6"
  }
 },
 "nbformat": 4,
 "nbformat_minor": 4
}
